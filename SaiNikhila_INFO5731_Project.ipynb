{
  "cells": [
    {
      "cell_type": "markdown",
      "metadata": {
        "id": "view-in-github",
        "colab_type": "text"
      },
      "source": [
        "<a href=\"https://colab.research.google.com/github/sainikhila11/SaiNikhila_INFO5731_Spring2024/blob/main/SaiNikhila_INFO5731_Project.ipynb\" target=\"_parent\"><img src=\"https://colab.research.google.com/assets/colab-badge.svg\" alt=\"Open In Colab\"/></a>"
      ]
    },
    {
      "cell_type": "code",
      "execution_count": 3,
      "metadata": {
        "colab": {
          "base_uri": "https://localhost:8080/"
        },
        "id": "uJbEtfqkBXN7",
        "outputId": "352bd4f1-7e1d-4501-a0d5-fa5940b2cf7b"
      },
      "outputs": [
        {
          "output_type": "stream",
          "name": "stdout",
          "text": [
            "Collecting openai==0.28\n",
            "  Downloading openai-0.28.0-py3-none-any.whl (76 kB)\n",
            "\u001b[2K     \u001b[90m━━━━━━━━━━━━━━━━━━━━━━━━━━━━━━━━━━━━━━━━\u001b[0m \u001b[32m76.5/76.5 kB\u001b[0m \u001b[31m1.1 MB/s\u001b[0m eta \u001b[36m0:00:00\u001b[0m\n",
            "\u001b[?25hRequirement already satisfied: requests>=2.20 in /usr/local/lib/python3.10/dist-packages (from openai==0.28) (2.31.0)\n",
            "Requirement already satisfied: tqdm in /usr/local/lib/python3.10/dist-packages (from openai==0.28) (4.66.2)\n",
            "Requirement already satisfied: aiohttp in /usr/local/lib/python3.10/dist-packages (from openai==0.28) (3.9.5)\n",
            "Requirement already satisfied: charset-normalizer<4,>=2 in /usr/local/lib/python3.10/dist-packages (from requests>=2.20->openai==0.28) (3.3.2)\n",
            "Requirement already satisfied: idna<4,>=2.5 in /usr/local/lib/python3.10/dist-packages (from requests>=2.20->openai==0.28) (3.7)\n",
            "Requirement already satisfied: urllib3<3,>=1.21.1 in /usr/local/lib/python3.10/dist-packages (from requests>=2.20->openai==0.28) (2.0.7)\n",
            "Requirement already satisfied: certifi>=2017.4.17 in /usr/local/lib/python3.10/dist-packages (from requests>=2.20->openai==0.28) (2024.2.2)\n",
            "Requirement already satisfied: aiosignal>=1.1.2 in /usr/local/lib/python3.10/dist-packages (from aiohttp->openai==0.28) (1.3.1)\n",
            "Requirement already satisfied: attrs>=17.3.0 in /usr/local/lib/python3.10/dist-packages (from aiohttp->openai==0.28) (23.2.0)\n",
            "Requirement already satisfied: frozenlist>=1.1.1 in /usr/local/lib/python3.10/dist-packages (from aiohttp->openai==0.28) (1.4.1)\n",
            "Requirement already satisfied: multidict<7.0,>=4.5 in /usr/local/lib/python3.10/dist-packages (from aiohttp->openai==0.28) (6.0.5)\n",
            "Requirement already satisfied: yarl<2.0,>=1.0 in /usr/local/lib/python3.10/dist-packages (from aiohttp->openai==0.28) (1.9.4)\n",
            "Requirement already satisfied: async-timeout<5.0,>=4.0 in /usr/local/lib/python3.10/dist-packages (from aiohttp->openai==0.28) (4.0.3)\n",
            "Installing collected packages: openai\n",
            "Successfully installed openai-0.28.0\n"
          ]
        }
      ],
      "source": [
        "pip install openai==0.28"
      ]
    },
    {
      "cell_type": "code",
      "execution_count": null,
      "metadata": {
        "colab": {
          "base_uri": "https://localhost:8080/"
        },
        "id": "Eftizj9AI9tD",
        "outputId": "5902f1bb-1c63-4daa-c6e8-5c8fecefba94"
      },
      "outputs": [
        {
          "name": "stdout",
          "output_type": "stream",
          "text": [
            "Definition for Correctness: Correctness is measured by the semantic similarity between the provided disease description and the suggested disease term. Higher similarity indicates higher correctness.\n",
            "Correctness Score: 0.96\n"
          ]
        }
      ],
      "source": [
        "import pandas as pd\n",
        "import openai\n",
        "from scipy.spatial.distance import cosine\n",
        "\n",
        "# Set your OpenAI API key\n",
        "openai.api_key = 'sk-proj-9hKjQtT6e6orqiwwd10jT3BlbkFJkW2KlXLZ4Ir2B7s6ja5V'\n",
        "\n",
        "# Define the fixed definition for correctness\n",
        "CORRECTNESS_DEFINITION = \"Correctness is measured by the semantic similarity between the provided disease description and the suggested disease term. Higher similarity indicates higher correctness.\"\n",
        "\n",
        "# Load your dataset\n",
        "df = pd.read_excel('/content/Train0.xlsx')\n",
        "\n",
        "# Define a function to get embeddings for a list of texts\n",
        "def get_embeddings(texts, engine=\"text-embedding-ada-002\"):\n",
        "    try:\n",
        "        response = openai.Embedding.create(input=texts, engine=engine)\n",
        "        embeddings = [item['embedding'] for item in response['data']]\n",
        "        return embeddings\n",
        "    except Exception as e:\n",
        "        print(f\"Error getting embeddings: {e}\")\n",
        "        return [None] * len(texts)\n",
        "\n",
        "# Define a function to perform a preliminary context check\n",
        "def preliminary_context_check(description, disease):\n",
        "    try:\n",
        "        response = openai.Completion.create(\n",
        "            model=\"gpt-3.5-turbo-instruct\",\n",
        "            prompt=f\"{CORRECTNESS_DEFINITION}\\n\\nIs the term '{disease}' contextually relevant to the description '{description}'? If not, suggest the most appropriate term.\",\n",
        "            max_tokens=50,\n",
        "            temperature=0.3\n",
        "        )\n",
        "        corrected_term = response.choices[0].text.strip()\n",
        "        return corrected_term\n",
        "    except Exception as e:\n",
        "        print(f\"Error querying OpenAI for preliminary context: {e}\")\n",
        "        return \"Error\"\n",
        "\n",
        "# Apply the validation function to the dataset\n",
        "correctness_values = []\n",
        "for _, row in df.iterrows():\n",
        "    corrected_term = preliminary_context_check(row['Description'], row['Disease'])\n",
        "    description_embedding = get_embeddings([row['Description']])\n",
        "    disease_embedding = get_embeddings([row['Disease']])\n",
        "    description_emb = description_embedding[0]\n",
        "    disease_emb = disease_embedding[0]\n",
        "    if description_emb is not None and disease_emb is not None:\n",
        "        similarity = 1 - cosine(description_emb, disease_emb)\n",
        "        correctness_values.append(similarity)\n",
        "    else:\n",
        "        correctness_values.append(None)\n",
        "\n",
        "# Calculate Correctness Score\n",
        "correctness_score = sum(correctness_values) / len(correctness_values)\n",
        "\n",
        "# Print Correctness Score and the definition\n",
        "print(f\"Definition for Correctness: {CORRECTNESS_DEFINITION}\")\n",
        "print(f\"Correctness Score: {round(correctness_score, 2)}\")\n"
      ]
    },
    {
      "cell_type": "code",
      "execution_count": null,
      "metadata": {
        "colab": {
          "base_uri": "https://localhost:8080/"
        },
        "id": "9MSuyIsDZ4HA",
        "outputId": "65e1f9bd-4249-47e4-ae60-188c750e9d43"
      },
      "outputs": [
        {
          "name": "stderr",
          "output_type": "stream",
          "text": [
            "Processing: 100%|██████████| 4817/4817 [1:10:13<00:00,  1.14it/s]"
          ]
        },
        {
          "name": "stdout",
          "output_type": "stream",
          "text": [
            "Definition for Correctness: Correctness is measured by the semantic similarity between the provided disease description and the suggested disease term. Higher similarity indicates higher correctness.\n",
            "Correctness Score: 0.96\n"
          ]
        },
        {
          "name": "stderr",
          "output_type": "stream",
          "text": [
            "\n"
          ]
        }
      ],
      "source": [
        "import pandas as pd\n",
        "import openai\n",
        "from scipy.spatial.distance import cosine\n",
        "from tqdm import tqdm  # Import tqdm for progress tracking\n",
        "\n",
        "# Set your OpenAI API key\n",
        "openai.api_key = 'sk-proj-9hKjQtT6e6orqiwwd10jT3BlbkFJkW2KlXLZ4Ir2B7s6ja5V'\n",
        "\n",
        "# Define the fixed definition for correctness\n",
        "CORRECTNESS_DEFINITION = \"Correctness is measured by the semantic similarity between the provided disease description and the suggested disease term. Higher similarity indicates higher correctness.\"\n",
        "\n",
        "# Load your dataset\n",
        "df = pd.read_excel('/content/Train1.xlsx')\n",
        "\n",
        "# Define a function to get embeddings for a list of texts\n",
        "def get_embeddings(texts, engine=\"text-embedding-ada-002\"):\n",
        "    try:\n",
        "        response = openai.Embedding.create(input=texts, engine=engine)\n",
        "        embeddings = [item['embedding'] for item in response['data']]\n",
        "        return embeddings\n",
        "    except Exception as e:\n",
        "        print(f\"Error getting embeddings: {e}\")\n",
        "        return [None] * len(texts)\n",
        "\n",
        "# Define a function to perform a preliminary context check\n",
        "def preliminary_context_check(description, disease):\n",
        "    try:\n",
        "        response = openai.Completion.create(\n",
        "            model=\"gpt-3.5-turbo-instruct\",\n",
        "            prompt=f\"{CORRECTNESS_DEFINITION}\\n\\nIs the term '{disease}' contextually relevant to the description '{description}'? If not, suggest the most appropriate term.\",\n",
        "            max_tokens=50,\n",
        "            temperature=0.3\n",
        "        )\n",
        "        corrected_term = response.choices[0].text.strip()\n",
        "        return corrected_term\n",
        "    except Exception as e:\n",
        "        print(f\"Error querying OpenAI for preliminary context: {e}\")\n",
        "        return \"Error\"\n",
        "\n",
        "# Apply the validation function to the dataset\n",
        "correctness_values = []\n",
        "total_iterations = len(df)  # Get total number of iterations\n",
        "with tqdm(total=total_iterations, desc=\"Processing\") as pbar:  # Initialize progress bar\n",
        "    for _, row in df.iterrows():\n",
        "        corrected_term = preliminary_context_check(row['Description'], row['Disease'])\n",
        "        description_embedding = get_embeddings([row['Description']])\n",
        "        disease_embedding = get_embeddings([row['Disease']])\n",
        "        description_emb = description_embedding[0]\n",
        "        disease_emb = disease_embedding[0]\n",
        "        if description_emb is not None and disease_emb is not None:\n",
        "            similarity = 1 - cosine(description_emb, disease_emb)\n",
        "            correctness_values.append(similarity)\n",
        "        else:\n",
        "            correctness_values.append(None)\n",
        "        pbar.update(1)  # Update progress bar\n",
        "\n",
        "# Calculate Correctness Score\n",
        "correctness_score = sum(correctness_values) / len(correctness_values)\n",
        "\n",
        "# Print Correctness Score and the definition\n",
        "print(f\"Definition for Correctness: {CORRECTNESS_DEFINITION}\")\n",
        "print(f\"Correctness Score: {round(correctness_score, 2)}\")\n"
      ]
    },
    {
      "cell_type": "code",
      "execution_count": null,
      "metadata": {
        "colab": {
          "background_save": true,
          "base_uri": "https://localhost:8080/"
        },
        "id": "X5Jps0A_q6QJ",
        "outputId": "a8233d2c-db62-43dc-c5a2-03d25574df23"
      },
      "outputs": [
        {
          "name": "stderr",
          "output_type": "stream",
          "text": [
            "Processing: 100%|██████████| 4791/4791 [1:43:05<00:00,  1.29s/it]"
          ]
        },
        {
          "name": "stdout",
          "output_type": "stream",
          "text": [
            "Definition for Correctness: Correctness is measured by the semantic similarity between the provided disease description and the suggested disease term. Higher similarity indicates higher correctness.\n",
            "Correctness Score: 0.96\n"
          ]
        },
        {
          "name": "stderr",
          "output_type": "stream",
          "text": [
            "\n"
          ]
        }
      ],
      "source": [
        "import pandas as pd\n",
        "import openai\n",
        "from scipy.spatial.distance import cosine\n",
        "from tqdm import tqdm  # Import tqdm for progress tracking\n",
        "\n",
        "# Set your OpenAI API key\n",
        "openai.api_key = 'sk-proj-9hKjQtT6e6orqiwwd10jT3BlbkFJkW2KlXLZ4Ir2B7s6ja5V'\n",
        "\n",
        "# Define the fixed definition for correctness\n",
        "CORRECTNESS_DEFINITION = \"Correctness is measured by the semantic similarity between the provided disease description and the suggested disease term. Higher similarity indicates higher correctness.\"\n",
        "\n",
        "# Load your dataset\n",
        "df = pd.read_excel('/content/Train2.xlsx')\n",
        "\n",
        "# Define a function to get embeddings for a list of texts\n",
        "def get_embeddings(texts, engine=\"text-embedding-ada-002\"):\n",
        "    try:\n",
        "        response = openai.Embedding.create(input=texts, engine=engine)\n",
        "        embeddings = [item['embedding'] for item in response['data']]\n",
        "        return embeddings\n",
        "    except Exception as e:\n",
        "        print(f\"Error getting embeddings: {e}\")\n",
        "        return [None] * len(texts)\n",
        "\n",
        "# Define a function to perform a preliminary context check\n",
        "def preliminary_context_check(description, disease):\n",
        "    try:\n",
        "        response = openai.Completion.create(\n",
        "            model=\"gpt-3.5-turbo-instruct\",\n",
        "            prompt=f\"{CORRECTNESS_DEFINITION}\\n\\nIs the term '{disease}' contextually relevant to the description '{description}'? If not, suggest the most appropriate term.\",\n",
        "            max_tokens=50,\n",
        "            temperature=0.3\n",
        "        )\n",
        "        corrected_term = response.choices[0].text.strip()\n",
        "        return corrected_term\n",
        "    except Exception as e:\n",
        "        print(f\"Error querying OpenAI for preliminary context: {e}\")\n",
        "        return \"Error\"\n",
        "\n",
        "# Apply the validation function to the dataset\n",
        "correctness_values = []\n",
        "total_iterations = len(df)  # Get total number of iterations\n",
        "with tqdm(total=total_iterations, desc=\"Processing\") as pbar:  # Initialize progress bar\n",
        "    for _, row in df.iterrows():\n",
        "        corrected_term = preliminary_context_check(row['Description'], row['Disease'])\n",
        "        description_embedding = get_embeddings([row['Description']])\n",
        "        disease_embedding = get_embeddings([row['Disease']])\n",
        "        description_emb = description_embedding[0]\n",
        "        disease_emb = disease_embedding[0]\n",
        "        if description_emb is not None and disease_emb is not None:\n",
        "            similarity = 1 - cosine(description_emb, disease_emb)\n",
        "            correctness_values.append(similarity)\n",
        "        else:\n",
        "            correctness_values.append(None)\n",
        "        pbar.update(1)  # Update progress bar\n",
        "\n",
        "# Calculate Correctness Score\n",
        "correctness_score = sum(correctness_values) / len(correctness_values)\n",
        "\n",
        "# Print Correctness Score and the definition\n",
        "print(f\"Definition for Correctness: {CORRECTNESS_DEFINITION}\")\n",
        "print(f\"Correctness Score: {round(correctness_score, 2)}\")\n"
      ]
    },
    {
      "cell_type": "code",
      "execution_count": null,
      "metadata": {
        "colab": {
          "base_uri": "https://localhost:8080/"
        },
        "id": "bZ3i46fE5PaI",
        "outputId": "44682276-28ab-46d6-8971-2ef0c46ad31b"
      },
      "outputs": [
        {
          "name": "stderr",
          "output_type": "stream",
          "text": [
            "Processing: 100%|██████████| 4812/4812 [1:08:14<00:00,  1.18it/s]"
          ]
        },
        {
          "name": "stdout",
          "output_type": "stream",
          "text": [
            "Definition for Correctness: Correctness is measured by the semantic similarity between the provided disease description and the suggested disease term. Higher similarity indicates higher correctness.\n",
            "Correctness Score: 0.9641\n"
          ]
        },
        {
          "name": "stderr",
          "output_type": "stream",
          "text": [
            "\n"
          ]
        }
      ],
      "source": [
        "import pandas as pd\n",
        "import openai\n",
        "from scipy.spatial.distance import cosine\n",
        "from tqdm import tqdm  # Import tqdm for progress tracking\n",
        "\n",
        "# Set your OpenAI API key\n",
        "openai.api_key = 'sk-proj-9hKjQtT6e6orqiwwd10jT3BlbkFJkW2KlXLZ4Ir2B7s6ja5V'\n",
        "\n",
        "# Define the fixed definition for correctness\n",
        "CORRECTNESS_DEFINITION = \"Correctness is measured by the semantic similarity between the provided disease description and the suggested disease term. Higher similarity indicates higher correctness.\"\n",
        "\n",
        "# Load your dataset\n",
        "df = pd.read_excel('/content/Train3.xlsx')\n",
        "\n",
        "# Define a function to get embeddings for a list of texts\n",
        "def get_embeddings(texts, engine=\"text-embedding-ada-002\"):\n",
        "    try:\n",
        "        response = openai.Embedding.create(input=texts, engine=engine)\n",
        "        embeddings = [item['embedding'] for item in response['data']]\n",
        "        return embeddings\n",
        "    except Exception as e:\n",
        "        print(f\"Error getting embeddings: {e}\")\n",
        "        return [None] * len(texts)\n",
        "\n",
        "# Define a function to perform a preliminary context check\n",
        "def preliminary_context_check(description, disease):\n",
        "    try:\n",
        "        response = openai.Completion.create(\n",
        "            model=\"gpt-3.5-turbo-instruct\",\n",
        "            prompt=f\"{CORRECTNESS_DEFINITION}\\n\\nIs the term '{disease}' contextually relevant to the description '{description}'? If not, suggest the most appropriate term.\",\n",
        "            max_tokens=50,\n",
        "            temperature=0.3\n",
        "        )\n",
        "        corrected_term = response.choices[0].text.strip()\n",
        "        return corrected_term\n",
        "    except Exception as e:\n",
        "        print(f\"Error querying OpenAI for preliminary context: {e}\")\n",
        "        return \"Error\"\n",
        "\n",
        "# Apply the validation function to the dataset\n",
        "correctness_values = []\n",
        "total_iterations = len(df)  # Get total number of iterations\n",
        "with tqdm(total=total_iterations, desc=\"Processing\") as pbar:  # Initialize progress bar\n",
        "    for _, row in df.iterrows():\n",
        "        corrected_term = preliminary_context_check(row['Description'], row['Disease'])\n",
        "        description_embedding = get_embeddings([row['Description']])\n",
        "        disease_embedding = get_embeddings([row['Disease']])\n",
        "        description_emb = description_embedding[0]\n",
        "        disease_emb = disease_embedding[0]\n",
        "        if description_emb is not None and disease_emb is not None:\n",
        "            similarity = 1 - cosine(description_emb, disease_emb)\n",
        "            correctness_values.append(similarity)\n",
        "        else:\n",
        "            correctness_values.append(None)\n",
        "        pbar.update(1)  # Update progress bar\n",
        "\n",
        "# Calculate Correctness Score\n",
        "correctness_score = sum(correctness_values) / len(correctness_values)\n",
        "\n",
        "# Print Correctness Score and the definition\n",
        "print(f\"Definition for Correctness: {CORRECTNESS_DEFINITION}\")\n",
        "print(f\"Correctness Score: {round(correctness_score, 4)}\")\n"
      ]
    },
    {
      "cell_type": "code",
      "execution_count": null,
      "metadata": {
        "colab": {
          "base_uri": "https://localhost:8080/"
        },
        "id": "mll4rwPcKP8t",
        "outputId": "ae96d852-439f-429b-d8bf-f04cc0250061"
      },
      "outputs": [
        {
          "name": "stderr",
          "output_type": "stream",
          "text": [
            "Processing: 100%|██████████| 4811/4811 [1:07:15<00:00,  1.19it/s]"
          ]
        },
        {
          "name": "stdout",
          "output_type": "stream",
          "text": [
            "Definition for Correctness: Correctness is measured by the semantic similarity between the provided disease description and the suggested disease term. Higher similarity indicates higher correctness.\n",
            "Correctness Score: 0.9638\n"
          ]
        },
        {
          "name": "stderr",
          "output_type": "stream",
          "text": [
            "\n"
          ]
        }
      ],
      "source": [
        "import pandas as pd\n",
        "import openai\n",
        "from scipy.spatial.distance import cosine\n",
        "from tqdm import tqdm  # Import tqdm for progress tracking\n",
        "\n",
        "# Set your OpenAI API key\n",
        "openai.api_key = 'sk-proj-9hKjQtT6e6orqiwwd10jT3BlbkFJkW2KlXLZ4Ir2B7s6ja5V'\n",
        "\n",
        "# Define the fixed definition for correctness\n",
        "CORRECTNESS_DEFINITION = \"Correctness is measured by the semantic similarity between the provided disease description and the suggested disease term. Higher similarity indicates higher correctness.\"\n",
        "\n",
        "# Load your dataset\n",
        "df = pd.read_excel('/content/Train4.xlsx')\n",
        "\n",
        "# Define a function to get embeddings for a list of texts\n",
        "def get_embeddings(texts, engine=\"text-embedding-ada-002\"):\n",
        "    try:\n",
        "        response = openai.Embedding.create(input=texts, engine=engine)\n",
        "        embeddings = [item['embedding'] for item in response['data']]\n",
        "        return embeddings\n",
        "    except Exception as e:\n",
        "        print(f\"Error getting embeddings: {e}\")\n",
        "        return [None] * len(texts)\n",
        "\n",
        "# Define a function to perform a preliminary context check\n",
        "def preliminary_context_check(description, disease):\n",
        "    try:\n",
        "        response = openai.Completion.create(\n",
        "            model=\"gpt-3.5-turbo-instruct\",\n",
        "            prompt=f\"{CORRECTNESS_DEFINITION}\\n\\nIs the term '{disease}' contextually relevant to the description '{description}'? If not, suggest the most appropriate term.\",\n",
        "            max_tokens=50,\n",
        "            temperature=0.3\n",
        "        )\n",
        "        corrected_term = response.choices[0].text.strip()\n",
        "        return corrected_term\n",
        "    except Exception as e:\n",
        "        print(f\"Error querying OpenAI for preliminary context: {e}\")\n",
        "        return \"Error\"\n",
        "\n",
        "# Apply the validation function to the dataset\n",
        "correctness_values = []\n",
        "total_iterations = len(df)  # Get total number of iterations\n",
        "with tqdm(total=total_iterations, desc=\"Processing\") as pbar:  # Initialize progress bar\n",
        "    for _, row in df.iterrows():\n",
        "        corrected_term = preliminary_context_check(row['Description'], row['Disease'])\n",
        "        description_embedding = get_embeddings([row['Description']])\n",
        "        disease_embedding = get_embeddings([row['Disease']])\n",
        "        description_emb = description_embedding[0]\n",
        "        disease_emb = disease_embedding[0]\n",
        "        if description_emb is not None and disease_emb is not None:\n",
        "            similarity = 1 - cosine(description_emb, disease_emb)\n",
        "            correctness_values.append(similarity)\n",
        "        else:\n",
        "            correctness_values.append(None)\n",
        "        pbar.update(1)  # Update progress bar\n",
        "\n",
        "# Calculate Correctness Score\n",
        "correctness_score = sum(correctness_values) / len(correctness_values)\n",
        "\n",
        "# Print Correctness Score and the definition\n",
        "print(f\"Definition for Correctness: {CORRECTNESS_DEFINITION}\")\n",
        "print(f\"Correctness Score: {round(correctness_score, 4)}\")\n"
      ]
    },
    {
      "cell_type": "code",
      "execution_count": null,
      "metadata": {
        "colab": {
          "base_uri": "https://localhost:8080/"
        },
        "id": "IsmPBAYjZuUM",
        "outputId": "f5cbb5f9-78e2-405b-ddbd-199966bb2200"
      },
      "outputs": [
        {
          "name": "stderr",
          "output_type": "stream",
          "text": [
            "Processing: 100%|██████████| 4801/4801 [1:06:45<00:00,  1.20it/s]"
          ]
        },
        {
          "name": "stdout",
          "output_type": "stream",
          "text": [
            "Definition for Correctness: Correctness is measured by the semantic similarity between the provided disease description and the suggested disease term. Higher similarity indicates higher correctness.\n",
            "Correctness Score: 0.9643\n"
          ]
        },
        {
          "name": "stderr",
          "output_type": "stream",
          "text": [
            "\n"
          ]
        }
      ],
      "source": [
        "import pandas as pd\n",
        "import openai\n",
        "from scipy.spatial.distance import cosine\n",
        "from tqdm import tqdm  # Import tqdm for progress tracking\n",
        "\n",
        "# Set your OpenAI API key\n",
        "openai.api_key = 'sk-proj-9hKjQtT6e6orqiwwd10jT3BlbkFJkW2KlXLZ4Ir2B7s6ja5V'\n",
        "\n",
        "# Define the fixed definition for correctness\n",
        "CORRECTNESS_DEFINITION = \"Correctness is measured by the semantic similarity between the provided disease description and the suggested disease term. Higher similarity indicates higher correctness.\"\n",
        "\n",
        "# Load your dataset\n",
        "df = pd.read_excel('/content/Train5.xlsx')\n",
        "\n",
        "# Define a function to get embeddings for a list of texts\n",
        "def get_embeddings(texts, engine=\"text-embedding-ada-002\"):\n",
        "    try:\n",
        "        response = openai.Embedding.create(input=texts, engine=engine)\n",
        "        embeddings = [item['embedding'] for item in response['data']]\n",
        "        return embeddings\n",
        "    except Exception as e:\n",
        "        print(f\"Error getting embeddings: {e}\")\n",
        "        return [None] * len(texts)\n",
        "\n",
        "# Define a function to perform a preliminary context check\n",
        "def preliminary_context_check(description, disease):\n",
        "    try:\n",
        "        response = openai.Completion.create(\n",
        "            model=\"gpt-3.5-turbo-instruct\",\n",
        "            prompt=f\"{CORRECTNESS_DEFINITION}\\n\\nIs the term '{disease}' contextually relevant to the description '{description}'? If not, suggest the most appropriate term.\",\n",
        "            max_tokens=50,\n",
        "            temperature=0.3\n",
        "        )\n",
        "        corrected_term = response.choices[0].text.strip()\n",
        "        return corrected_term\n",
        "    except Exception as e:\n",
        "        print(f\"Error querying OpenAI for preliminary context: {e}\")\n",
        "        return \"Error\"\n",
        "\n",
        "# Apply the validation function to the dataset\n",
        "correctness_values = []\n",
        "total_iterations = len(df)  # Get total number of iterations\n",
        "with tqdm(total=total_iterations, desc=\"Processing\") as pbar:  # Initialize progress bar\n",
        "    for _, row in df.iterrows():\n",
        "        corrected_term = preliminary_context_check(row['Description'], row['Disease'])\n",
        "        description_embedding = get_embeddings([row['Description']])\n",
        "        disease_embedding = get_embeddings([row['Disease']])\n",
        "        description_emb = description_embedding[0]\n",
        "        disease_emb = disease_embedding[0]\n",
        "        if description_emb is not None and disease_emb is not None:\n",
        "            similarity = 1 - cosine(description_emb, disease_emb)\n",
        "            correctness_values.append(similarity)\n",
        "        else:\n",
        "            correctness_values.append(None)\n",
        "        pbar.update(1)  # Update progress bar\n",
        "\n",
        "# Calculate Correctness Score\n",
        "correctness_score = sum(correctness_values) / len(correctness_values)\n",
        "\n",
        "# Print Correctness Score and the definition\n",
        "print(f\"Definition for Correctness: {CORRECTNESS_DEFINITION}\")\n",
        "print(f\"Correctness Score: {round(correctness_score, 4)}\")\n"
      ]
    },
    {
      "cell_type": "code",
      "execution_count": null,
      "metadata": {
        "colab": {
          "base_uri": "https://localhost:8080/"
        },
        "id": "9GqWCpCZzR4W",
        "outputId": "61542bca-f623-485a-88a9-33d842d3a3f0"
      },
      "outputs": [
        {
          "name": "stderr",
          "output_type": "stream",
          "text": [
            "Processing: 100%|██████████| 4819/4819 [1:08:07<00:00,  1.18it/s]"
          ]
        },
        {
          "name": "stdout",
          "output_type": "stream",
          "text": [
            "Definition for Correctness: Correctness is measured by the semantic similarity between the provided disease description and the suggested disease term. Higher similarity indicates higher correctness.\n",
            "Correctness Score: 0.964\n"
          ]
        },
        {
          "name": "stderr",
          "output_type": "stream",
          "text": [
            "\n"
          ]
        }
      ],
      "source": [
        "import pandas as pd\n",
        "import openai\n",
        "from scipy.spatial.distance import cosine\n",
        "from tqdm import tqdm  # Import tqdm for progress tracking\n",
        "\n",
        "# Set your OpenAI API key\n",
        "openai.api_key = 'sk-proj-9hKjQtT6e6orqiwwd10jT3BlbkFJkW2KlXLZ4Ir2B7s6ja5V'\n",
        "\n",
        "# Define the fixed definition for correctness\n",
        "CORRECTNESS_DEFINITION = \"Correctness is measured by the semantic similarity between the provided disease description and the suggested disease term. Higher similarity indicates higher correctness.\"\n",
        "\n",
        "# Load your dataset\n",
        "df = pd.read_excel('/content/Train6.xlsx')\n",
        "\n",
        "# Define a function to get embeddings for a list of texts\n",
        "def get_embeddings(texts, engine=\"text-embedding-ada-002\"):\n",
        "    try:\n",
        "        response = openai.Embedding.create(input=texts, engine=engine)\n",
        "        embeddings = [item['embedding'] for item in response['data']]\n",
        "        return embeddings\n",
        "    except Exception as e:\n",
        "        print(f\"Error getting embeddings: {e}\")\n",
        "        return [None] * len(texts)\n",
        "\n",
        "# Define a function to perform a preliminary context check\n",
        "def preliminary_context_check(description, disease):\n",
        "    try:\n",
        "        response = openai.Completion.create(\n",
        "            model=\"gpt-3.5-turbo-instruct\",\n",
        "            prompt=f\"{CORRECTNESS_DEFINITION}\\n\\nIs the term '{disease}' contextually relevant to the description '{description}'? If not, suggest the most appropriate term.\",\n",
        "            max_tokens=50,\n",
        "            temperature=0.3\n",
        "        )\n",
        "        corrected_term = response.choices[0].text.strip()\n",
        "        return corrected_term\n",
        "    except Exception as e:\n",
        "        print(f\"Error querying OpenAI for preliminary context: {e}\")\n",
        "        return \"Error\"\n",
        "\n",
        "# Apply the validation function to the dataset\n",
        "correctness_values = []\n",
        "total_iterations = len(df)  # Get total number of iterations\n",
        "with tqdm(total=total_iterations, desc=\"Processing\") as pbar:  # Initialize progress bar\n",
        "    for _, row in df.iterrows():\n",
        "        corrected_term = preliminary_context_check(row['Description'], row['Disease'])\n",
        "        description_embedding = get_embeddings([row['Description']])\n",
        "        disease_embedding = get_embeddings([row['Disease']])\n",
        "        description_emb = description_embedding[0]\n",
        "        disease_emb = disease_embedding[0]\n",
        "        if description_emb is not None and disease_emb is not None:\n",
        "            similarity = 1 - cosine(description_emb, disease_emb)\n",
        "            correctness_values.append(similarity)\n",
        "        else:\n",
        "            correctness_values.append(None)\n",
        "        pbar.update(1)  # Update progress bar\n",
        "\n",
        "# Calculate Correctness Score\n",
        "correctness_score = sum(correctness_values) / len(correctness_values)\n",
        "\n",
        "# Print Correctness Score and the definition\n",
        "print(f\"Definition for Correctness: {CORRECTNESS_DEFINITION}\")\n",
        "print(f\"Correctness Score: {round(correctness_score, 4)}\")\n"
      ]
    },
    {
      "cell_type": "code",
      "execution_count": null,
      "metadata": {
        "colab": {
          "base_uri": "https://localhost:8080/"
        },
        "id": "VaRoNNo4FzYu",
        "outputId": "04cdac43-0dd8-46f4-dde1-27c3de33bee1"
      },
      "outputs": [
        {
          "name": "stderr",
          "output_type": "stream",
          "text": [
            "Processing: 100%|██████████| 4790/4790 [1:06:58<00:00,  1.19it/s]"
          ]
        },
        {
          "name": "stdout",
          "output_type": "stream",
          "text": [
            "Definition for Correctness: Correctness is measured by the semantic similarity between the provided disease description and the suggested disease term. Higher similarity indicates higher correctness.\n",
            "Correctness Score: 0.9648\n"
          ]
        },
        {
          "name": "stderr",
          "output_type": "stream",
          "text": [
            "\n"
          ]
        }
      ],
      "source": [
        "import pandas as pd\n",
        "import openai\n",
        "from scipy.spatial.distance import cosine\n",
        "from tqdm import tqdm  # Import tqdm for progress tracking\n",
        "\n",
        "# Set your OpenAI API key\n",
        "openai.api_key = 'sk-proj-9hKjQtT6e6orqiwwd10jT3BlbkFJkW2KlXLZ4Ir2B7s6ja5V'\n",
        "\n",
        "# Define the fixed definition for correctness\n",
        "CORRECTNESS_DEFINITION = \"Correctness is measured by the semantic similarity between the provided disease description and the suggested disease term. Higher similarity indicates higher correctness.\"\n",
        "\n",
        "# Load your dataset\n",
        "df = pd.read_excel('/content/Train7.xlsx')\n",
        "\n",
        "# Define a function to get embeddings for a list of texts\n",
        "def get_embeddings(texts, engine=\"text-embedding-ada-002\"):\n",
        "    try:\n",
        "        response = openai.Embedding.create(input=texts, engine=engine)\n",
        "        embeddings = [item['embedding'] for item in response['data']]\n",
        "        return embeddings\n",
        "    except Exception as e:\n",
        "        print(f\"Error getting embeddings: {e}\")\n",
        "        return [None] * len(texts)\n",
        "\n",
        "# Define a function to perform a preliminary context check\n",
        "def preliminary_context_check(description, disease):\n",
        "    try:\n",
        "        response = openai.Completion.create(\n",
        "            model=\"gpt-3.5-turbo-instruct\",\n",
        "            prompt=f\"{CORRECTNESS_DEFINITION}\\n\\nIs the term '{disease}' contextually relevant to the description '{description}'? If not, suggest the most appropriate term.\",\n",
        "            max_tokens=50,\n",
        "            temperature=0.3\n",
        "        )\n",
        "        corrected_term = response.choices[0].text.strip()\n",
        "        return corrected_term\n",
        "    except Exception as e:\n",
        "        print(f\"Error querying OpenAI for preliminary context: {e}\")\n",
        "        return \"Error\"\n",
        "\n",
        "# Apply the validation function to the dataset\n",
        "correctness_values = []\n",
        "total_iterations = len(df)  # Get total number of iterations\n",
        "with tqdm(total=total_iterations, desc=\"Processing\") as pbar:  # Initialize progress bar\n",
        "    for _, row in df.iterrows():\n",
        "        corrected_term = preliminary_context_check(row['Description'], row['Disease'])\n",
        "        description_embedding = get_embeddings([row['Description']])\n",
        "        disease_embedding = get_embeddings([row['Disease']])\n",
        "        description_emb = description_embedding[0]\n",
        "        disease_emb = disease_embedding[0]\n",
        "        if description_emb is not None and disease_emb is not None:\n",
        "            similarity = 1 - cosine(description_emb, disease_emb)\n",
        "            correctness_values.append(similarity)\n",
        "        else:\n",
        "            correctness_values.append(None)\n",
        "        pbar.update(1)  # Update progress bar\n",
        "\n",
        "# Calculate Correctness Score\n",
        "correctness_score = sum(correctness_values) / len(correctness_values)\n",
        "\n",
        "# Print Correctness Score and the definition\n",
        "print(f\"Definition for Correctness: {CORRECTNESS_DEFINITION}\")\n",
        "print(f\"Correctness Score: {round(correctness_score, 4)}\")\n"
      ]
    },
    {
      "cell_type": "code",
      "execution_count": null,
      "metadata": {
        "colab": {
          "base_uri": "https://localhost:8080/"
        },
        "id": "sn63ltUsXkcL",
        "outputId": "39e2ed05-97dc-4be9-b65e-6d21a1cf8d3b"
      },
      "outputs": [
        {
          "name": "stderr",
          "output_type": "stream",
          "text": [
            "Processing: 100%|██████████| 4788/4788 [1:07:37<00:00,  1.18it/s]"
          ]
        },
        {
          "name": "stdout",
          "output_type": "stream",
          "text": [
            "Definition for Correctness: Correctness is measured by the semantic similarity between the provided disease description and the suggested disease term. Higher similarity indicates higher correctness.\n",
            "Correctness Score: 0.9647\n"
          ]
        },
        {
          "name": "stderr",
          "output_type": "stream",
          "text": [
            "\n"
          ]
        }
      ],
      "source": [
        "import pandas as pd\n",
        "import openai\n",
        "from scipy.spatial.distance import cosine\n",
        "from tqdm import tqdm  # Import tqdm for progress tracking\n",
        "\n",
        "# Set your OpenAI API key\n",
        "openai.api_key = 'sk-proj-9hKjQtT6e6orqiwwd10jT3BlbkFJkW2KlXLZ4Ir2B7s6ja5V'\n",
        "\n",
        "# Define the fixed definition for correctness\n",
        "CORRECTNESS_DEFINITION = \"Correctness is measured by the semantic similarity between the provided disease description and the suggested disease term. Higher similarity indicates higher correctness.\"\n",
        "\n",
        "# Load your dataset\n",
        "df = pd.read_excel('/content/Train8.xlsx')\n",
        "\n",
        "# Define a function to get embeddings for a list of texts\n",
        "def get_embeddings(texts, engine=\"text-embedding-ada-002\"):\n",
        "    try:\n",
        "        response = openai.Embedding.create(input=texts, engine=engine)\n",
        "        embeddings = [item['embedding'] for item in response['data']]\n",
        "        return embeddings\n",
        "    except Exception as e:\n",
        "        print(f\"Error getting embeddings: {e}\")\n",
        "        return [None] * len(texts)\n",
        "\n",
        "# Define a function to perform a preliminary context check\n",
        "def preliminary_context_check(description, disease):\n",
        "    try:\n",
        "        response = openai.Completion.create(\n",
        "            model=\"gpt-3.5-turbo-instruct\",\n",
        "            prompt=f\"{CORRECTNESS_DEFINITION}\\n\\nIs the term '{disease}' contextually relevant to the description '{description}'? If not, suggest the most appropriate term.\",\n",
        "            max_tokens=50,\n",
        "            temperature=0.3\n",
        "        )\n",
        "        corrected_term = response.choices[0].text.strip()\n",
        "        return corrected_term\n",
        "    except Exception as e:\n",
        "        print(f\"Error querying OpenAI for preliminary context: {e}\")\n",
        "        return \"Error\"\n",
        "\n",
        "# Apply the validation function to the dataset\n",
        "correctness_values = []\n",
        "total_iterations = len(df)  # Get total number of iterations\n",
        "with tqdm(total=total_iterations, desc=\"Processing\") as pbar:  # Initialize progress bar\n",
        "    for _, row in df.iterrows():\n",
        "        corrected_term = preliminary_context_check(row['Description'], row['Disease'])\n",
        "        description_embedding = get_embeddings([row['Description']])\n",
        "        disease_embedding = get_embeddings([row['Disease']])\n",
        "        description_emb = description_embedding[0]\n",
        "        disease_emb = disease_embedding[0]\n",
        "        if description_emb is not None and disease_emb is not None:\n",
        "            similarity = 1 - cosine(description_emb, disease_emb)\n",
        "            correctness_values.append(similarity)\n",
        "        else:\n",
        "            correctness_values.append(None)\n",
        "        pbar.update(1)  # Update progress bar\n",
        "\n",
        "# Calculate Correctness Score\n",
        "correctness_score = sum(correctness_values) / len(correctness_values)\n",
        "\n",
        "# Print Correctness Score and the definition\n",
        "print(f\"Definition for Correctness: {CORRECTNESS_DEFINITION}\")\n",
        "print(f\"Correctness Score: {round(correctness_score, 4)}\")"
      ]
    },
    {
      "cell_type": "code",
      "execution_count": null,
      "metadata": {
        "colab": {
          "base_uri": "https://localhost:8080/"
        },
        "id": "kN_XDD7qYHxf",
        "outputId": "dda1a6f5-3457-4dc1-ecab-e207c62588df"
      },
      "outputs": [
        {
          "name": "stderr",
          "output_type": "stream",
          "text": [
            "Processing: 100%|██████████| 4812/4812 [1:09:54<00:00,  1.15it/s]"
          ]
        },
        {
          "name": "stdout",
          "output_type": "stream",
          "text": [
            "Definition for Correctness: Correctness is measured by the semantic similarity between the provided disease description and the suggested disease term. Higher similarity indicates higher correctness.\n",
            "Correctness Score: 0.964\n"
          ]
        },
        {
          "name": "stderr",
          "output_type": "stream",
          "text": [
            "\n"
          ]
        }
      ],
      "source": [
        "import pandas as pd\n",
        "import openai\n",
        "from scipy.spatial.distance import cosine\n",
        "from tqdm import tqdm  # Import tqdm for progress tracking\n",
        "\n",
        "# Set your OpenAI API key\n",
        "openai.api_key = 'sk-proj-9hKjQtT6e6orqiwwd10jT3BlbkFJkW2KlXLZ4Ir2B7s6ja5V'\n",
        "\n",
        "# Define the fixed definition for correctness\n",
        "CORRECTNESS_DEFINITION = \"Correctness is measured by the semantic similarity between the provided disease description and the suggested disease term. Higher similarity indicates higher correctness.\"\n",
        "\n",
        "# Load your dataset\n",
        "df = pd.read_excel('/content/Train9.xlsx')\n",
        "\n",
        "# Define a function to get embeddings for a list of texts\n",
        "def get_embeddings(texts, engine=\"text-embedding-ada-002\"):\n",
        "    try:\n",
        "        response = openai.Embedding.create(input=texts, engine=engine)\n",
        "        embeddings = [item['embedding'] for item in response['data']]\n",
        "        return embeddings\n",
        "    except Exception as e:\n",
        "        print(f\"Error getting embeddings: {e}\")\n",
        "        return [None] * len(texts)\n",
        "\n",
        "# Define a function to perform a preliminary context check\n",
        "def preliminary_context_check(description, disease):\n",
        "    try:\n",
        "        response = openai.Completion.create(\n",
        "            model=\"gpt-3.5-turbo-instruct\",\n",
        "            prompt=f\"{CORRECTNESS_DEFINITION}\\n\\nIs the term '{disease}' contextually relevant to the description '{description}'? If not, suggest the most appropriate term.\",\n",
        "            max_tokens=50,\n",
        "            temperature=0.3\n",
        "        )\n",
        "        corrected_term = response.choices[0].text.strip()\n",
        "        return corrected_term\n",
        "    except Exception as e:\n",
        "        print(f\"Error querying OpenAI for preliminary context: {e}\")\n",
        "        return \"Error\"\n",
        "\n",
        "# Apply the validation function to the dataset\n",
        "correctness_values = []\n",
        "total_iterations = len(df)  # Get total number of iterations\n",
        "with tqdm(total=total_iterations, desc=\"Processing\") as pbar:  # Initialize progress bar\n",
        "    for _, row in df.iterrows():\n",
        "        corrected_term = preliminary_context_check(row['Description'], row['Disease'])\n",
        "        description_embedding = get_embeddings([row['Description']])\n",
        "        disease_embedding = get_embeddings([row['Disease']])\n",
        "        description_emb = description_embedding[0]\n",
        "        disease_emb = disease_embedding[0]\n",
        "        if description_emb is not None and disease_emb is not None:\n",
        "            similarity = 1 - cosine(description_emb, disease_emb)\n",
        "            correctness_values.append(similarity)\n",
        "        else:\n",
        "            correctness_values.append(None)\n",
        "        pbar.update(1)  # Update progress bar\n",
        "\n",
        "# Calculate Correctness Score\n",
        "correctness_score = sum(correctness_values) / len(correctness_values)\n",
        "\n",
        "# Print Correctness Score and the definition\n",
        "print(f\"Definition for Correctness: {CORRECTNESS_DEFINITION}\")\n",
        "print(f\"Correctness Score: {round(correctness_score, 4)}\")\n"
      ]
    },
    {
      "cell_type": "code",
      "execution_count": null,
      "metadata": {
        "colab": {
          "base_uri": "https://localhost:8080/"
        },
        "id": "OeWFWiQhE1w6",
        "outputId": "c36a06ba-2ea0-472c-a1ce-d55fca120db7"
      },
      "outputs": [
        {
          "name": "stdout",
          "output_type": "stream",
          "text": [
            "Average Correctness Score: 0.96297\n"
          ]
        }
      ],
      "source": [
        "# Output values from code cells\n",
        "output_scores = [0.96, 0.96, 0.96, 0.9641, 0.9638, 0.9643, 0.964, 0.9648, 0.9647, 0.964]  # Replace these values with your actual output correctness scores\n",
        "\n",
        "# Calculate the average correctness score\n",
        "avg_correctness_score = sum(output_scores) / len(output_scores)\n",
        "\n",
        "# Print the average correctness score\n",
        "print(f\"Average Correctness Score: {round(avg_correctness_score, 5)}\")\n"
      ]
    },
    {
      "cell_type": "code",
      "execution_count": null,
      "metadata": {
        "colab": {
          "base_uri": "https://localhost:8080/"
        },
        "id": "OLWhyuxhh06H",
        "outputId": "ae763402-9671-4f0c-b0b9-95f59187446b"
      },
      "outputs": [
        {
          "name": "stdout",
          "output_type": "stream",
          "text": [
            "Progress: 100.00%  Entries Processed: 4816/4816\n",
            "Uniqueness Score for Train0.xlsx: 0.6341\n",
            "Progress: 100.00%  Entries Processed: 4817/4817\n",
            "Uniqueness Score for Train1.xlsx: 0.6367\n",
            "Progress: 100.00%  Entries Processed: 4791/4791\n",
            "Uniqueness Score for Train2.xlsx: 0.6345\n",
            "Progress: 100.00%  Entries Processed: 4812/4812\n",
            "Uniqueness Score for Train3.xlsx: 0.6330\n",
            "Progress: 100.00%  Entries Processed: 4811/4811\n",
            "Uniqueness Score for Train4.xlsx: 0.6344\n",
            "Progress: 100.00%  Entries Processed: 4801/4801\n",
            "Uniqueness Score for Train5.xlsx: 0.6336\n",
            "Progress: 100.00%  Entries Processed: 4819/4819\n",
            "Uniqueness Score for Train6.xlsx: 0.6339\n",
            "Progress: 100.00%  Entries Processed: 4790/4790\n",
            "Uniqueness Score for Train7.xlsx: 0.6351\n",
            "Progress: 100.00%  Entries Processed: 4788/4788\n",
            "Uniqueness Score for Train8.xlsx: 0.6328\n",
            "Progress: 100.00%  Entries Processed: 4812/4812\n",
            "Uniqueness Score for Train9.xlsx: 0.6363\n",
            "\n",
            "Average Uniqueness Score: 0.6345\n"
          ]
        }
      ],
      "source": [
        "import pandas as pd\n",
        "import openai\n",
        "import os\n",
        "from tqdm import tqdm  # Import tqdm for progress tracking\n",
        "\n",
        "# Set your OpenAI API key\n",
        "openai.api_key = 'sk-proj-9hKjQtT6e6orqiwwd10jT3BlbkFJkW2KlXLZ4Ir2B7s6ja5V'\n",
        "\n",
        "# Define the uniqueness definition\n",
        "UNIQUENESS_DEFINITION = \"Uniqueness is determined by assessing whether each disease-description combination in the dataset is distinct from all other combinations. A unique pair consists of a disease and its corresponding description that does not have an exact match with any other pair in the dataset.\"\n",
        "\n",
        "# Define a function to determine if an entry is unique or a duplicate using ChatGPT\n",
        "def is_unique(entry):\n",
        "    try:\n",
        "        # Generate a prompt asking ChatGPT to check for duplicates of the disease-description combination\n",
        "        prompt = f\"{UNIQUENESS_DEFINITION}\\n\\nAre there any duplicates of the combination 'disease': '{entry['Disease']}' and 'description': '{entry['Description']}' in the dataset?\"\n",
        "\n",
        "        # Call OpenAI API to generate a response\n",
        "        response = openai.Completion.create(\n",
        "            engine=\"gpt-3.5-turbo-instruct\",  # Specify the GPT model\n",
        "            prompt=prompt,\n",
        "            max_tokens=50  # Control the length of the response\n",
        "        )\n",
        "\n",
        "        # Interpret the response\n",
        "        if \"Yes\" in response.choices[0].text.strip():\n",
        "            return False\n",
        "        elif \"No\" in response.choices[0].text.strip():\n",
        "            return True\n",
        "        else:\n",
        "            return False  # Return False if response is unclear\n",
        "    except Exception as e:\n",
        "        print(f\"Error determining uniqueness: {e}\")\n",
        "        return False  # Return False in case of an error\n",
        "\n",
        "# Define a function to extract unique pairs of disease and description\n",
        "def get_unique_pairs(df):\n",
        "    unique_pairs = set()  # Store unique pairs in a set to avoid duplicates\n",
        "    for i, (_, row) in enumerate(df.iterrows(), start=1):\n",
        "        pair = (row['Disease'], row['Description'])\n",
        "        unique_pairs.add(pair)\n",
        "        # Calculate progress\n",
        "        progress = i / len(df) * 100\n",
        "        print(f\"Progress: {progress:.2f}%  Entries Processed: {i}/{len(df)}\", end='\\r')\n",
        "    return unique_pairs\n",
        "\n",
        "# Define a function to calculate uniqueness score for a dataset\n",
        "def calculate_uniqueness_score(dataset_path):\n",
        "    file_name = os.path.basename(dataset_path)\n",
        "    df = pd.read_excel(dataset_path)\n",
        "    unique_pairs = get_unique_pairs(df)\n",
        "    total_entries = len(df)\n",
        "    unique_pairs_count = len(unique_pairs)\n",
        "    uniqueness_score = unique_pairs_count / total_entries\n",
        "    return uniqueness_score, file_name\n",
        "\n",
        "# List of dataset paths\n",
        "dataset_paths = ['/content/Train0.xlsx', '/content/Train1.xlsx', '/content/Train2.xlsx', '/content/Train3.xlsx', '/content/Train4.xlsx', '/content/Train5.xlsx', '/content/Train6.xlsx', '/content/Train7.xlsx', '/content/Train8.xlsx', '/content/Train9.xlsx']\n",
        "\n",
        "# Calculate uniqueness score for each dataset and print individual scores\n",
        "total_uniqueness_score = 0\n",
        "for dataset_path in dataset_paths:\n",
        "    file_name = os.path.basename(dataset_path)\n",
        "    print(f\"Processing {file_name}:\", end='')\n",
        "    uniqueness_score, _ = calculate_uniqueness_score(dataset_path)\n",
        "    total_uniqueness_score += uniqueness_score\n",
        "    print(f\"\\nUniqueness Score for {file_name}: {uniqueness_score:.4f}\")\n",
        "\n",
        "# Calculate and print average uniqueness score\n",
        "avg_uniqueness_score = total_uniqueness_score / len(dataset_paths)\n",
        "print(f\"\\nAverage Uniqueness Score: {avg_uniqueness_score:.4f}\")\n"
      ]
    },
    {
      "cell_type": "code",
      "execution_count": null,
      "metadata": {
        "colab": {
          "base_uri": "https://localhost:8080/"
        },
        "id": "UKpMtyora2J2",
        "outputId": "19852cc4-c96e-4d01-ab1a-30973630932f"
      },
      "outputs": [
        {
          "name": "stderr",
          "output_type": "stream",
          "text": [
            "Calculating Completeness: 100%|██████████| 4816/4816 [40:51<00:00,  1.96entry/s]"
          ]
        },
        {
          "name": "stdout",
          "output_type": "stream",
          "text": [
            "Completeness Score: 0.12682908307229676\n",
            "Definition of Completeness:\n",
            "Completeness refers to the extent to which the provided descriptions cover all relevant aspects of a disease, focusing on aspects such as symptoms, descriptions, and other key diagnostic information.\n"
          ]
        },
        {
          "name": "stderr",
          "output_type": "stream",
          "text": [
            "\n"
          ]
        }
      ],
      "source": [
        "import pandas as pd\n",
        "import openai\n",
        "from tqdm import tqdm  # Import tqdm for progress tracking\n",
        "\n",
        "def load_data(file_path):\n",
        "    \"\"\" Load the Excel file into a DataFrame. \"\"\"\n",
        "    return pd.read_excel(file_path)\n",
        "\n",
        "def evaluate_description_completeness(Disease, Description):\n",
        "    \"\"\" Use OpenAI to evaluate the completeness of descriptions for a given disease. \"\"\"\n",
        "    try:\n",
        "        completeness_definition = \"Completeness refers to the extent to which the provided descriptions cover all relevant aspects of a disease, focusing on aspects such as symptoms, descriptions, and other key diagnostic information.\"\n",
        "\n",
        "        response = openai.Completion.create(\n",
        "            engine=\"gpt-3.5-turbo-instruct\",\n",
        "            prompt=f\"{completeness_definition}\\n\\nEvaluate the completeness of information for the disease '{Disease}' based on the provided descriptions: {Description}\",\n",
        "            max_tokens=50,\n",
        "            temperature=0.3,\n",
        "            stop=[\".\"]\n",
        "        )\n",
        "        return response.choices[0].text.strip()\n",
        "    except Exception as e:\n",
        "        print(f\"Error querying OpenAI: {e}\")\n",
        "        return None\n",
        "\n",
        "\n",
        "def calculate_completeness(df, disease_column='Disease', description_column='Description'):\n",
        "    \"\"\" Calculate completeness scores for descriptions related to each disease. \"\"\"\n",
        "    completeness_scores = []\n",
        "    with tqdm(total=len(df), desc=\"Calculating Completeness\", unit=\"entry\") as pbar:  # Use tqdm for progress tracking\n",
        "        for _, row in df.iterrows():\n",
        "            disease = row[disease_column]\n",
        "            descriptions = row[description_column]\n",
        "            completion_text = evaluate_description_completeness(disease, descriptions)\n",
        "\n",
        "            if completion_text:\n",
        "                completeness_score = len(completion_text) / max(1, len(descriptions))\n",
        "                completeness_scores.append(completeness_score)\n",
        "\n",
        "            pbar.update(1)  # Update progress bar\n",
        "\n",
        "    if completeness_scores:\n",
        "        max_completeness_score = max(completeness_scores)\n",
        "        normalized_completeness_scores = [score / max_completeness_score for score in completeness_scores]\n",
        "        return sum(normalized_completeness_scores) / len(normalized_completeness_scores)\n",
        "    return 0\n",
        "\n",
        "\n",
        "if __name__ == \"__main__\":\n",
        "    openai.api_key = 'sk-proj-FXuohWqQJQkErEjLr7C4T3BlbkFJUL0GDjHi3jCpGxM5S6ru'\n",
        "    dataset_path = '/content/Train0.xlsx'\n",
        "    df = load_data(dataset_path)\n",
        "\n",
        "    completeness_score = calculate_completeness(df)\n",
        "    print(\"Completeness Score:\", completeness_score if completeness_score is not None else \"Error calculating completeness score.\")\n",
        "\n",
        "    completeness_definition = \"Completeness refers to the extent to which the provided descriptions cover all relevant aspects of a disease, focusing on aspects such as symptoms, descriptions, and other key diagnostic information.\"\n",
        "    print(\"Definition of Completeness:\")\n",
        "    print(completeness_definition)\n"
      ]
    },
    {
      "cell_type": "code",
      "execution_count": null,
      "metadata": {
        "colab": {
          "base_uri": "https://localhost:8080/"
        },
        "id": "VpFqJQAJK-NO",
        "outputId": "029d48c2-27eb-4606-c0d8-123507fc72ed"
      },
      "outputs": [
        {
          "name": "stderr",
          "output_type": "stream",
          "text": [
            "Calculating Completeness: 100%|██████████| 4817/4817 [41:07<00:00,  1.95entry/s]"
          ]
        },
        {
          "name": "stdout",
          "output_type": "stream",
          "text": [
            "Completeness Score: 0.11355030425539278\n",
            "Definition of Completeness:\n",
            "Completeness refers to the extent to which the provided descriptions cover all relevant aspects of a disease, focusing on aspects such as symptoms, descriptions, and other key diagnostic information.\n"
          ]
        },
        {
          "name": "stderr",
          "output_type": "stream",
          "text": [
            "\n"
          ]
        }
      ],
      "source": [
        "import pandas as pd\n",
        "import openai\n",
        "from tqdm import tqdm  # Import tqdm for progress tracking\n",
        "\n",
        "def load_data(file_path):\n",
        "    \"\"\" Load the Excel file into a DataFrame. \"\"\"\n",
        "    return pd.read_excel(file_path)\n",
        "\n",
        "def evaluate_description_completeness(Disease, Description):\n",
        "    \"\"\" Use OpenAI to evaluate the completeness of descriptions for a given disease. \"\"\"\n",
        "    try:\n",
        "        completeness_definition = \"Completeness refers to the extent to which the provided descriptions cover all relevant aspects of a disease, focusing on aspects such as symptoms, descriptions, and other key diagnostic information.\"\n",
        "\n",
        "        response = openai.Completion.create(\n",
        "            engine=\"gpt-3.5-turbo-instruct\",\n",
        "            prompt=f\"{completeness_definition}\\n\\nEvaluate the completeness of information for the disease '{Disease}' based on the provided descriptions: {Description}\",\n",
        "            max_tokens=50,\n",
        "            temperature=0.3,\n",
        "            stop=[\".\"]\n",
        "        )\n",
        "        return response.choices[0].text.strip()\n",
        "    except Exception as e:\n",
        "        print(f\"Error querying OpenAI: {e}\")\n",
        "        return None\n",
        "\n",
        "\n",
        "def calculate_completeness(df, disease_column='Disease', description_column='Description'):\n",
        "    \"\"\" Calculate completeness scores for descriptions related to each disease. \"\"\"\n",
        "    completeness_scores = []\n",
        "    with tqdm(total=len(df), desc=\"Calculating Completeness\", unit=\"entry\") as pbar:  # Use tqdm for progress tracking\n",
        "        for _, row in df.iterrows():\n",
        "            disease = row[disease_column]\n",
        "            descriptions = row[description_column]\n",
        "            completion_text = evaluate_description_completeness(disease, descriptions)\n",
        "\n",
        "            if completion_text:\n",
        "                completeness_score = len(completion_text) / max(1, len(descriptions))\n",
        "                completeness_scores.append(completeness_score)\n",
        "\n",
        "            pbar.update(1)  # Update progress bar\n",
        "\n",
        "    if completeness_scores:\n",
        "        max_completeness_score = max(completeness_scores)\n",
        "        normalized_completeness_scores = [score / max_completeness_score for score in completeness_scores]\n",
        "        return sum(normalized_completeness_scores) / len(normalized_completeness_scores)\n",
        "    return 0\n",
        "\n",
        "\n",
        "if __name__ == \"__main__\":\n",
        "    openai.api_key = 'ssk-proj-9hKjQtT6e6orqiwwd10jT3BlbkFJkW2KlXLZ4Ir2B7s6ja5V'\n",
        "    dataset_path = '/content/Train1.xlsx'\n",
        "    df = load_data(dataset_path)\n",
        "\n",
        "    completeness_score = calculate_completeness(df)\n",
        "    print(\"Completeness Score:\", completeness_score if completeness_score is not None else \"Error calculating completeness score.\")\n",
        "\n",
        "    completeness_definition = \"Completeness refers to the extent to which the provided descriptions cover all relevant aspects of a disease, focusing on aspects such as symptoms, descriptions, and other key diagnostic information.\"\n",
        "    print(\"Definition of Completeness:\")\n",
        "    print(completeness_definition)\n"
      ]
    },
    {
      "cell_type": "code",
      "execution_count": null,
      "metadata": {
        "colab": {
          "base_uri": "https://localhost:8080/"
        },
        "id": "hF7FySyiXI32",
        "outputId": "168d9de6-0c8f-43ef-9b2c-2f67489f4c67"
      },
      "outputs": [
        {
          "name": "stderr",
          "output_type": "stream",
          "text": [
            "Calculating Completeness:  85%|████████▌ | 4083/4791 [34:21<06:24,  1.84entry/s]"
          ]
        },
        {
          "name": "stdout",
          "output_type": "stream",
          "text": [
            "Error querying OpenAI: You exceeded your current quota, please check your plan and billing details. For more information on this error, read the docs: https://platform.openai.com/docs/guides/error-codes/api-errors.\n"
          ]
        },
        {
          "name": "stderr",
          "output_type": "stream",
          "text": [
            "\rCalculating Completeness:  85%|████████▌ | 4085/4791 [34:21<05:01,  2.34entry/s]"
          ]
        },
        {
          "name": "stdout",
          "output_type": "stream",
          "text": [
            "Error querying OpenAI: You exceeded your current quota, please check your plan and billing details. For more information on this error, read the docs: https://platform.openai.com/docs/guides/error-codes/api-errors.\n"
          ]
        },
        {
          "name": "stderr",
          "output_type": "stream",
          "text": [
            "Calculating Completeness:  85%|████████▌ | 4088/4791 [34:23<04:45,  2.46entry/s]"
          ]
        },
        {
          "name": "stdout",
          "output_type": "stream",
          "text": [
            "Error querying OpenAI: You exceeded your current quota, please check your plan and billing details. For more information on this error, read the docs: https://platform.openai.com/docs/guides/error-codes/api-errors.\n"
          ]
        },
        {
          "name": "stderr",
          "output_type": "stream",
          "text": [
            "\rCalculating Completeness:  85%|████████▌ | 4090/4791 [34:23<03:54,  2.99entry/s]"
          ]
        },
        {
          "name": "stdout",
          "output_type": "stream",
          "text": [
            "Error querying OpenAI: You exceeded your current quota, please check your plan and billing details. For more information on this error, read the docs: https://platform.openai.com/docs/guides/error-codes/api-errors.\n"
          ]
        },
        {
          "name": "stderr",
          "output_type": "stream",
          "text": [
            "Calculating Completeness:  85%|████████▌ | 4095/4791 [34:25<03:54,  2.97entry/s]"
          ]
        },
        {
          "name": "stdout",
          "output_type": "stream",
          "text": [
            "Error querying OpenAI: You exceeded your current quota, please check your plan and billing details. For more information on this error, read the docs: https://platform.openai.com/docs/guides/error-codes/api-errors.\n"
          ]
        },
        {
          "name": "stderr",
          "output_type": "stream",
          "text": [
            "Calculating Completeness:  86%|████████▌ | 4099/4791 [34:26<03:21,  3.43entry/s]"
          ]
        },
        {
          "name": "stdout",
          "output_type": "stream",
          "text": [
            "Error querying OpenAI: You exceeded your current quota, please check your plan and billing details. For more information on this error, read the docs: https://platform.openai.com/docs/guides/error-codes/api-errors.\n",
            "Error querying OpenAI: You exceeded your current quota, please check your plan and billing details. For more information on this error, read the docs: https://platform.openai.com/docs/guides/error-codes/api-errors.\n"
          ]
        },
        {
          "name": "stderr",
          "output_type": "stream",
          "text": [
            "\rCalculating Completeness:  86%|████████▌ | 4100/4791 [34:27<04:11,  2.74entry/s]"
          ]
        },
        {
          "name": "stdout",
          "output_type": "stream",
          "text": [
            "Error querying OpenAI: You exceeded your current quota, please check your plan and billing details. For more information on this error, read the docs: https://platform.openai.com/docs/guides/error-codes/api-errors.\n"
          ]
        },
        {
          "name": "stderr",
          "output_type": "stream",
          "text": [
            "Calculating Completeness:  86%|████████▌ | 4107/4791 [34:29<02:33,  4.46entry/s]"
          ]
        },
        {
          "name": "stdout",
          "output_type": "stream",
          "text": [
            "Error querying OpenAI: You exceeded your current quota, please check your plan and billing details. For more information on this error, read the docs: https://platform.openai.com/docs/guides/error-codes/api-errors.\n",
            "Error querying OpenAI: You exceeded your current quota, please check your plan and billing details. For more information on this error, read the docs: https://platform.openai.com/docs/guides/error-codes/api-errors.\n",
            "Error querying OpenAI: You exceeded your current quota, please check your plan and billing details. For more information on this error, read the docs: https://platform.openai.com/docs/guides/error-codes/api-errors.\n"
          ]
        },
        {
          "name": "stderr",
          "output_type": "stream",
          "text": [
            "Calculating Completeness:  86%|████████▌ | 4112/4791 [34:30<02:52,  3.93entry/s]"
          ]
        },
        {
          "name": "stdout",
          "output_type": "stream",
          "text": [
            "Error querying OpenAI: You exceeded your current quota, please check your plan and billing details. For more information on this error, read the docs: https://platform.openai.com/docs/guides/error-codes/api-errors.\n",
            "Error querying OpenAI: You exceeded your current quota, please check your plan and billing details. For more information on this error, read the docs: https://platform.openai.com/docs/guides/error-codes/api-errors.\n",
            "Error querying OpenAI: You exceeded your current quota, please check your plan and billing details. For more information on this error, read the docs: https://platform.openai.com/docs/guides/error-codes/api-errors.\n"
          ]
        },
        {
          "name": "stderr",
          "output_type": "stream",
          "text": [
            "Calculating Completeness:  86%|████████▌ | 4116/4791 [34:31<01:45,  6.42entry/s]"
          ]
        },
        {
          "name": "stdout",
          "output_type": "stream",
          "text": [
            "Error querying OpenAI: You exceeded your current quota, please check your plan and billing details. For more information on this error, read the docs: https://platform.openai.com/docs/guides/error-codes/api-errors.\n",
            "Error querying OpenAI: You exceeded your current quota, please check your plan and billing details. For more information on this error, read the docs: https://platform.openai.com/docs/guides/error-codes/api-errors.\n",
            "Error querying OpenAI: You exceeded your current quota, please check your plan and billing details. For more information on this error, read the docs: https://platform.openai.com/docs/guides/error-codes/api-errors.\n"
          ]
        },
        {
          "name": "stderr",
          "output_type": "stream",
          "text": [
            "\rCalculating Completeness:  86%|████████▌ | 4118/4791 [34:31<01:30,  7.42entry/s]"
          ]
        },
        {
          "name": "stdout",
          "output_type": "stream",
          "text": [
            "Error querying OpenAI: You exceeded your current quota, please check your plan and billing details. For more information on this error, read the docs: https://platform.openai.com/docs/guides/error-codes/api-errors.\n",
            "Error querying OpenAI: You exceeded your current quota, please check your plan and billing details. For more information on this error, read the docs: https://platform.openai.com/docs/guides/error-codes/api-errors.\n",
            "Error querying OpenAI: You exceeded your current quota, please check your plan and billing details. For more information on this error, read the docs: https://platform.openai.com/docs/guides/error-codes/api-errors.\n"
          ]
        },
        {
          "name": "stderr",
          "output_type": "stream",
          "text": [
            "Calculating Completeness:  86%|████████▌ | 4121/4791 [34:31<01:18,  8.52entry/s]"
          ]
        },
        {
          "name": "stdout",
          "output_type": "stream",
          "text": [
            "Error querying OpenAI: You exceeded your current quota, please check your plan and billing details. For more information on this error, read the docs: https://platform.openai.com/docs/guides/error-codes/api-errors.\n",
            "Error querying OpenAI: You exceeded your current quota, please check your plan and billing details. For more information on this error, read the docs: https://platform.openai.com/docs/guides/error-codes/api-errors.\n",
            "Error querying OpenAI: You exceeded your current quota, please check your plan and billing details. For more information on this error, read the docs: https://platform.openai.com/docs/guides/error-codes/api-errors.\n"
          ]
        },
        {
          "name": "stderr",
          "output_type": "stream",
          "text": [
            "Calculating Completeness:  86%|████████▌ | 4125/4791 [34:32<01:07,  9.88entry/s]"
          ]
        },
        {
          "name": "stdout",
          "output_type": "stream",
          "text": [
            "Error querying OpenAI: You exceeded your current quota, please check your plan and billing details. For more information on this error, read the docs: https://platform.openai.com/docs/guides/error-codes/api-errors.\n",
            "Error querying OpenAI: You exceeded your current quota, please check your plan and billing details. For more information on this error, read the docs: https://platform.openai.com/docs/guides/error-codes/api-errors.\n",
            "Error querying OpenAI: You exceeded your current quota, please check your plan and billing details. For more information on this error, read the docs: https://platform.openai.com/docs/guides/error-codes/api-errors.\n"
          ]
        },
        {
          "name": "stderr",
          "output_type": "stream",
          "text": [
            "\rCalculating Completeness:  86%|████████▌ | 4127/4791 [34:32<01:07,  9.77entry/s]"
          ]
        },
        {
          "name": "stdout",
          "output_type": "stream",
          "text": [
            "Error querying OpenAI: You exceeded your current quota, please check your plan and billing details. For more information on this error, read the docs: https://platform.openai.com/docs/guides/error-codes/api-errors.\n",
            "Error querying OpenAI: You exceeded your current quota, please check your plan and billing details. For more information on this error, read the docs: https://platform.openai.com/docs/guides/error-codes/api-errors.\n"
          ]
        },
        {
          "name": "stderr",
          "output_type": "stream",
          "text": [
            "\rCalculating Completeness:  86%|████████▌ | 4129/4791 [34:32<01:05, 10.04entry/s]"
          ]
        },
        {
          "name": "stdout",
          "output_type": "stream",
          "text": [
            "Error querying OpenAI: You exceeded your current quota, please check your plan and billing details. For more information on this error, read the docs: https://platform.openai.com/docs/guides/error-codes/api-errors.\n",
            "Error querying OpenAI: You exceeded your current quota, please check your plan and billing details. For more information on this error, read the docs: https://platform.openai.com/docs/guides/error-codes/api-errors.\n",
            "Error querying OpenAI: You exceeded your current quota, please check your plan and billing details. For more information on this error, read the docs: https://platform.openai.com/docs/guides/error-codes/api-errors.\n"
          ]
        },
        {
          "name": "stderr",
          "output_type": "stream",
          "text": [
            "Calculating Completeness:  86%|████████▋ | 4133/4791 [34:32<01:02, 10.55entry/s]"
          ]
        },
        {
          "name": "stdout",
          "output_type": "stream",
          "text": [
            "Error querying OpenAI: You exceeded your current quota, please check your plan and billing details. For more information on this error, read the docs: https://platform.openai.com/docs/guides/error-codes/api-errors.\n",
            "Error querying OpenAI: You exceeded your current quota, please check your plan and billing details. For more information on this error, read the docs: https://platform.openai.com/docs/guides/error-codes/api-errors.\n",
            "Error querying OpenAI: You exceeded your current quota, please check your plan and billing details. For more information on this error, read the docs: https://platform.openai.com/docs/guides/error-codes/api-errors.\n"
          ]
        },
        {
          "name": "stderr",
          "output_type": "stream",
          "text": [
            "\rCalculating Completeness:  86%|████████▋ | 4135/4791 [34:33<01:00, 10.76entry/s]"
          ]
        },
        {
          "name": "stdout",
          "output_type": "stream",
          "text": [
            "Error querying OpenAI: You exceeded your current quota, please check your plan and billing details. For more information on this error, read the docs: https://platform.openai.com/docs/guides/error-codes/api-errors.\n",
            "Error querying OpenAI: You exceeded your current quota, please check your plan and billing details. For more information on this error, read the docs: https://platform.openai.com/docs/guides/error-codes/api-errors.\n",
            "Error querying OpenAI: You exceeded your current quota, please check your plan and billing details. For more information on this error, read the docs: https://platform.openai.com/docs/guides/error-codes/api-errors.\n"
          ]
        },
        {
          "name": "stderr",
          "output_type": "stream",
          "text": [
            "Calculating Completeness:  86%|████████▋ | 4139/4791 [34:33<00:58, 11.06entry/s]"
          ]
        },
        {
          "name": "stdout",
          "output_type": "stream",
          "text": [
            "Error querying OpenAI: You exceeded your current quota, please check your plan and billing details. For more information on this error, read the docs: https://platform.openai.com/docs/guides/error-codes/api-errors.\n",
            "Error querying OpenAI: You exceeded your current quota, please check your plan and billing details. For more information on this error, read the docs: https://platform.openai.com/docs/guides/error-codes/api-errors.\n",
            "Error querying OpenAI: You exceeded your current quota, please check your plan and billing details. For more information on this error, read the docs: https://platform.openai.com/docs/guides/error-codes/api-errors.\n"
          ]
        },
        {
          "name": "stderr",
          "output_type": "stream",
          "text": [
            "\rCalculating Completeness:  86%|████████▋ | 4141/4791 [34:33<00:58, 11.12entry/s]"
          ]
        },
        {
          "name": "stdout",
          "output_type": "stream",
          "text": [
            "Error querying OpenAI: You exceeded your current quota, please check your plan and billing details. For more information on this error, read the docs: https://platform.openai.com/docs/guides/error-codes/api-errors.\n",
            "Error querying OpenAI: You exceeded your current quota, please check your plan and billing details. For more information on this error, read the docs: https://platform.openai.com/docs/guides/error-codes/api-errors.\n",
            "Error querying OpenAI: You exceeded your current quota, please check your plan and billing details. For more information on this error, read the docs: https://platform.openai.com/docs/guides/error-codes/api-errors.\n"
          ]
        },
        {
          "name": "stderr",
          "output_type": "stream",
          "text": [
            "Calculating Completeness:  87%|████████▋ | 4145/4791 [34:33<00:57, 11.22entry/s]"
          ]
        },
        {
          "name": "stdout",
          "output_type": "stream",
          "text": [
            "Error querying OpenAI: You exceeded your current quota, please check your plan and billing details. For more information on this error, read the docs: https://platform.openai.com/docs/guides/error-codes/api-errors.\n",
            "Error querying OpenAI: You exceeded your current quota, please check your plan and billing details. For more information on this error, read the docs: https://platform.openai.com/docs/guides/error-codes/api-errors.\n",
            "Error querying OpenAI: You exceeded your current quota, please check your plan and billing details. For more information on this error, read the docs: https://platform.openai.com/docs/guides/error-codes/api-errors.\n"
          ]
        },
        {
          "name": "stderr",
          "output_type": "stream",
          "text": [
            "\rCalculating Completeness:  87%|████████▋ | 4147/4791 [34:34<00:57, 11.16entry/s]"
          ]
        },
        {
          "name": "stdout",
          "output_type": "stream",
          "text": [
            "Error querying OpenAI: You exceeded your current quota, please check your plan and billing details. For more information on this error, read the docs: https://platform.openai.com/docs/guides/error-codes/api-errors.\n",
            "Error querying OpenAI: You exceeded your current quota, please check your plan and billing details. For more information on this error, read the docs: https://platform.openai.com/docs/guides/error-codes/api-errors.\n",
            "Error querying OpenAI: You exceeded your current quota, please check your plan and billing details. For more information on this error, read the docs: https://platform.openai.com/docs/guides/error-codes/api-errors.\n"
          ]
        },
        {
          "name": "stderr",
          "output_type": "stream",
          "text": [
            "Calculating Completeness:  87%|████████▋ | 4151/4791 [34:34<00:57, 11.11entry/s]"
          ]
        },
        {
          "name": "stdout",
          "output_type": "stream",
          "text": [
            "Error querying OpenAI: You exceeded your current quota, please check your plan and billing details. For more information on this error, read the docs: https://platform.openai.com/docs/guides/error-codes/api-errors.\n",
            "Error querying OpenAI: You exceeded your current quota, please check your plan and billing details. For more information on this error, read the docs: https://platform.openai.com/docs/guides/error-codes/api-errors.\n",
            "Error querying OpenAI: You exceeded your current quota, please check your plan and billing details. For more information on this error, read the docs: https://platform.openai.com/docs/guides/error-codes/api-errors.\n"
          ]
        },
        {
          "name": "stderr",
          "output_type": "stream",
          "text": [
            "\rCalculating Completeness:  87%|████████▋ | 4153/4791 [34:34<00:57, 11.05entry/s]"
          ]
        },
        {
          "name": "stdout",
          "output_type": "stream",
          "text": [
            "Error querying OpenAI: You exceeded your current quota, please check your plan and billing details. For more information on this error, read the docs: https://platform.openai.com/docs/guides/error-codes/api-errors.\n",
            "Error querying OpenAI: You exceeded your current quota, please check your plan and billing details. For more information on this error, read the docs: https://platform.openai.com/docs/guides/error-codes/api-errors.\n",
            "Error querying OpenAI: You exceeded your current quota, please check your plan and billing details. For more information on this error, read the docs: https://platform.openai.com/docs/guides/error-codes/api-errors.\n"
          ]
        },
        {
          "name": "stderr",
          "output_type": "stream",
          "text": [
            "\rCalculating Completeness:  87%|████████▋ | 4155/4791 [34:34<00:58, 10.88entry/s]"
          ]
        },
        {
          "name": "stdout",
          "output_type": "stream",
          "text": [
            "Error querying OpenAI: You exceeded your current quota, please check your plan and billing details. For more information on this error, read the docs: https://platform.openai.com/docs/guides/error-codes/api-errors.\n",
            "Error querying OpenAI: You exceeded your current quota, please check your plan and billing details. For more information on this error, read the docs: https://platform.openai.com/docs/guides/error-codes/api-errors.\n"
          ]
        },
        {
          "name": "stderr",
          "output_type": "stream",
          "text": [
            "\rCalculating Completeness:  87%|████████▋ | 4157/4791 [34:35<01:00, 10.54entry/s]"
          ]
        },
        {
          "name": "stdout",
          "output_type": "stream",
          "text": [
            "Error querying OpenAI: You exceeded your current quota, please check your plan and billing details. For more information on this error, read the docs: https://platform.openai.com/docs/guides/error-codes/api-errors.\n",
            "Error querying OpenAI: You exceeded your current quota, please check your plan and billing details. For more information on this error, read the docs: https://platform.openai.com/docs/guides/error-codes/api-errors.\n"
          ]
        },
        {
          "name": "stderr",
          "output_type": "stream",
          "text": [
            "Calculating Completeness:  87%|████████▋ | 4161/4791 [34:35<00:59, 10.61entry/s]"
          ]
        },
        {
          "name": "stdout",
          "output_type": "stream",
          "text": [
            "Error querying OpenAI: You exceeded your current quota, please check your plan and billing details. For more information on this error, read the docs: https://platform.openai.com/docs/guides/error-codes/api-errors.\n",
            "Error querying OpenAI: You exceeded your current quota, please check your plan and billing details. For more information on this error, read the docs: https://platform.openai.com/docs/guides/error-codes/api-errors.\n",
            "Error querying OpenAI: You exceeded your current quota, please check your plan and billing details. For more information on this error, read the docs: https://platform.openai.com/docs/guides/error-codes/api-errors.\n"
          ]
        },
        {
          "name": "stderr",
          "output_type": "stream",
          "text": [
            "\rCalculating Completeness:  87%|████████▋ | 4163/4791 [34:35<00:58, 10.82entry/s]"
          ]
        },
        {
          "name": "stdout",
          "output_type": "stream",
          "text": [
            "Error querying OpenAI: You exceeded your current quota, please check your plan and billing details. For more information on this error, read the docs: https://platform.openai.com/docs/guides/error-codes/api-errors.\n",
            "Error querying OpenAI: You exceeded your current quota, please check your plan and billing details. For more information on this error, read the docs: https://platform.openai.com/docs/guides/error-codes/api-errors.\n",
            "Error querying OpenAI: You exceeded your current quota, please check your plan and billing details. For more information on this error, read the docs: https://platform.openai.com/docs/guides/error-codes/api-errors.\n"
          ]
        },
        {
          "name": "stderr",
          "output_type": "stream",
          "text": [
            "Calculating Completeness:  87%|████████▋ | 4167/4791 [34:35<00:55, 11.15entry/s]"
          ]
        },
        {
          "name": "stdout",
          "output_type": "stream",
          "text": [
            "Error querying OpenAI: You exceeded your current quota, please check your plan and billing details. For more information on this error, read the docs: https://platform.openai.com/docs/guides/error-codes/api-errors.\n",
            "Error querying OpenAI: You exceeded your current quota, please check your plan and billing details. For more information on this error, read the docs: https://platform.openai.com/docs/guides/error-codes/api-errors.\n",
            "Error querying OpenAI: You exceeded your current quota, please check your plan and billing details. For more information on this error, read the docs: https://platform.openai.com/docs/guides/error-codes/api-errors.\n"
          ]
        },
        {
          "name": "stderr",
          "output_type": "stream",
          "text": [
            "\rCalculating Completeness:  87%|████████▋ | 4169/4791 [34:36<01:06,  9.30entry/s]"
          ]
        },
        {
          "name": "stdout",
          "output_type": "stream",
          "text": [
            "Error querying OpenAI: You exceeded your current quota, please check your plan and billing details. For more information on this error, read the docs: https://platform.openai.com/docs/guides/error-codes/api-errors.\n",
            "Error querying OpenAI: You exceeded your current quota, please check your plan and billing details. For more information on this error, read the docs: https://platform.openai.com/docs/guides/error-codes/api-errors.\n",
            "Error querying OpenAI: You exceeded your current quota, please check your plan and billing details. For more information on this error, read the docs: https://platform.openai.com/docs/guides/error-codes/api-errors.\n"
          ]
        },
        {
          "name": "stderr",
          "output_type": "stream",
          "text": [
            "Calculating Completeness:  87%|████████▋ | 4173/4791 [34:36<01:01, 10.01entry/s]"
          ]
        },
        {
          "name": "stdout",
          "output_type": "stream",
          "text": [
            "Error querying OpenAI: You exceeded your current quota, please check your plan and billing details. For more information on this error, read the docs: https://platform.openai.com/docs/guides/error-codes/api-errors.\n",
            "Error querying OpenAI: You exceeded your current quota, please check your plan and billing details. For more information on this error, read the docs: https://platform.openai.com/docs/guides/error-codes/api-errors.\n",
            "Error querying OpenAI: You exceeded your current quota, please check your plan and billing details. For more information on this error, read the docs: https://platform.openai.com/docs/guides/error-codes/api-errors.\n"
          ]
        },
        {
          "name": "stderr",
          "output_type": "stream",
          "text": [
            "\rCalculating Completeness:  87%|████████▋ | 4175/4791 [34:36<01:02,  9.93entry/s]"
          ]
        },
        {
          "name": "stdout",
          "output_type": "stream",
          "text": [
            "Error querying OpenAI: You exceeded your current quota, please check your plan and billing details. For more information on this error, read the docs: https://platform.openai.com/docs/guides/error-codes/api-errors.\n",
            "Error querying OpenAI: You exceeded your current quota, please check your plan and billing details. For more information on this error, read the docs: https://platform.openai.com/docs/guides/error-codes/api-errors.\n"
          ]
        },
        {
          "name": "stderr",
          "output_type": "stream",
          "text": [
            "\rCalculating Completeness:  87%|████████▋ | 4177/4791 [34:37<01:00, 10.07entry/s]"
          ]
        },
        {
          "name": "stdout",
          "output_type": "stream",
          "text": [
            "Error querying OpenAI: You exceeded your current quota, please check your plan and billing details. For more information on this error, read the docs: https://platform.openai.com/docs/guides/error-codes/api-errors.\n",
            "Error querying OpenAI: You exceeded your current quota, please check your plan and billing details. For more information on this error, read the docs: https://platform.openai.com/docs/guides/error-codes/api-errors.\n",
            "Error querying OpenAI: You exceeded your current quota, please check your plan and billing details. For more information on this error, read the docs: https://platform.openai.com/docs/guides/error-codes/api-errors.\n"
          ]
        },
        {
          "name": "stderr",
          "output_type": "stream",
          "text": [
            "Calculating Completeness:  87%|████████▋ | 4181/4791 [34:37<00:57, 10.62entry/s]"
          ]
        },
        {
          "name": "stdout",
          "output_type": "stream",
          "text": [
            "Error querying OpenAI: You exceeded your current quota, please check your plan and billing details. For more information on this error, read the docs: https://platform.openai.com/docs/guides/error-codes/api-errors.\n",
            "Error querying OpenAI: You exceeded your current quota, please check your plan and billing details. For more information on this error, read the docs: https://platform.openai.com/docs/guides/error-codes/api-errors.\n",
            "Error querying OpenAI: You exceeded your current quota, please check your plan and billing details. For more information on this error, read the docs: https://platform.openai.com/docs/guides/error-codes/api-errors.\n"
          ]
        },
        {
          "name": "stderr",
          "output_type": "stream",
          "text": [
            "\rCalculating Completeness:  87%|████████▋ | 4183/4791 [34:37<00:57, 10.62entry/s]"
          ]
        },
        {
          "name": "stdout",
          "output_type": "stream",
          "text": [
            "Error querying OpenAI: You exceeded your current quota, please check your plan and billing details. For more information on this error, read the docs: https://platform.openai.com/docs/guides/error-codes/api-errors.\n",
            "Error querying OpenAI: You exceeded your current quota, please check your plan and billing details. For more information on this error, read the docs: https://platform.openai.com/docs/guides/error-codes/api-errors.\n",
            "Error querying OpenAI: You exceeded your current quota, please check your plan and billing details. For more information on this error, read the docs: https://platform.openai.com/docs/guides/error-codes/api-errors.\n"
          ]
        },
        {
          "name": "stderr",
          "output_type": "stream",
          "text": [
            "Calculating Completeness:  87%|████████▋ | 4187/4791 [34:37<00:55, 10.85entry/s]"
          ]
        },
        {
          "name": "stdout",
          "output_type": "stream",
          "text": [
            "Error querying OpenAI: You exceeded your current quota, please check your plan and billing details. For more information on this error, read the docs: https://platform.openai.com/docs/guides/error-codes/api-errors.\n",
            "Error querying OpenAI: You exceeded your current quota, please check your plan and billing details. For more information on this error, read the docs: https://platform.openai.com/docs/guides/error-codes/api-errors.\n",
            "Error querying OpenAI: You exceeded your current quota, please check your plan and billing details. For more information on this error, read the docs: https://platform.openai.com/docs/guides/error-codes/api-errors.\n"
          ]
        },
        {
          "name": "stderr",
          "output_type": "stream",
          "text": [
            "\rCalculating Completeness:  87%|████████▋ | 4189/4791 [34:38<00:55, 10.85entry/s]"
          ]
        },
        {
          "name": "stdout",
          "output_type": "stream",
          "text": [
            "Error querying OpenAI: You exceeded your current quota, please check your plan and billing details. For more information on this error, read the docs: https://platform.openai.com/docs/guides/error-codes/api-errors.\n",
            "Error querying OpenAI: You exceeded your current quota, please check your plan and billing details. For more information on this error, read the docs: https://platform.openai.com/docs/guides/error-codes/api-errors.\n",
            "Error querying OpenAI: You exceeded your current quota, please check your plan and billing details. For more information on this error, read the docs: https://platform.openai.com/docs/guides/error-codes/api-errors.\n"
          ]
        },
        {
          "name": "stderr",
          "output_type": "stream",
          "text": [
            "Calculating Completeness:  88%|████████▊ | 4193/4791 [34:38<00:54, 11.02entry/s]"
          ]
        },
        {
          "name": "stdout",
          "output_type": "stream",
          "text": [
            "Error querying OpenAI: You exceeded your current quota, please check your plan and billing details. For more information on this error, read the docs: https://platform.openai.com/docs/guides/error-codes/api-errors.\n",
            "Error querying OpenAI: You exceeded your current quota, please check your plan and billing details. For more information on this error, read the docs: https://platform.openai.com/docs/guides/error-codes/api-errors.\n",
            "Error querying OpenAI: You exceeded your current quota, please check your plan and billing details. For more information on this error, read the docs: https://platform.openai.com/docs/guides/error-codes/api-errors.\n"
          ]
        },
        {
          "name": "stderr",
          "output_type": "stream",
          "text": [
            "\rCalculating Completeness:  88%|████████▊ | 4195/4791 [34:38<00:53, 11.04entry/s]"
          ]
        },
        {
          "name": "stdout",
          "output_type": "stream",
          "text": [
            "Error querying OpenAI: You exceeded your current quota, please check your plan and billing details. For more information on this error, read the docs: https://platform.openai.com/docs/guides/error-codes/api-errors.\n",
            "Error querying OpenAI: You exceeded your current quota, please check your plan and billing details. For more information on this error, read the docs: https://platform.openai.com/docs/guides/error-codes/api-errors.\n",
            "Error querying OpenAI: You exceeded your current quota, please check your plan and billing details. For more information on this error, read the docs: https://platform.openai.com/docs/guides/error-codes/api-errors.\n"
          ]
        },
        {
          "name": "stderr",
          "output_type": "stream",
          "text": [
            "Calculating Completeness:  88%|████████▊ | 4199/4791 [34:38<00:53, 10.99entry/s]"
          ]
        },
        {
          "name": "stdout",
          "output_type": "stream",
          "text": [
            "Error querying OpenAI: You exceeded your current quota, please check your plan and billing details. For more information on this error, read the docs: https://platform.openai.com/docs/guides/error-codes/api-errors.\n",
            "Error querying OpenAI: You exceeded your current quota, please check your plan and billing details. For more information on this error, read the docs: https://platform.openai.com/docs/guides/error-codes/api-errors.\n",
            "Error querying OpenAI: You exceeded your current quota, please check your plan and billing details. For more information on this error, read the docs: https://platform.openai.com/docs/guides/error-codes/api-errors.\n"
          ]
        },
        {
          "name": "stderr",
          "output_type": "stream",
          "text": [
            "\rCalculating Completeness:  88%|████████▊ | 4201/4791 [34:39<00:54, 10.90entry/s]"
          ]
        },
        {
          "name": "stdout",
          "output_type": "stream",
          "text": [
            "Error querying OpenAI: You exceeded your current quota, please check your plan and billing details. For more information on this error, read the docs: https://platform.openai.com/docs/guides/error-codes/api-errors.\n",
            "Error querying OpenAI: You exceeded your current quota, please check your plan and billing details. For more information on this error, read the docs: https://platform.openai.com/docs/guides/error-codes/api-errors.\n",
            "Error querying OpenAI: You exceeded your current quota, please check your plan and billing details. For more information on this error, read the docs: https://platform.openai.com/docs/guides/error-codes/api-errors.\n"
          ]
        },
        {
          "name": "stderr",
          "output_type": "stream",
          "text": [
            "Calculating Completeness:  88%|████████▊ | 4205/4791 [34:39<00:53, 10.93entry/s]"
          ]
        },
        {
          "name": "stdout",
          "output_type": "stream",
          "text": [
            "Error querying OpenAI: You exceeded your current quota, please check your plan and billing details. For more information on this error, read the docs: https://platform.openai.com/docs/guides/error-codes/api-errors.\n",
            "Error querying OpenAI: You exceeded your current quota, please check your plan and billing details. For more information on this error, read the docs: https://platform.openai.com/docs/guides/error-codes/api-errors.\n",
            "Error querying OpenAI: You exceeded your current quota, please check your plan and billing details. For more information on this error, read the docs: https://platform.openai.com/docs/guides/error-codes/api-errors.\n"
          ]
        },
        {
          "name": "stderr",
          "output_type": "stream",
          "text": [
            "\rCalculating Completeness:  88%|████████▊ | 4207/4791 [34:39<00:53, 10.88entry/s]"
          ]
        },
        {
          "name": "stdout",
          "output_type": "stream",
          "text": [
            "Error querying OpenAI: You exceeded your current quota, please check your plan and billing details. For more information on this error, read the docs: https://platform.openai.com/docs/guides/error-codes/api-errors.\n",
            "Error querying OpenAI: You exceeded your current quota, please check your plan and billing details. For more information on this error, read the docs: https://platform.openai.com/docs/guides/error-codes/api-errors.\n",
            "Error querying OpenAI: You exceeded your current quota, please check your plan and billing details. For more information on this error, read the docs: https://platform.openai.com/docs/guides/error-codes/api-errors.\n"
          ]
        },
        {
          "name": "stderr",
          "output_type": "stream",
          "text": [
            "Calculating Completeness:  88%|████████▊ | 4211/4791 [34:40<00:53, 10.93entry/s]"
          ]
        },
        {
          "name": "stdout",
          "output_type": "stream",
          "text": [
            "Error querying OpenAI: You exceeded your current quota, please check your plan and billing details. For more information on this error, read the docs: https://platform.openai.com/docs/guides/error-codes/api-errors.\n",
            "Error querying OpenAI: You exceeded your current quota, please check your plan and billing details. For more information on this error, read the docs: https://platform.openai.com/docs/guides/error-codes/api-errors.\n",
            "Error querying OpenAI: You exceeded your current quota, please check your plan and billing details. For more information on this error, read the docs: https://platform.openai.com/docs/guides/error-codes/api-errors.\n"
          ]
        },
        {
          "name": "stderr",
          "output_type": "stream",
          "text": [
            "\rCalculating Completeness:  88%|████████▊ | 4213/4791 [34:40<00:52, 11.05entry/s]"
          ]
        },
        {
          "name": "stdout",
          "output_type": "stream",
          "text": [
            "Error querying OpenAI: You exceeded your current quota, please check your plan and billing details. For more information on this error, read the docs: https://platform.openai.com/docs/guides/error-codes/api-errors.\n",
            "Error querying OpenAI: You exceeded your current quota, please check your plan and billing details. For more information on this error, read the docs: https://platform.openai.com/docs/guides/error-codes/api-errors.\n",
            "Error querying OpenAI: You exceeded your current quota, please check your plan and billing details. For more information on this error, read the docs: https://platform.openai.com/docs/guides/error-codes/api-errors.\n"
          ]
        },
        {
          "name": "stderr",
          "output_type": "stream",
          "text": [
            "Calculating Completeness:  88%|████████▊ | 4217/4791 [34:40<00:52, 10.88entry/s]"
          ]
        },
        {
          "name": "stdout",
          "output_type": "stream",
          "text": [
            "Error querying OpenAI: You exceeded your current quota, please check your plan and billing details. For more information on this error, read the docs: https://platform.openai.com/docs/guides/error-codes/api-errors.\n",
            "Error querying OpenAI: You exceeded your current quota, please check your plan and billing details. For more information on this error, read the docs: https://platform.openai.com/docs/guides/error-codes/api-errors.\n",
            "Error querying OpenAI: You exceeded your current quota, please check your plan and billing details. For more information on this error, read the docs: https://platform.openai.com/docs/guides/error-codes/api-errors.\n"
          ]
        },
        {
          "name": "stderr",
          "output_type": "stream",
          "text": [
            "\rCalculating Completeness:  88%|████████▊ | 4219/4791 [34:40<00:52, 10.95entry/s]"
          ]
        },
        {
          "name": "stdout",
          "output_type": "stream",
          "text": [
            "Error querying OpenAI: You exceeded your current quota, please check your plan and billing details. For more information on this error, read the docs: https://platform.openai.com/docs/guides/error-codes/api-errors.\n",
            "Error querying OpenAI: You exceeded your current quota, please check your plan and billing details. For more information on this error, read the docs: https://platform.openai.com/docs/guides/error-codes/api-errors.\n",
            "Error querying OpenAI: You exceeded your current quota, please check your plan and billing details. For more information on this error, read the docs: https://platform.openai.com/docs/guides/error-codes/api-errors.\n"
          ]
        },
        {
          "name": "stderr",
          "output_type": "stream",
          "text": [
            "Calculating Completeness:  88%|████████▊ | 4223/4791 [34:41<00:52, 10.91entry/s]"
          ]
        },
        {
          "name": "stdout",
          "output_type": "stream",
          "text": [
            "Error querying OpenAI: You exceeded your current quota, please check your plan and billing details. For more information on this error, read the docs: https://platform.openai.com/docs/guides/error-codes/api-errors.\n",
            "Error querying OpenAI: You exceeded your current quota, please check your plan and billing details. For more information on this error, read the docs: https://platform.openai.com/docs/guides/error-codes/api-errors.\n",
            "Error querying OpenAI: You exceeded your current quota, please check your plan and billing details. For more information on this error, read the docs: https://platform.openai.com/docs/guides/error-codes/api-errors.\n"
          ]
        },
        {
          "name": "stderr",
          "output_type": "stream",
          "text": [
            "\rCalculating Completeness:  88%|████████▊ | 4225/4791 [34:41<00:52, 10.71entry/s]"
          ]
        },
        {
          "name": "stdout",
          "output_type": "stream",
          "text": [
            "Error querying OpenAI: You exceeded your current quota, please check your plan and billing details. For more information on this error, read the docs: https://platform.openai.com/docs/guides/error-codes/api-errors.\n",
            "Error querying OpenAI: You exceeded your current quota, please check your plan and billing details. For more information on this error, read the docs: https://platform.openai.com/docs/guides/error-codes/api-errors.\n",
            "Error querying OpenAI: You exceeded your current quota, please check your plan and billing details. For more information on this error, read the docs: https://platform.openai.com/docs/guides/error-codes/api-errors.\n"
          ]
        },
        {
          "name": "stderr",
          "output_type": "stream",
          "text": [
            "Calculating Completeness:  88%|████████▊ | 4229/4791 [34:41<00:50, 11.12entry/s]"
          ]
        },
        {
          "name": "stdout",
          "output_type": "stream",
          "text": [
            "Error querying OpenAI: You exceeded your current quota, please check your plan and billing details. For more information on this error, read the docs: https://platform.openai.com/docs/guides/error-codes/api-errors.\n",
            "Error querying OpenAI: You exceeded your current quota, please check your plan and billing details. For more information on this error, read the docs: https://platform.openai.com/docs/guides/error-codes/api-errors.\n",
            "Error querying OpenAI: You exceeded your current quota, please check your plan and billing details. For more information on this error, read the docs: https://platform.openai.com/docs/guides/error-codes/api-errors.\n"
          ]
        },
        {
          "name": "stderr",
          "output_type": "stream",
          "text": [
            "\rCalculating Completeness:  88%|████████▊ | 4231/4791 [34:41<00:50, 11.07entry/s]"
          ]
        },
        {
          "name": "stdout",
          "output_type": "stream",
          "text": [
            "Error querying OpenAI: You exceeded your current quota, please check your plan and billing details. For more information on this error, read the docs: https://platform.openai.com/docs/guides/error-codes/api-errors.\n",
            "Error querying OpenAI: You exceeded your current quota, please check your plan and billing details. For more information on this error, read the docs: https://platform.openai.com/docs/guides/error-codes/api-errors.\n",
            "Error querying OpenAI: You exceeded your current quota, please check your plan and billing details. For more information on this error, read the docs: https://platform.openai.com/docs/guides/error-codes/api-errors.\n"
          ]
        },
        {
          "name": "stderr",
          "output_type": "stream",
          "text": [
            "Calculating Completeness:  88%|████████▊ | 4235/4791 [34:42<00:49, 11.28entry/s]"
          ]
        },
        {
          "name": "stdout",
          "output_type": "stream",
          "text": [
            "Error querying OpenAI: You exceeded your current quota, please check your plan and billing details. For more information on this error, read the docs: https://platform.openai.com/docs/guides/error-codes/api-errors.\n",
            "Error querying OpenAI: You exceeded your current quota, please check your plan and billing details. For more information on this error, read the docs: https://platform.openai.com/docs/guides/error-codes/api-errors.\n",
            "Error querying OpenAI: You exceeded your current quota, please check your plan and billing details. For more information on this error, read the docs: https://platform.openai.com/docs/guides/error-codes/api-errors.\n"
          ]
        },
        {
          "name": "stderr",
          "output_type": "stream",
          "text": [
            "\rCalculating Completeness:  88%|████████▊ | 4237/4791 [34:42<00:49, 11.15entry/s]"
          ]
        },
        {
          "name": "stdout",
          "output_type": "stream",
          "text": [
            "Error querying OpenAI: You exceeded your current quota, please check your plan and billing details. For more information on this error, read the docs: https://platform.openai.com/docs/guides/error-codes/api-errors.\n",
            "Error querying OpenAI: You exceeded your current quota, please check your plan and billing details. For more information on this error, read the docs: https://platform.openai.com/docs/guides/error-codes/api-errors.\n",
            "Error querying OpenAI: You exceeded your current quota, please check your plan and billing details. For more information on this error, read the docs: https://platform.openai.com/docs/guides/error-codes/api-errors.\n"
          ]
        },
        {
          "name": "stderr",
          "output_type": "stream",
          "text": [
            "Calculating Completeness:  89%|████████▊ | 4241/4791 [34:42<00:49, 11.21entry/s]"
          ]
        },
        {
          "name": "stdout",
          "output_type": "stream",
          "text": [
            "Error querying OpenAI: You exceeded your current quota, please check your plan and billing details. For more information on this error, read the docs: https://platform.openai.com/docs/guides/error-codes/api-errors.\n",
            "Error querying OpenAI: You exceeded your current quota, please check your plan and billing details. For more information on this error, read the docs: https://platform.openai.com/docs/guides/error-codes/api-errors.\n",
            "Error querying OpenAI: You exceeded your current quota, please check your plan and billing details. For more information on this error, read the docs: https://platform.openai.com/docs/guides/error-codes/api-errors.\n"
          ]
        },
        {
          "name": "stderr",
          "output_type": "stream",
          "text": [
            "\rCalculating Completeness:  89%|████████▊ | 4243/4791 [34:42<00:48, 11.35entry/s]"
          ]
        },
        {
          "name": "stdout",
          "output_type": "stream",
          "text": [
            "Error querying OpenAI: You exceeded your current quota, please check your plan and billing details. For more information on this error, read the docs: https://platform.openai.com/docs/guides/error-codes/api-errors.\n",
            "Error querying OpenAI: You exceeded your current quota, please check your plan and billing details. For more information on this error, read the docs: https://platform.openai.com/docs/guides/error-codes/api-errors.\n",
            "Error querying OpenAI: You exceeded your current quota, please check your plan and billing details. For more information on this error, read the docs: https://platform.openai.com/docs/guides/error-codes/api-errors.\n"
          ]
        },
        {
          "name": "stderr",
          "output_type": "stream",
          "text": [
            "Calculating Completeness:  89%|████████▊ | 4247/4791 [34:43<00:47, 11.34entry/s]"
          ]
        },
        {
          "name": "stdout",
          "output_type": "stream",
          "text": [
            "Error querying OpenAI: You exceeded your current quota, please check your plan and billing details. For more information on this error, read the docs: https://platform.openai.com/docs/guides/error-codes/api-errors.\n",
            "Error querying OpenAI: You exceeded your current quota, please check your plan and billing details. For more information on this error, read the docs: https://platform.openai.com/docs/guides/error-codes/api-errors.\n",
            "Error querying OpenAI: You exceeded your current quota, please check your plan and billing details. For more information on this error, read the docs: https://platform.openai.com/docs/guides/error-codes/api-errors.\n"
          ]
        },
        {
          "name": "stderr",
          "output_type": "stream",
          "text": [
            "\rCalculating Completeness:  89%|████████▊ | 4249/4791 [34:43<00:48, 11.18entry/s]"
          ]
        },
        {
          "name": "stdout",
          "output_type": "stream",
          "text": [
            "Error querying OpenAI: You exceeded your current quota, please check your plan and billing details. For more information on this error, read the docs: https://platform.openai.com/docs/guides/error-codes/api-errors.\n",
            "Error querying OpenAI: You exceeded your current quota, please check your plan and billing details. For more information on this error, read the docs: https://platform.openai.com/docs/guides/error-codes/api-errors.\n",
            "Error querying OpenAI: You exceeded your current quota, please check your plan and billing details. For more information on this error, read the docs: https://platform.openai.com/docs/guides/error-codes/api-errors.\n"
          ]
        },
        {
          "name": "stderr",
          "output_type": "stream",
          "text": [
            "Calculating Completeness:  89%|████████▉ | 4253/4791 [34:43<00:47, 11.26entry/s]"
          ]
        },
        {
          "name": "stdout",
          "output_type": "stream",
          "text": [
            "Error querying OpenAI: You exceeded your current quota, please check your plan and billing details. For more information on this error, read the docs: https://platform.openai.com/docs/guides/error-codes/api-errors.\n",
            "Error querying OpenAI: You exceeded your current quota, please check your plan and billing details. For more information on this error, read the docs: https://platform.openai.com/docs/guides/error-codes/api-errors.\n",
            "Error querying OpenAI: You exceeded your current quota, please check your plan and billing details. For more information on this error, read the docs: https://platform.openai.com/docs/guides/error-codes/api-errors.\n"
          ]
        },
        {
          "name": "stderr",
          "output_type": "stream",
          "text": [
            "\rCalculating Completeness:  89%|████████▉ | 4255/4791 [34:44<00:47, 11.20entry/s]"
          ]
        },
        {
          "name": "stdout",
          "output_type": "stream",
          "text": [
            "Error querying OpenAI: You exceeded your current quota, please check your plan and billing details. For more information on this error, read the docs: https://platform.openai.com/docs/guides/error-codes/api-errors.\n",
            "Error querying OpenAI: You exceeded your current quota, please check your plan and billing details. For more information on this error, read the docs: https://platform.openai.com/docs/guides/error-codes/api-errors.\n",
            "Error querying OpenAI: You exceeded your current quota, please check your plan and billing details. For more information on this error, read the docs: https://platform.openai.com/docs/guides/error-codes/api-errors.\n"
          ]
        },
        {
          "name": "stderr",
          "output_type": "stream",
          "text": [
            "Calculating Completeness:  89%|████████▉ | 4259/4791 [34:44<00:48, 10.97entry/s]"
          ]
        },
        {
          "name": "stdout",
          "output_type": "stream",
          "text": [
            "Error querying OpenAI: You exceeded your current quota, please check your plan and billing details. For more information on this error, read the docs: https://platform.openai.com/docs/guides/error-codes/api-errors.\n",
            "Error querying OpenAI: You exceeded your current quota, please check your plan and billing details. For more information on this error, read the docs: https://platform.openai.com/docs/guides/error-codes/api-errors.\n",
            "Error querying OpenAI: You exceeded your current quota, please check your plan and billing details. For more information on this error, read the docs: https://platform.openai.com/docs/guides/error-codes/api-errors.\n"
          ]
        },
        {
          "name": "stderr",
          "output_type": "stream",
          "text": [
            "\rCalculating Completeness:  89%|████████▉ | 4261/4791 [34:44<00:48, 10.90entry/s]"
          ]
        },
        {
          "name": "stdout",
          "output_type": "stream",
          "text": [
            "Error querying OpenAI: You exceeded your current quota, please check your plan and billing details. For more information on this error, read the docs: https://platform.openai.com/docs/guides/error-codes/api-errors.\n",
            "Error querying OpenAI: You exceeded your current quota, please check your plan and billing details. For more information on this error, read the docs: https://platform.openai.com/docs/guides/error-codes/api-errors.\n",
            "Error querying OpenAI: You exceeded your current quota, please check your plan and billing details. For more information on this error, read the docs: https://platform.openai.com/docs/guides/error-codes/api-errors.\n"
          ]
        },
        {
          "name": "stderr",
          "output_type": "stream",
          "text": [
            "Calculating Completeness:  89%|████████▉ | 4265/4791 [34:44<00:49, 10.71entry/s]"
          ]
        },
        {
          "name": "stdout",
          "output_type": "stream",
          "text": [
            "Error querying OpenAI: You exceeded your current quota, please check your plan and billing details. For more information on this error, read the docs: https://platform.openai.com/docs/guides/error-codes/api-errors.\n",
            "Error querying OpenAI: You exceeded your current quota, please check your plan and billing details. For more information on this error, read the docs: https://platform.openai.com/docs/guides/error-codes/api-errors.\n",
            "Error querying OpenAI: You exceeded your current quota, please check your plan and billing details. For more information on this error, read the docs: https://platform.openai.com/docs/guides/error-codes/api-errors.\n"
          ]
        },
        {
          "name": "stderr",
          "output_type": "stream",
          "text": [
            "\rCalculating Completeness:  89%|████████▉ | 4267/4791 [34:45<00:49, 10.49entry/s]"
          ]
        },
        {
          "name": "stdout",
          "output_type": "stream",
          "text": [
            "Error querying OpenAI: You exceeded your current quota, please check your plan and billing details. For more information on this error, read the docs: https://platform.openai.com/docs/guides/error-codes/api-errors.\n",
            "Error querying OpenAI: You exceeded your current quota, please check your plan and billing details. For more information on this error, read the docs: https://platform.openai.com/docs/guides/error-codes/api-errors.\n",
            "Error querying OpenAI: You exceeded your current quota, please check your plan and billing details. For more information on this error, read the docs: https://platform.openai.com/docs/guides/error-codes/api-errors.\n"
          ]
        },
        {
          "name": "stderr",
          "output_type": "stream",
          "text": [
            "Calculating Completeness:  89%|████████▉ | 4271/4791 [34:45<00:47, 10.84entry/s]"
          ]
        },
        {
          "name": "stdout",
          "output_type": "stream",
          "text": [
            "Error querying OpenAI: You exceeded your current quota, please check your plan and billing details. For more information on this error, read the docs: https://platform.openai.com/docs/guides/error-codes/api-errors.\n",
            "Error querying OpenAI: You exceeded your current quota, please check your plan and billing details. For more information on this error, read the docs: https://platform.openai.com/docs/guides/error-codes/api-errors.\n",
            "Error querying OpenAI: You exceeded your current quota, please check your plan and billing details. For more information on this error, read the docs: https://platform.openai.com/docs/guides/error-codes/api-errors.\n"
          ]
        },
        {
          "name": "stderr",
          "output_type": "stream",
          "text": [
            "\rCalculating Completeness:  89%|████████▉ | 4273/4791 [34:45<00:47, 10.89entry/s]"
          ]
        },
        {
          "name": "stdout",
          "output_type": "stream",
          "text": [
            "Error querying OpenAI: You exceeded your current quota, please check your plan and billing details. For more information on this error, read the docs: https://platform.openai.com/docs/guides/error-codes/api-errors.\n",
            "Error querying OpenAI: You exceeded your current quota, please check your plan and billing details. For more information on this error, read the docs: https://platform.openai.com/docs/guides/error-codes/api-errors.\n",
            "Error querying OpenAI: You exceeded your current quota, please check your plan and billing details. For more information on this error, read the docs: https://platform.openai.com/docs/guides/error-codes/api-errors.\n"
          ]
        },
        {
          "name": "stderr",
          "output_type": "stream",
          "text": [
            "Calculating Completeness:  89%|████████▉ | 4277/4791 [34:46<00:45, 11.22entry/s]"
          ]
        },
        {
          "name": "stdout",
          "output_type": "stream",
          "text": [
            "Error querying OpenAI: You exceeded your current quota, please check your plan and billing details. For more information on this error, read the docs: https://platform.openai.com/docs/guides/error-codes/api-errors.\n",
            "Error querying OpenAI: You exceeded your current quota, please check your plan and billing details. For more information on this error, read the docs: https://platform.openai.com/docs/guides/error-codes/api-errors.\n",
            "Error querying OpenAI: You exceeded your current quota, please check your plan and billing details. For more information on this error, read the docs: https://platform.openai.com/docs/guides/error-codes/api-errors.\n"
          ]
        },
        {
          "name": "stderr",
          "output_type": "stream",
          "text": [
            "\rCalculating Completeness:  89%|████████▉ | 4279/4791 [34:46<00:46, 11.06entry/s]"
          ]
        },
        {
          "name": "stdout",
          "output_type": "stream",
          "text": [
            "Error querying OpenAI: You exceeded your current quota, please check your plan and billing details. For more information on this error, read the docs: https://platform.openai.com/docs/guides/error-codes/api-errors.\n",
            "Error querying OpenAI: You exceeded your current quota, please check your plan and billing details. For more information on this error, read the docs: https://platform.openai.com/docs/guides/error-codes/api-errors.\n",
            "Error querying OpenAI: You exceeded your current quota, please check your plan and billing details. For more information on this error, read the docs: https://platform.openai.com/docs/guides/error-codes/api-errors.\n"
          ]
        },
        {
          "name": "stderr",
          "output_type": "stream",
          "text": [
            "Calculating Completeness:  89%|████████▉ | 4283/4791 [34:46<00:45, 11.13entry/s]"
          ]
        },
        {
          "name": "stdout",
          "output_type": "stream",
          "text": [
            "Error querying OpenAI: You exceeded your current quota, please check your plan and billing details. For more information on this error, read the docs: https://platform.openai.com/docs/guides/error-codes/api-errors.\n",
            "Error querying OpenAI: You exceeded your current quota, please check your plan and billing details. For more information on this error, read the docs: https://platform.openai.com/docs/guides/error-codes/api-errors.\n",
            "Error querying OpenAI: You exceeded your current quota, please check your plan and billing details. For more information on this error, read the docs: https://platform.openai.com/docs/guides/error-codes/api-errors.\n"
          ]
        },
        {
          "name": "stderr",
          "output_type": "stream",
          "text": [
            "\rCalculating Completeness:  89%|████████▉ | 4285/4791 [34:46<00:46, 10.85entry/s]"
          ]
        },
        {
          "name": "stdout",
          "output_type": "stream",
          "text": [
            "Error querying OpenAI: You exceeded your current quota, please check your plan and billing details. For more information on this error, read the docs: https://platform.openai.com/docs/guides/error-codes/api-errors.\n",
            "Error querying OpenAI: You exceeded your current quota, please check your plan and billing details. For more information on this error, read the docs: https://platform.openai.com/docs/guides/error-codes/api-errors.\n",
            "Error querying OpenAI: You exceeded your current quota, please check your plan and billing details. For more information on this error, read the docs: https://platform.openai.com/docs/guides/error-codes/api-errors.\n"
          ]
        },
        {
          "name": "stderr",
          "output_type": "stream",
          "text": [
            "\rCalculating Completeness:  89%|████████▉ | 4287/4791 [34:46<00:45, 10.96entry/s]"
          ]
        },
        {
          "name": "stdout",
          "output_type": "stream",
          "text": [
            "Error querying OpenAI: You exceeded your current quota, please check your plan and billing details. For more information on this error, read the docs: https://platform.openai.com/docs/guides/error-codes/api-errors.\n",
            "Error querying OpenAI: You exceeded your current quota, please check your plan and billing details. For more information on this error, read the docs: https://platform.openai.com/docs/guides/error-codes/api-errors.\n"
          ]
        },
        {
          "name": "stderr",
          "output_type": "stream",
          "text": [
            "Calculating Completeness:  90%|████████▉ | 4291/4791 [34:47<00:47, 10.47entry/s]"
          ]
        },
        {
          "name": "stdout",
          "output_type": "stream",
          "text": [
            "Error querying OpenAI: You exceeded your current quota, please check your plan and billing details. For more information on this error, read the docs: https://platform.openai.com/docs/guides/error-codes/api-errors.\n",
            "Error querying OpenAI: You exceeded your current quota, please check your plan and billing details. For more information on this error, read the docs: https://platform.openai.com/docs/guides/error-codes/api-errors.\n",
            "Error querying OpenAI: You exceeded your current quota, please check your plan and billing details. For more information on this error, read the docs: https://platform.openai.com/docs/guides/error-codes/api-errors.\n"
          ]
        },
        {
          "name": "stderr",
          "output_type": "stream",
          "text": [
            "\rCalculating Completeness:  90%|████████▉ | 4293/4791 [34:47<00:46, 10.72entry/s]"
          ]
        },
        {
          "name": "stdout",
          "output_type": "stream",
          "text": [
            "Error querying OpenAI: You exceeded your current quota, please check your plan and billing details. For more information on this error, read the docs: https://platform.openai.com/docs/guides/error-codes/api-errors.\n",
            "Error querying OpenAI: You exceeded your current quota, please check your plan and billing details. For more information on this error, read the docs: https://platform.openai.com/docs/guides/error-codes/api-errors.\n",
            "Error querying OpenAI: You exceeded your current quota, please check your plan and billing details. For more information on this error, read the docs: https://platform.openai.com/docs/guides/error-codes/api-errors.\n"
          ]
        },
        {
          "name": "stderr",
          "output_type": "stream",
          "text": [
            "Calculating Completeness:  90%|████████▉ | 4297/4791 [34:47<00:44, 11.11entry/s]"
          ]
        },
        {
          "name": "stdout",
          "output_type": "stream",
          "text": [
            "Error querying OpenAI: You exceeded your current quota, please check your plan and billing details. For more information on this error, read the docs: https://platform.openai.com/docs/guides/error-codes/api-errors.\n",
            "Error querying OpenAI: You exceeded your current quota, please check your plan and billing details. For more information on this error, read the docs: https://platform.openai.com/docs/guides/error-codes/api-errors.\n",
            "Error querying OpenAI: You exceeded your current quota, please check your plan and billing details. For more information on this error, read the docs: https://platform.openai.com/docs/guides/error-codes/api-errors.\n"
          ]
        },
        {
          "name": "stderr",
          "output_type": "stream",
          "text": [
            "\rCalculating Completeness:  90%|████████▉ | 4299/4791 [34:48<00:44, 11.07entry/s]"
          ]
        },
        {
          "name": "stdout",
          "output_type": "stream",
          "text": [
            "Error querying OpenAI: You exceeded your current quota, please check your plan and billing details. For more information on this error, read the docs: https://platform.openai.com/docs/guides/error-codes/api-errors.\n",
            "Error querying OpenAI: You exceeded your current quota, please check your plan and billing details. For more information on this error, read the docs: https://platform.openai.com/docs/guides/error-codes/api-errors.\n",
            "Error querying OpenAI: You exceeded your current quota, please check your plan and billing details. For more information on this error, read the docs: https://platform.openai.com/docs/guides/error-codes/api-errors.\n"
          ]
        },
        {
          "name": "stderr",
          "output_type": "stream",
          "text": [
            "Calculating Completeness:  90%|████████▉ | 4303/4791 [34:48<00:43, 11.27entry/s]"
          ]
        },
        {
          "name": "stdout",
          "output_type": "stream",
          "text": [
            "Error querying OpenAI: You exceeded your current quota, please check your plan and billing details. For more information on this error, read the docs: https://platform.openai.com/docs/guides/error-codes/api-errors.\n",
            "Error querying OpenAI: You exceeded your current quota, please check your plan and billing details. For more information on this error, read the docs: https://platform.openai.com/docs/guides/error-codes/api-errors.\n",
            "Error querying OpenAI: You exceeded your current quota, please check your plan and billing details. For more information on this error, read the docs: https://platform.openai.com/docs/guides/error-codes/api-errors.\n"
          ]
        },
        {
          "name": "stderr",
          "output_type": "stream",
          "text": [
            "\rCalculating Completeness:  90%|████████▉ | 4305/4791 [34:48<00:43, 11.26entry/s]"
          ]
        },
        {
          "name": "stdout",
          "output_type": "stream",
          "text": [
            "Error querying OpenAI: You exceeded your current quota, please check your plan and billing details. For more information on this error, read the docs: https://platform.openai.com/docs/guides/error-codes/api-errors.\n",
            "Error querying OpenAI: You exceeded your current quota, please check your plan and billing details. For more information on this error, read the docs: https://platform.openai.com/docs/guides/error-codes/api-errors.\n",
            "Error querying OpenAI: You exceeded your current quota, please check your plan and billing details. For more information on this error, read the docs: https://platform.openai.com/docs/guides/error-codes/api-errors.\n"
          ]
        },
        {
          "name": "stderr",
          "output_type": "stream",
          "text": [
            "Calculating Completeness:  90%|████████▉ | 4309/4791 [34:49<00:44, 10.84entry/s]"
          ]
        },
        {
          "name": "stdout",
          "output_type": "stream",
          "text": [
            "Error querying OpenAI: You exceeded your current quota, please check your plan and billing details. For more information on this error, read the docs: https://platform.openai.com/docs/guides/error-codes/api-errors.\n",
            "Error querying OpenAI: You exceeded your current quota, please check your plan and billing details. For more information on this error, read the docs: https://platform.openai.com/docs/guides/error-codes/api-errors.\n",
            "Error querying OpenAI: You exceeded your current quota, please check your plan and billing details. For more information on this error, read the docs: https://platform.openai.com/docs/guides/error-codes/api-errors.\n"
          ]
        },
        {
          "name": "stderr",
          "output_type": "stream",
          "text": [
            "\rCalculating Completeness:  90%|████████▉ | 4311/4791 [34:49<00:44, 10.82entry/s]"
          ]
        },
        {
          "name": "stdout",
          "output_type": "stream",
          "text": [
            "Error querying OpenAI: You exceeded your current quota, please check your plan and billing details. For more information on this error, read the docs: https://platform.openai.com/docs/guides/error-codes/api-errors.\n",
            "Error querying OpenAI: You exceeded your current quota, please check your plan and billing details. For more information on this error, read the docs: https://platform.openai.com/docs/guides/error-codes/api-errors.\n",
            "Error querying OpenAI: You exceeded your current quota, please check your plan and billing details. For more information on this error, read the docs: https://platform.openai.com/docs/guides/error-codes/api-errors.\n"
          ]
        },
        {
          "name": "stderr",
          "output_type": "stream",
          "text": [
            "Calculating Completeness:  90%|█████████ | 4315/4791 [34:49<00:43, 11.00entry/s]"
          ]
        },
        {
          "name": "stdout",
          "output_type": "stream",
          "text": [
            "Error querying OpenAI: You exceeded your current quota, please check your plan and billing details. For more information on this error, read the docs: https://platform.openai.com/docs/guides/error-codes/api-errors.\n",
            "Error querying OpenAI: You exceeded your current quota, please check your plan and billing details. For more information on this error, read the docs: https://platform.openai.com/docs/guides/error-codes/api-errors.\n",
            "Error querying OpenAI: You exceeded your current quota, please check your plan and billing details. For more information on this error, read the docs: https://platform.openai.com/docs/guides/error-codes/api-errors.\n"
          ]
        },
        {
          "name": "stderr",
          "output_type": "stream",
          "text": [
            "\rCalculating Completeness:  90%|█████████ | 4317/4791 [34:49<00:44, 10.62entry/s]"
          ]
        },
        {
          "name": "stdout",
          "output_type": "stream",
          "text": [
            "Error querying OpenAI: You exceeded your current quota, please check your plan and billing details. For more information on this error, read the docs: https://platform.openai.com/docs/guides/error-codes/api-errors.\n",
            "Error querying OpenAI: You exceeded your current quota, please check your plan and billing details. For more information on this error, read the docs: https://platform.openai.com/docs/guides/error-codes/api-errors.\n",
            "Error querying OpenAI: You exceeded your current quota, please check your plan and billing details. For more information on this error, read the docs: https://platform.openai.com/docs/guides/error-codes/api-errors.\n"
          ]
        },
        {
          "name": "stderr",
          "output_type": "stream",
          "text": [
            "Calculating Completeness:  90%|█████████ | 4321/4791 [34:50<00:43, 10.86entry/s]"
          ]
        },
        {
          "name": "stdout",
          "output_type": "stream",
          "text": [
            "Error querying OpenAI: You exceeded your current quota, please check your plan and billing details. For more information on this error, read the docs: https://platform.openai.com/docs/guides/error-codes/api-errors.\n",
            "Error querying OpenAI: You exceeded your current quota, please check your plan and billing details. For more information on this error, read the docs: https://platform.openai.com/docs/guides/error-codes/api-errors.\n",
            "Error querying OpenAI: You exceeded your current quota, please check your plan and billing details. For more information on this error, read the docs: https://platform.openai.com/docs/guides/error-codes/api-errors.\n"
          ]
        },
        {
          "name": "stderr",
          "output_type": "stream",
          "text": [
            "\rCalculating Completeness:  90%|█████████ | 4323/4791 [34:50<00:42, 11.01entry/s]"
          ]
        },
        {
          "name": "stdout",
          "output_type": "stream",
          "text": [
            "Error querying OpenAI: You exceeded your current quota, please check your plan and billing details. For more information on this error, read the docs: https://platform.openai.com/docs/guides/error-codes/api-errors.\n",
            "Error querying OpenAI: You exceeded your current quota, please check your plan and billing details. For more information on this error, read the docs: https://platform.openai.com/docs/guides/error-codes/api-errors.\n",
            "Error querying OpenAI: You exceeded your current quota, please check your plan and billing details. For more information on this error, read the docs: https://platform.openai.com/docs/guides/error-codes/api-errors.\n"
          ]
        },
        {
          "name": "stderr",
          "output_type": "stream",
          "text": [
            "Calculating Completeness:  90%|█████████ | 4327/4791 [34:50<00:42, 11.04entry/s]"
          ]
        },
        {
          "name": "stdout",
          "output_type": "stream",
          "text": [
            "Error querying OpenAI: You exceeded your current quota, please check your plan and billing details. For more information on this error, read the docs: https://platform.openai.com/docs/guides/error-codes/api-errors.\n",
            "Error querying OpenAI: You exceeded your current quota, please check your plan and billing details. For more information on this error, read the docs: https://platform.openai.com/docs/guides/error-codes/api-errors.\n",
            "Error querying OpenAI: You exceeded your current quota, please check your plan and billing details. For more information on this error, read the docs: https://platform.openai.com/docs/guides/error-codes/api-errors.\n"
          ]
        },
        {
          "name": "stderr",
          "output_type": "stream",
          "text": [
            "\rCalculating Completeness:  90%|█████████ | 4329/4791 [34:50<00:41, 11.12entry/s]"
          ]
        },
        {
          "name": "stdout",
          "output_type": "stream",
          "text": [
            "Error querying OpenAI: You exceeded your current quota, please check your plan and billing details. For more information on this error, read the docs: https://platform.openai.com/docs/guides/error-codes/api-errors.\n",
            "Error querying OpenAI: You exceeded your current quota, please check your plan and billing details. For more information on this error, read the docs: https://platform.openai.com/docs/guides/error-codes/api-errors.\n",
            "Error querying OpenAI: You exceeded your current quota, please check your plan and billing details. For more information on this error, read the docs: https://platform.openai.com/docs/guides/error-codes/api-errors.\n"
          ]
        },
        {
          "name": "stderr",
          "output_type": "stream",
          "text": [
            "Calculating Completeness:  90%|█████████ | 4333/4791 [34:51<00:41, 11.16entry/s]"
          ]
        },
        {
          "name": "stdout",
          "output_type": "stream",
          "text": [
            "Error querying OpenAI: You exceeded your current quota, please check your plan and billing details. For more information on this error, read the docs: https://platform.openai.com/docs/guides/error-codes/api-errors.\n",
            "Error querying OpenAI: You exceeded your current quota, please check your plan and billing details. For more information on this error, read the docs: https://platform.openai.com/docs/guides/error-codes/api-errors.\n",
            "Error querying OpenAI: You exceeded your current quota, please check your plan and billing details. For more information on this error, read the docs: https://platform.openai.com/docs/guides/error-codes/api-errors.\n"
          ]
        },
        {
          "name": "stderr",
          "output_type": "stream",
          "text": [
            "\rCalculating Completeness:  90%|█████████ | 4335/4791 [34:51<00:40, 11.24entry/s]"
          ]
        },
        {
          "name": "stdout",
          "output_type": "stream",
          "text": [
            "Error querying OpenAI: You exceeded your current quota, please check your plan and billing details. For more information on this error, read the docs: https://platform.openai.com/docs/guides/error-codes/api-errors.\n",
            "Error querying OpenAI: You exceeded your current quota, please check your plan and billing details. For more information on this error, read the docs: https://platform.openai.com/docs/guides/error-codes/api-errors.\n",
            "Error querying OpenAI: You exceeded your current quota, please check your plan and billing details. For more information on this error, read the docs: https://platform.openai.com/docs/guides/error-codes/api-errors.\n"
          ]
        },
        {
          "name": "stderr",
          "output_type": "stream",
          "text": [
            "Calculating Completeness:  91%|█████████ | 4339/4791 [34:51<00:40, 11.29entry/s]"
          ]
        },
        {
          "name": "stdout",
          "output_type": "stream",
          "text": [
            "Error querying OpenAI: You exceeded your current quota, please check your plan and billing details. For more information on this error, read the docs: https://platform.openai.com/docs/guides/error-codes/api-errors.\n",
            "Error querying OpenAI: You exceeded your current quota, please check your plan and billing details. For more information on this error, read the docs: https://platform.openai.com/docs/guides/error-codes/api-errors.\n",
            "Error querying OpenAI: You exceeded your current quota, please check your plan and billing details. For more information on this error, read the docs: https://platform.openai.com/docs/guides/error-codes/api-errors.\n"
          ]
        },
        {
          "name": "stderr",
          "output_type": "stream",
          "text": [
            "\rCalculating Completeness:  91%|█████████ | 4341/4791 [34:51<00:41, 10.90entry/s]"
          ]
        },
        {
          "name": "stdout",
          "output_type": "stream",
          "text": [
            "Error querying OpenAI: You exceeded your current quota, please check your plan and billing details. For more information on this error, read the docs: https://platform.openai.com/docs/guides/error-codes/api-errors.\n",
            "Error querying OpenAI: You exceeded your current quota, please check your plan and billing details. For more information on this error, read the docs: https://platform.openai.com/docs/guides/error-codes/api-errors.\n",
            "Error querying OpenAI: You exceeded your current quota, please check your plan and billing details. For more information on this error, read the docs: https://platform.openai.com/docs/guides/error-codes/api-errors.\n"
          ]
        },
        {
          "name": "stderr",
          "output_type": "stream",
          "text": [
            "Calculating Completeness:  91%|█████████ | 4345/4791 [34:52<00:41, 10.85entry/s]"
          ]
        },
        {
          "name": "stdout",
          "output_type": "stream",
          "text": [
            "Error querying OpenAI: You exceeded your current quota, please check your plan and billing details. For more information on this error, read the docs: https://platform.openai.com/docs/guides/error-codes/api-errors.\n",
            "Error querying OpenAI: You exceeded your current quota, please check your plan and billing details. For more information on this error, read the docs: https://platform.openai.com/docs/guides/error-codes/api-errors.\n",
            "Error querying OpenAI: You exceeded your current quota, please check your plan and billing details. For more information on this error, read the docs: https://platform.openai.com/docs/guides/error-codes/api-errors.\n"
          ]
        },
        {
          "name": "stderr",
          "output_type": "stream",
          "text": [
            "\rCalculating Completeness:  91%|█████████ | 4347/4791 [34:52<00:40, 10.90entry/s]"
          ]
        },
        {
          "name": "stdout",
          "output_type": "stream",
          "text": [
            "Error querying OpenAI: You exceeded your current quota, please check your plan and billing details. For more information on this error, read the docs: https://platform.openai.com/docs/guides/error-codes/api-errors.\n",
            "Error querying OpenAI: You exceeded your current quota, please check your plan and billing details. For more information on this error, read the docs: https://platform.openai.com/docs/guides/error-codes/api-errors.\n",
            "Error querying OpenAI: You exceeded your current quota, please check your plan and billing details. For more information on this error, read the docs: https://platform.openai.com/docs/guides/error-codes/api-errors.\n"
          ]
        },
        {
          "name": "stderr",
          "output_type": "stream",
          "text": [
            "Calculating Completeness:  91%|█████████ | 4351/4791 [34:52<00:40, 10.95entry/s]"
          ]
        },
        {
          "name": "stdout",
          "output_type": "stream",
          "text": [
            "Error querying OpenAI: You exceeded your current quota, please check your plan and billing details. For more information on this error, read the docs: https://platform.openai.com/docs/guides/error-codes/api-errors.\n",
            "Error querying OpenAI: You exceeded your current quota, please check your plan and billing details. For more information on this error, read the docs: https://platform.openai.com/docs/guides/error-codes/api-errors.\n",
            "Error querying OpenAI: You exceeded your current quota, please check your plan and billing details. For more information on this error, read the docs: https://platform.openai.com/docs/guides/error-codes/api-errors.\n"
          ]
        },
        {
          "name": "stderr",
          "output_type": "stream",
          "text": [
            "\rCalculating Completeness:  91%|█████████ | 4353/4791 [34:53<00:39, 11.10entry/s]"
          ]
        },
        {
          "name": "stdout",
          "output_type": "stream",
          "text": [
            "Error querying OpenAI: You exceeded your current quota, please check your plan and billing details. For more information on this error, read the docs: https://platform.openai.com/docs/guides/error-codes/api-errors.\n",
            "Error querying OpenAI: You exceeded your current quota, please check your plan and billing details. For more information on this error, read the docs: https://platform.openai.com/docs/guides/error-codes/api-errors.\n",
            "Error querying OpenAI: You exceeded your current quota, please check your plan and billing details. For more information on this error, read the docs: https://platform.openai.com/docs/guides/error-codes/api-errors.\n"
          ]
        },
        {
          "name": "stderr",
          "output_type": "stream",
          "text": [
            "Calculating Completeness:  91%|█████████ | 4357/4791 [34:53<00:38, 11.20entry/s]"
          ]
        },
        {
          "name": "stdout",
          "output_type": "stream",
          "text": [
            "Error querying OpenAI: You exceeded your current quota, please check your plan and billing details. For more information on this error, read the docs: https://platform.openai.com/docs/guides/error-codes/api-errors.\n",
            "Error querying OpenAI: You exceeded your current quota, please check your plan and billing details. For more information on this error, read the docs: https://platform.openai.com/docs/guides/error-codes/api-errors.\n",
            "Error querying OpenAI: You exceeded your current quota, please check your plan and billing details. For more information on this error, read the docs: https://platform.openai.com/docs/guides/error-codes/api-errors.\n"
          ]
        },
        {
          "name": "stderr",
          "output_type": "stream",
          "text": [
            "\rCalculating Completeness:  91%|█████████ | 4359/4791 [34:53<00:38, 11.35entry/s]"
          ]
        },
        {
          "name": "stdout",
          "output_type": "stream",
          "text": [
            "Error querying OpenAI: You exceeded your current quota, please check your plan and billing details. For more information on this error, read the docs: https://platform.openai.com/docs/guides/error-codes/api-errors.\n",
            "Error querying OpenAI: You exceeded your current quota, please check your plan and billing details. For more information on this error, read the docs: https://platform.openai.com/docs/guides/error-codes/api-errors.\n",
            "Error querying OpenAI: You exceeded your current quota, please check your plan and billing details. For more information on this error, read the docs: https://platform.openai.com/docs/guides/error-codes/api-errors.\n"
          ]
        },
        {
          "name": "stderr",
          "output_type": "stream",
          "text": [
            "Calculating Completeness:  91%|█████████ | 4363/4791 [34:53<00:39, 10.97entry/s]"
          ]
        },
        {
          "name": "stdout",
          "output_type": "stream",
          "text": [
            "Error querying OpenAI: You exceeded your current quota, please check your plan and billing details. For more information on this error, read the docs: https://platform.openai.com/docs/guides/error-codes/api-errors.\n",
            "Error querying OpenAI: You exceeded your current quota, please check your plan and billing details. For more information on this error, read the docs: https://platform.openai.com/docs/guides/error-codes/api-errors.\n",
            "Error querying OpenAI: You exceeded your current quota, please check your plan and billing details. For more information on this error, read the docs: https://platform.openai.com/docs/guides/error-codes/api-errors.\n"
          ]
        },
        {
          "name": "stderr",
          "output_type": "stream",
          "text": [
            "\rCalculating Completeness:  91%|█████████ | 4365/4791 [34:54<00:38, 11.02entry/s]"
          ]
        },
        {
          "name": "stdout",
          "output_type": "stream",
          "text": [
            "Error querying OpenAI: You exceeded your current quota, please check your plan and billing details. For more information on this error, read the docs: https://platform.openai.com/docs/guides/error-codes/api-errors.\n",
            "Error querying OpenAI: You exceeded your current quota, please check your plan and billing details. For more information on this error, read the docs: https://platform.openai.com/docs/guides/error-codes/api-errors.\n",
            "Error querying OpenAI: You exceeded your current quota, please check your plan and billing details. For more information on this error, read the docs: https://platform.openai.com/docs/guides/error-codes/api-errors.\n"
          ]
        },
        {
          "name": "stderr",
          "output_type": "stream",
          "text": [
            "Calculating Completeness:  91%|█████████ | 4369/4791 [34:54<00:38, 11.10entry/s]"
          ]
        },
        {
          "name": "stdout",
          "output_type": "stream",
          "text": [
            "Error querying OpenAI: You exceeded your current quota, please check your plan and billing details. For more information on this error, read the docs: https://platform.openai.com/docs/guides/error-codes/api-errors.\n",
            "Error querying OpenAI: You exceeded your current quota, please check your plan and billing details. For more information on this error, read the docs: https://platform.openai.com/docs/guides/error-codes/api-errors.\n",
            "Error querying OpenAI: You exceeded your current quota, please check your plan and billing details. For more information on this error, read the docs: https://platform.openai.com/docs/guides/error-codes/api-errors.\n"
          ]
        },
        {
          "name": "stderr",
          "output_type": "stream",
          "text": [
            "\rCalculating Completeness:  91%|█████████ | 4371/4791 [34:54<00:37, 11.31entry/s]"
          ]
        },
        {
          "name": "stdout",
          "output_type": "stream",
          "text": [
            "Error querying OpenAI: You exceeded your current quota, please check your plan and billing details. For more information on this error, read the docs: https://platform.openai.com/docs/guides/error-codes/api-errors.\n",
            "Error querying OpenAI: You exceeded your current quota, please check your plan and billing details. For more information on this error, read the docs: https://platform.openai.com/docs/guides/error-codes/api-errors.\n",
            "Error querying OpenAI: You exceeded your current quota, please check your plan and billing details. For more information on this error, read the docs: https://platform.openai.com/docs/guides/error-codes/api-errors.\n"
          ]
        },
        {
          "name": "stderr",
          "output_type": "stream",
          "text": [
            "Calculating Completeness:  91%|█████████▏| 4375/4791 [34:54<00:36, 11.49entry/s]"
          ]
        },
        {
          "name": "stdout",
          "output_type": "stream",
          "text": [
            "Error querying OpenAI: You exceeded your current quota, please check your plan and billing details. For more information on this error, read the docs: https://platform.openai.com/docs/guides/error-codes/api-errors.\n",
            "Error querying OpenAI: You exceeded your current quota, please check your plan and billing details. For more information on this error, read the docs: https://platform.openai.com/docs/guides/error-codes/api-errors.\n",
            "Error querying OpenAI: You exceeded your current quota, please check your plan and billing details. For more information on this error, read the docs: https://platform.openai.com/docs/guides/error-codes/api-errors.\n"
          ]
        },
        {
          "name": "stderr",
          "output_type": "stream",
          "text": [
            "\rCalculating Completeness:  91%|█████████▏| 4377/4791 [34:55<00:37, 11.15entry/s]"
          ]
        },
        {
          "name": "stdout",
          "output_type": "stream",
          "text": [
            "Error querying OpenAI: You exceeded your current quota, please check your plan and billing details. For more information on this error, read the docs: https://platform.openai.com/docs/guides/error-codes/api-errors.\n",
            "Error querying OpenAI: You exceeded your current quota, please check your plan and billing details. For more information on this error, read the docs: https://platform.openai.com/docs/guides/error-codes/api-errors.\n",
            "Error querying OpenAI: You exceeded your current quota, please check your plan and billing details. For more information on this error, read the docs: https://platform.openai.com/docs/guides/error-codes/api-errors.\n"
          ]
        },
        {
          "name": "stderr",
          "output_type": "stream",
          "text": [
            "Calculating Completeness:  91%|█████████▏| 4381/4791 [34:55<00:36, 11.35entry/s]"
          ]
        },
        {
          "name": "stdout",
          "output_type": "stream",
          "text": [
            "Error querying OpenAI: You exceeded your current quota, please check your plan and billing details. For more information on this error, read the docs: https://platform.openai.com/docs/guides/error-codes/api-errors.\n",
            "Error querying OpenAI: You exceeded your current quota, please check your plan and billing details. For more information on this error, read the docs: https://platform.openai.com/docs/guides/error-codes/api-errors.\n",
            "Error querying OpenAI: You exceeded your current quota, please check your plan and billing details. For more information on this error, read the docs: https://platform.openai.com/docs/guides/error-codes/api-errors.\n"
          ]
        },
        {
          "name": "stderr",
          "output_type": "stream",
          "text": [
            "\rCalculating Completeness:  91%|█████████▏| 4383/4791 [34:55<00:35, 11.43entry/s]"
          ]
        },
        {
          "name": "stdout",
          "output_type": "stream",
          "text": [
            "Error querying OpenAI: You exceeded your current quota, please check your plan and billing details. For more information on this error, read the docs: https://platform.openai.com/docs/guides/error-codes/api-errors.\n",
            "Error querying OpenAI: You exceeded your current quota, please check your plan and billing details. For more information on this error, read the docs: https://platform.openai.com/docs/guides/error-codes/api-errors.\n",
            "Error querying OpenAI: You exceeded your current quota, please check your plan and billing details. For more information on this error, read the docs: https://platform.openai.com/docs/guides/error-codes/api-errors.\n"
          ]
        },
        {
          "name": "stderr",
          "output_type": "stream",
          "text": [
            "Calculating Completeness:  92%|█████████▏| 4387/4791 [34:56<00:36, 11.18entry/s]"
          ]
        },
        {
          "name": "stdout",
          "output_type": "stream",
          "text": [
            "Error querying OpenAI: You exceeded your current quota, please check your plan and billing details. For more information on this error, read the docs: https://platform.openai.com/docs/guides/error-codes/api-errors.\n",
            "Error querying OpenAI: You exceeded your current quota, please check your plan and billing details. For more information on this error, read the docs: https://platform.openai.com/docs/guides/error-codes/api-errors.\n",
            "Error querying OpenAI: You exceeded your current quota, please check your plan and billing details. For more information on this error, read the docs: https://platform.openai.com/docs/guides/error-codes/api-errors.\n"
          ]
        },
        {
          "name": "stderr",
          "output_type": "stream",
          "text": [
            "\rCalculating Completeness:  92%|█████████▏| 4389/4791 [34:56<00:35, 11.18entry/s]"
          ]
        },
        {
          "name": "stdout",
          "output_type": "stream",
          "text": [
            "Error querying OpenAI: You exceeded your current quota, please check your plan and billing details. For more information on this error, read the docs: https://platform.openai.com/docs/guides/error-codes/api-errors.\n",
            "Error querying OpenAI: You exceeded your current quota, please check your plan and billing details. For more information on this error, read the docs: https://platform.openai.com/docs/guides/error-codes/api-errors.\n",
            "Error querying OpenAI: You exceeded your current quota, please check your plan and billing details. For more information on this error, read the docs: https://platform.openai.com/docs/guides/error-codes/api-errors.\n"
          ]
        },
        {
          "name": "stderr",
          "output_type": "stream",
          "text": [
            "Calculating Completeness:  92%|█████████▏| 4393/4791 [34:56<00:36, 11.03entry/s]"
          ]
        },
        {
          "name": "stdout",
          "output_type": "stream",
          "text": [
            "Error querying OpenAI: You exceeded your current quota, please check your plan and billing details. For more information on this error, read the docs: https://platform.openai.com/docs/guides/error-codes/api-errors.\n",
            "Error querying OpenAI: You exceeded your current quota, please check your plan and billing details. For more information on this error, read the docs: https://platform.openai.com/docs/guides/error-codes/api-errors.\n",
            "Error querying OpenAI: You exceeded your current quota, please check your plan and billing details. For more information on this error, read the docs: https://platform.openai.com/docs/guides/error-codes/api-errors.\n"
          ]
        },
        {
          "name": "stderr",
          "output_type": "stream",
          "text": [
            "\rCalculating Completeness:  92%|█████████▏| 4395/4791 [34:56<00:35, 11.09entry/s]"
          ]
        },
        {
          "name": "stdout",
          "output_type": "stream",
          "text": [
            "Error querying OpenAI: You exceeded your current quota, please check your plan and billing details. For more information on this error, read the docs: https://platform.openai.com/docs/guides/error-codes/api-errors.\n",
            "Error querying OpenAI: You exceeded your current quota, please check your plan and billing details. For more information on this error, read the docs: https://platform.openai.com/docs/guides/error-codes/api-errors.\n",
            "Error querying OpenAI: You exceeded your current quota, please check your plan and billing details. For more information on this error, read the docs: https://platform.openai.com/docs/guides/error-codes/api-errors.\n"
          ]
        },
        {
          "name": "stderr",
          "output_type": "stream",
          "text": [
            "Calculating Completeness:  92%|█████████▏| 4399/4791 [34:57<00:34, 11.36entry/s]"
          ]
        },
        {
          "name": "stdout",
          "output_type": "stream",
          "text": [
            "Error querying OpenAI: You exceeded your current quota, please check your plan and billing details. For more information on this error, read the docs: https://platform.openai.com/docs/guides/error-codes/api-errors.\n",
            "Error querying OpenAI: You exceeded your current quota, please check your plan and billing details. For more information on this error, read the docs: https://platform.openai.com/docs/guides/error-codes/api-errors.\n",
            "Error querying OpenAI: You exceeded your current quota, please check your plan and billing details. For more information on this error, read the docs: https://platform.openai.com/docs/guides/error-codes/api-errors.\n"
          ]
        },
        {
          "name": "stderr",
          "output_type": "stream",
          "text": [
            "\rCalculating Completeness:  92%|█████████▏| 4401/4791 [34:57<00:34, 11.33entry/s]"
          ]
        },
        {
          "name": "stdout",
          "output_type": "stream",
          "text": [
            "Error querying OpenAI: You exceeded your current quota, please check your plan and billing details. For more information on this error, read the docs: https://platform.openai.com/docs/guides/error-codes/api-errors.\n",
            "Error querying OpenAI: You exceeded your current quota, please check your plan and billing details. For more information on this error, read the docs: https://platform.openai.com/docs/guides/error-codes/api-errors.\n",
            "Error querying OpenAI: You exceeded your current quota, please check your plan and billing details. For more information on this error, read the docs: https://platform.openai.com/docs/guides/error-codes/api-errors.\n"
          ]
        },
        {
          "name": "stderr",
          "output_type": "stream",
          "text": [
            "Calculating Completeness:  92%|█████████▏| 4405/4791 [34:57<00:34, 11.31entry/s]"
          ]
        },
        {
          "name": "stdout",
          "output_type": "stream",
          "text": [
            "Error querying OpenAI: You exceeded your current quota, please check your plan and billing details. For more information on this error, read the docs: https://platform.openai.com/docs/guides/error-codes/api-errors.\n",
            "Error querying OpenAI: You exceeded your current quota, please check your plan and billing details. For more information on this error, read the docs: https://platform.openai.com/docs/guides/error-codes/api-errors.\n",
            "Error querying OpenAI: You exceeded your current quota, please check your plan and billing details. For more information on this error, read the docs: https://platform.openai.com/docs/guides/error-codes/api-errors.\n"
          ]
        },
        {
          "name": "stderr",
          "output_type": "stream",
          "text": [
            "\rCalculating Completeness:  92%|█████████▏| 4407/4791 [34:57<00:33, 11.38entry/s]"
          ]
        },
        {
          "name": "stdout",
          "output_type": "stream",
          "text": [
            "Error querying OpenAI: You exceeded your current quota, please check your plan and billing details. For more information on this error, read the docs: https://platform.openai.com/docs/guides/error-codes/api-errors.\n",
            "Error querying OpenAI: You exceeded your current quota, please check your plan and billing details. For more information on this error, read the docs: https://platform.openai.com/docs/guides/error-codes/api-errors.\n",
            "Error querying OpenAI: You exceeded your current quota, please check your plan and billing details. For more information on this error, read the docs: https://platform.openai.com/docs/guides/error-codes/api-errors.\n"
          ]
        },
        {
          "name": "stderr",
          "output_type": "stream",
          "text": [
            "Calculating Completeness:  92%|█████████▏| 4411/4791 [34:58<00:33, 11.26entry/s]"
          ]
        },
        {
          "name": "stdout",
          "output_type": "stream",
          "text": [
            "Error querying OpenAI: You exceeded your current quota, please check your plan and billing details. For more information on this error, read the docs: https://platform.openai.com/docs/guides/error-codes/api-errors.\n",
            "Error querying OpenAI: You exceeded your current quota, please check your plan and billing details. For more information on this error, read the docs: https://platform.openai.com/docs/guides/error-codes/api-errors.\n",
            "Error querying OpenAI: You exceeded your current quota, please check your plan and billing details. For more information on this error, read the docs: https://platform.openai.com/docs/guides/error-codes/api-errors.\n"
          ]
        },
        {
          "name": "stderr",
          "output_type": "stream",
          "text": [
            "\rCalculating Completeness:  92%|█████████▏| 4413/4791 [34:58<00:33, 11.36entry/s]"
          ]
        },
        {
          "name": "stdout",
          "output_type": "stream",
          "text": [
            "Error querying OpenAI: You exceeded your current quota, please check your plan and billing details. For more information on this error, read the docs: https://platform.openai.com/docs/guides/error-codes/api-errors.\n",
            "Error querying OpenAI: You exceeded your current quota, please check your plan and billing details. For more information on this error, read the docs: https://platform.openai.com/docs/guides/error-codes/api-errors.\n",
            "Error querying OpenAI: You exceeded your current quota, please check your plan and billing details. For more information on this error, read the docs: https://platform.openai.com/docs/guides/error-codes/api-errors.\n"
          ]
        },
        {
          "name": "stderr",
          "output_type": "stream",
          "text": [
            "Calculating Completeness:  92%|█████████▏| 4417/4791 [34:58<00:32, 11.39entry/s]"
          ]
        },
        {
          "name": "stdout",
          "output_type": "stream",
          "text": [
            "Error querying OpenAI: You exceeded your current quota, please check your plan and billing details. For more information on this error, read the docs: https://platform.openai.com/docs/guides/error-codes/api-errors.\n",
            "Error querying OpenAI: You exceeded your current quota, please check your plan and billing details. For more information on this error, read the docs: https://platform.openai.com/docs/guides/error-codes/api-errors.\n",
            "Error querying OpenAI: You exceeded your current quota, please check your plan and billing details. For more information on this error, read the docs: https://platform.openai.com/docs/guides/error-codes/api-errors.\n"
          ]
        },
        {
          "name": "stderr",
          "output_type": "stream",
          "text": [
            "\rCalculating Completeness:  92%|█████████▏| 4419/4791 [34:58<00:32, 11.39entry/s]"
          ]
        },
        {
          "name": "stdout",
          "output_type": "stream",
          "text": [
            "Error querying OpenAI: You exceeded your current quota, please check your plan and billing details. For more information on this error, read the docs: https://platform.openai.com/docs/guides/error-codes/api-errors.\n",
            "Error querying OpenAI: You exceeded your current quota, please check your plan and billing details. For more information on this error, read the docs: https://platform.openai.com/docs/guides/error-codes/api-errors.\n",
            "Error querying OpenAI: You exceeded your current quota, please check your plan and billing details. For more information on this error, read the docs: https://platform.openai.com/docs/guides/error-codes/api-errors.\n"
          ]
        },
        {
          "name": "stderr",
          "output_type": "stream",
          "text": [
            "Calculating Completeness:  92%|█████████▏| 4423/4791 [34:59<00:31, 11.52entry/s]"
          ]
        },
        {
          "name": "stdout",
          "output_type": "stream",
          "text": [
            "Error querying OpenAI: You exceeded your current quota, please check your plan and billing details. For more information on this error, read the docs: https://platform.openai.com/docs/guides/error-codes/api-errors.\n",
            "Error querying OpenAI: You exceeded your current quota, please check your plan and billing details. For more information on this error, read the docs: https://platform.openai.com/docs/guides/error-codes/api-errors.\n",
            "Error querying OpenAI: You exceeded your current quota, please check your plan and billing details. For more information on this error, read the docs: https://platform.openai.com/docs/guides/error-codes/api-errors.\n"
          ]
        },
        {
          "name": "stderr",
          "output_type": "stream",
          "text": [
            "\rCalculating Completeness:  92%|█████████▏| 4425/4791 [34:59<00:32, 11.40entry/s]"
          ]
        },
        {
          "name": "stdout",
          "output_type": "stream",
          "text": [
            "Error querying OpenAI: You exceeded your current quota, please check your plan and billing details. For more information on this error, read the docs: https://platform.openai.com/docs/guides/error-codes/api-errors.\n",
            "Error querying OpenAI: You exceeded your current quota, please check your plan and billing details. For more information on this error, read the docs: https://platform.openai.com/docs/guides/error-codes/api-errors.\n",
            "Error querying OpenAI: You exceeded your current quota, please check your plan and billing details. For more information on this error, read the docs: https://platform.openai.com/docs/guides/error-codes/api-errors.\n"
          ]
        },
        {
          "name": "stderr",
          "output_type": "stream",
          "text": [
            "Calculating Completeness:  92%|█████████▏| 4429/4791 [34:59<00:31, 11.45entry/s]"
          ]
        },
        {
          "name": "stdout",
          "output_type": "stream",
          "text": [
            "Error querying OpenAI: You exceeded your current quota, please check your plan and billing details. For more information on this error, read the docs: https://platform.openai.com/docs/guides/error-codes/api-errors.\n",
            "Error querying OpenAI: You exceeded your current quota, please check your plan and billing details. For more information on this error, read the docs: https://platform.openai.com/docs/guides/error-codes/api-errors.\n",
            "Error querying OpenAI: You exceeded your current quota, please check your plan and billing details. For more information on this error, read the docs: https://platform.openai.com/docs/guides/error-codes/api-errors.\n"
          ]
        },
        {
          "name": "stderr",
          "output_type": "stream",
          "text": [
            "\rCalculating Completeness:  92%|█████████▏| 4431/4791 [34:59<00:32, 11.24entry/s]"
          ]
        },
        {
          "name": "stdout",
          "output_type": "stream",
          "text": [
            "Error querying OpenAI: You exceeded your current quota, please check your plan and billing details. For more information on this error, read the docs: https://platform.openai.com/docs/guides/error-codes/api-errors.\n",
            "Error querying OpenAI: You exceeded your current quota, please check your plan and billing details. For more information on this error, read the docs: https://platform.openai.com/docs/guides/error-codes/api-errors.\n",
            "Error querying OpenAI: You exceeded your current quota, please check your plan and billing details. For more information on this error, read the docs: https://platform.openai.com/docs/guides/error-codes/api-errors.\n"
          ]
        },
        {
          "name": "stderr",
          "output_type": "stream",
          "text": [
            "Calculating Completeness:  93%|█████████▎| 4435/4791 [35:00<00:31, 11.36entry/s]"
          ]
        },
        {
          "name": "stdout",
          "output_type": "stream",
          "text": [
            "Error querying OpenAI: You exceeded your current quota, please check your plan and billing details. For more information on this error, read the docs: https://platform.openai.com/docs/guides/error-codes/api-errors.\n",
            "Error querying OpenAI: You exceeded your current quota, please check your plan and billing details. For more information on this error, read the docs: https://platform.openai.com/docs/guides/error-codes/api-errors.\n",
            "Error querying OpenAI: You exceeded your current quota, please check your plan and billing details. For more information on this error, read the docs: https://platform.openai.com/docs/guides/error-codes/api-errors.\n"
          ]
        },
        {
          "name": "stderr",
          "output_type": "stream",
          "text": [
            "\rCalculating Completeness:  93%|█████████▎| 4437/4791 [35:00<00:30, 11.42entry/s]"
          ]
        },
        {
          "name": "stdout",
          "output_type": "stream",
          "text": [
            "Error querying OpenAI: You exceeded your current quota, please check your plan and billing details. For more information on this error, read the docs: https://platform.openai.com/docs/guides/error-codes/api-errors.\n",
            "Error querying OpenAI: You exceeded your current quota, please check your plan and billing details. For more information on this error, read the docs: https://platform.openai.com/docs/guides/error-codes/api-errors.\n",
            "Error querying OpenAI: You exceeded your current quota, please check your plan and billing details. For more information on this error, read the docs: https://platform.openai.com/docs/guides/error-codes/api-errors.\n"
          ]
        },
        {
          "name": "stderr",
          "output_type": "stream",
          "text": [
            "Calculating Completeness:  93%|█████████▎| 4441/4791 [35:00<00:31, 11.09entry/s]"
          ]
        },
        {
          "name": "stdout",
          "output_type": "stream",
          "text": [
            "Error querying OpenAI: You exceeded your current quota, please check your plan and billing details. For more information on this error, read the docs: https://platform.openai.com/docs/guides/error-codes/api-errors.\n",
            "Error querying OpenAI: You exceeded your current quota, please check your plan and billing details. For more information on this error, read the docs: https://platform.openai.com/docs/guides/error-codes/api-errors.\n",
            "Error querying OpenAI: You exceeded your current quota, please check your plan and billing details. For more information on this error, read the docs: https://platform.openai.com/docs/guides/error-codes/api-errors.\n"
          ]
        },
        {
          "name": "stderr",
          "output_type": "stream",
          "text": [
            "\rCalculating Completeness:  93%|█████████▎| 4443/4791 [35:00<00:30, 11.27entry/s]"
          ]
        },
        {
          "name": "stdout",
          "output_type": "stream",
          "text": [
            "Error querying OpenAI: You exceeded your current quota, please check your plan and billing details. For more information on this error, read the docs: https://platform.openai.com/docs/guides/error-codes/api-errors.\n",
            "Error querying OpenAI: You exceeded your current quota, please check your plan and billing details. For more information on this error, read the docs: https://platform.openai.com/docs/guides/error-codes/api-errors.\n",
            "Error querying OpenAI: You exceeded your current quota, please check your plan and billing details. For more information on this error, read the docs: https://platform.openai.com/docs/guides/error-codes/api-errors.\n"
          ]
        },
        {
          "name": "stderr",
          "output_type": "stream",
          "text": [
            "Calculating Completeness:  93%|█████████▎| 4447/4791 [35:01<00:30, 11.34entry/s]"
          ]
        },
        {
          "name": "stdout",
          "output_type": "stream",
          "text": [
            "Error querying OpenAI: You exceeded your current quota, please check your plan and billing details. For more information on this error, read the docs: https://platform.openai.com/docs/guides/error-codes/api-errors.\n",
            "Error querying OpenAI: You exceeded your current quota, please check your plan and billing details. For more information on this error, read the docs: https://platform.openai.com/docs/guides/error-codes/api-errors.\n",
            "Error querying OpenAI: You exceeded your current quota, please check your plan and billing details. For more information on this error, read the docs: https://platform.openai.com/docs/guides/error-codes/api-errors.\n"
          ]
        },
        {
          "name": "stderr",
          "output_type": "stream",
          "text": [
            "\rCalculating Completeness:  93%|█████████▎| 4449/4791 [35:01<00:31, 10.91entry/s]"
          ]
        },
        {
          "name": "stdout",
          "output_type": "stream",
          "text": [
            "Error querying OpenAI: You exceeded your current quota, please check your plan and billing details. For more information on this error, read the docs: https://platform.openai.com/docs/guides/error-codes/api-errors.\n",
            "Error querying OpenAI: You exceeded your current quota, please check your plan and billing details. For more information on this error, read the docs: https://platform.openai.com/docs/guides/error-codes/api-errors.\n",
            "Error querying OpenAI: You exceeded your current quota, please check your plan and billing details. For more information on this error, read the docs: https://platform.openai.com/docs/guides/error-codes/api-errors.\n"
          ]
        },
        {
          "name": "stderr",
          "output_type": "stream",
          "text": [
            "Calculating Completeness:  93%|█████████▎| 4453/4791 [35:01<00:31, 10.86entry/s]"
          ]
        },
        {
          "name": "stdout",
          "output_type": "stream",
          "text": [
            "Error querying OpenAI: You exceeded your current quota, please check your plan and billing details. For more information on this error, read the docs: https://platform.openai.com/docs/guides/error-codes/api-errors.\n",
            "Error querying OpenAI: You exceeded your current quota, please check your plan and billing details. For more information on this error, read the docs: https://platform.openai.com/docs/guides/error-codes/api-errors.\n",
            "Error querying OpenAI: You exceeded your current quota, please check your plan and billing details. For more information on this error, read the docs: https://platform.openai.com/docs/guides/error-codes/api-errors.\n"
          ]
        },
        {
          "name": "stderr",
          "output_type": "stream",
          "text": [
            "\rCalculating Completeness:  93%|█████████▎| 4455/4791 [35:02<00:30, 11.01entry/s]"
          ]
        },
        {
          "name": "stdout",
          "output_type": "stream",
          "text": [
            "Error querying OpenAI: You exceeded your current quota, please check your plan and billing details. For more information on this error, read the docs: https://platform.openai.com/docs/guides/error-codes/api-errors.\n",
            "Error querying OpenAI: You exceeded your current quota, please check your plan and billing details. For more information on this error, read the docs: https://platform.openai.com/docs/guides/error-codes/api-errors.\n",
            "Error querying OpenAI: You exceeded your current quota, please check your plan and billing details. For more information on this error, read the docs: https://platform.openai.com/docs/guides/error-codes/api-errors.\n"
          ]
        },
        {
          "name": "stderr",
          "output_type": "stream",
          "text": [
            "Calculating Completeness:  93%|█████████▎| 4459/4791 [35:02<00:30, 10.86entry/s]"
          ]
        },
        {
          "name": "stdout",
          "output_type": "stream",
          "text": [
            "Error querying OpenAI: You exceeded your current quota, please check your plan and billing details. For more information on this error, read the docs: https://platform.openai.com/docs/guides/error-codes/api-errors.\n",
            "Error querying OpenAI: You exceeded your current quota, please check your plan and billing details. For more information on this error, read the docs: https://platform.openai.com/docs/guides/error-codes/api-errors.\n",
            "Error querying OpenAI: You exceeded your current quota, please check your plan and billing details. For more information on this error, read the docs: https://platform.openai.com/docs/guides/error-codes/api-errors.\n"
          ]
        },
        {
          "name": "stderr",
          "output_type": "stream",
          "text": [
            "\rCalculating Completeness:  93%|█████████▎| 4461/4791 [35:02<00:30, 10.97entry/s]"
          ]
        },
        {
          "name": "stdout",
          "output_type": "stream",
          "text": [
            "Error querying OpenAI: You exceeded your current quota, please check your plan and billing details. For more information on this error, read the docs: https://platform.openai.com/docs/guides/error-codes/api-errors.\n",
            "Error querying OpenAI: You exceeded your current quota, please check your plan and billing details. For more information on this error, read the docs: https://platform.openai.com/docs/guides/error-codes/api-errors.\n",
            "Error querying OpenAI: You exceeded your current quota, please check your plan and billing details. For more information on this error, read the docs: https://platform.openai.com/docs/guides/error-codes/api-errors.\n"
          ]
        },
        {
          "name": "stderr",
          "output_type": "stream",
          "text": [
            "Calculating Completeness:  93%|█████████▎| 4465/4791 [35:02<00:29, 11.19entry/s]"
          ]
        },
        {
          "name": "stdout",
          "output_type": "stream",
          "text": [
            "Error querying OpenAI: You exceeded your current quota, please check your plan and billing details. For more information on this error, read the docs: https://platform.openai.com/docs/guides/error-codes/api-errors.\n",
            "Error querying OpenAI: You exceeded your current quota, please check your plan and billing details. For more information on this error, read the docs: https://platform.openai.com/docs/guides/error-codes/api-errors.\n",
            "Error querying OpenAI: You exceeded your current quota, please check your plan and billing details. For more information on this error, read the docs: https://platform.openai.com/docs/guides/error-codes/api-errors.\n"
          ]
        },
        {
          "name": "stderr",
          "output_type": "stream",
          "text": [
            "\rCalculating Completeness:  93%|█████████▎| 4467/4791 [35:03<00:28, 11.33entry/s]"
          ]
        },
        {
          "name": "stdout",
          "output_type": "stream",
          "text": [
            "Error querying OpenAI: You exceeded your current quota, please check your plan and billing details. For more information on this error, read the docs: https://platform.openai.com/docs/guides/error-codes/api-errors.\n",
            "Error querying OpenAI: You exceeded your current quota, please check your plan and billing details. For more information on this error, read the docs: https://platform.openai.com/docs/guides/error-codes/api-errors.\n",
            "Error querying OpenAI: You exceeded your current quota, please check your plan and billing details. For more information on this error, read the docs: https://platform.openai.com/docs/guides/error-codes/api-errors.\n"
          ]
        },
        {
          "name": "stderr",
          "output_type": "stream",
          "text": [
            "\rCalculating Completeness:  93%|█████████▎| 4469/4791 [35:03<00:28, 11.44entry/s]"
          ]
        },
        {
          "name": "stdout",
          "output_type": "stream",
          "text": [
            "Error querying OpenAI: You exceeded your current quota, please check your plan and billing details. For more information on this error, read the docs: https://platform.openai.com/docs/guides/error-codes/api-errors.\n",
            "Error querying OpenAI: You exceeded your current quota, please check your plan and billing details. For more information on this error, read the docs: https://platform.openai.com/docs/guides/error-codes/api-errors.\n"
          ]
        },
        {
          "name": "stderr",
          "output_type": "stream",
          "text": [
            "Calculating Completeness:  93%|█████████▎| 4473/4791 [35:03<00:29, 10.91entry/s]"
          ]
        },
        {
          "name": "stdout",
          "output_type": "stream",
          "text": [
            "Error querying OpenAI: You exceeded your current quota, please check your plan and billing details. For more information on this error, read the docs: https://platform.openai.com/docs/guides/error-codes/api-errors.\n",
            "Error querying OpenAI: You exceeded your current quota, please check your plan and billing details. For more information on this error, read the docs: https://platform.openai.com/docs/guides/error-codes/api-errors.\n",
            "Error querying OpenAI: You exceeded your current quota, please check your plan and billing details. For more information on this error, read the docs: https://platform.openai.com/docs/guides/error-codes/api-errors.\n"
          ]
        },
        {
          "name": "stderr",
          "output_type": "stream",
          "text": [
            "\rCalculating Completeness:  93%|█████████▎| 4475/4791 [35:03<00:29, 10.87entry/s]"
          ]
        },
        {
          "name": "stdout",
          "output_type": "stream",
          "text": [
            "Error querying OpenAI: You exceeded your current quota, please check your plan and billing details. For more information on this error, read the docs: https://platform.openai.com/docs/guides/error-codes/api-errors.\n",
            "Error querying OpenAI: You exceeded your current quota, please check your plan and billing details. For more information on this error, read the docs: https://platform.openai.com/docs/guides/error-codes/api-errors.\n",
            "Error querying OpenAI: You exceeded your current quota, please check your plan and billing details. For more information on this error, read the docs: https://platform.openai.com/docs/guides/error-codes/api-errors.\n"
          ]
        },
        {
          "name": "stderr",
          "output_type": "stream",
          "text": [
            "Calculating Completeness:  93%|█████████▎| 4479/4791 [35:04<00:28, 11.08entry/s]"
          ]
        },
        {
          "name": "stdout",
          "output_type": "stream",
          "text": [
            "Error querying OpenAI: You exceeded your current quota, please check your plan and billing details. For more information on this error, read the docs: https://platform.openai.com/docs/guides/error-codes/api-errors.\n",
            "Error querying OpenAI: You exceeded your current quota, please check your plan and billing details. For more information on this error, read the docs: https://platform.openai.com/docs/guides/error-codes/api-errors.\n",
            "Error querying OpenAI: You exceeded your current quota, please check your plan and billing details. For more information on this error, read the docs: https://platform.openai.com/docs/guides/error-codes/api-errors.\n"
          ]
        },
        {
          "name": "stderr",
          "output_type": "stream",
          "text": [
            "\rCalculating Completeness:  94%|█████████▎| 4481/4791 [35:04<00:28, 10.92entry/s]"
          ]
        },
        {
          "name": "stdout",
          "output_type": "stream",
          "text": [
            "Error querying OpenAI: You exceeded your current quota, please check your plan and billing details. For more information on this error, read the docs: https://platform.openai.com/docs/guides/error-codes/api-errors.\n",
            "Error querying OpenAI: You exceeded your current quota, please check your plan and billing details. For more information on this error, read the docs: https://platform.openai.com/docs/guides/error-codes/api-errors.\n",
            "Error querying OpenAI: You exceeded your current quota, please check your plan and billing details. For more information on this error, read the docs: https://platform.openai.com/docs/guides/error-codes/api-errors.\n"
          ]
        },
        {
          "name": "stderr",
          "output_type": "stream",
          "text": [
            "Calculating Completeness:  94%|█████████▎| 4485/4791 [35:04<00:31,  9.78entry/s]"
          ]
        },
        {
          "name": "stdout",
          "output_type": "stream",
          "text": [
            "Error querying OpenAI: You exceeded your current quota, please check your plan and billing details. For more information on this error, read the docs: https://platform.openai.com/docs/guides/error-codes/api-errors.\n",
            "Error querying OpenAI: You exceeded your current quota, please check your plan and billing details. For more information on this error, read the docs: https://platform.openai.com/docs/guides/error-codes/api-errors.\n",
            "Error querying OpenAI: You exceeded your current quota, please check your plan and billing details. For more information on this error, read the docs: https://platform.openai.com/docs/guides/error-codes/api-errors.\n"
          ]
        },
        {
          "name": "stderr",
          "output_type": "stream",
          "text": [
            "\rCalculating Completeness:  94%|█████████▎| 4487/4791 [35:05<00:29, 10.21entry/s]"
          ]
        },
        {
          "name": "stdout",
          "output_type": "stream",
          "text": [
            "Error querying OpenAI: You exceeded your current quota, please check your plan and billing details. For more information on this error, read the docs: https://platform.openai.com/docs/guides/error-codes/api-errors.\n",
            "Error querying OpenAI: You exceeded your current quota, please check your plan and billing details. For more information on this error, read the docs: https://platform.openai.com/docs/guides/error-codes/api-errors.\n",
            "Error querying OpenAI: You exceeded your current quota, please check your plan and billing details. For more information on this error, read the docs: https://platform.openai.com/docs/guides/error-codes/api-errors.\n"
          ]
        },
        {
          "name": "stderr",
          "output_type": "stream",
          "text": [
            "Calculating Completeness:  94%|█████████▎| 4491/4791 [35:05<00:27, 10.89entry/s]"
          ]
        },
        {
          "name": "stdout",
          "output_type": "stream",
          "text": [
            "Error querying OpenAI: You exceeded your current quota, please check your plan and billing details. For more information on this error, read the docs: https://platform.openai.com/docs/guides/error-codes/api-errors.\n",
            "Error querying OpenAI: You exceeded your current quota, please check your plan and billing details. For more information on this error, read the docs: https://platform.openai.com/docs/guides/error-codes/api-errors.\n",
            "Error querying OpenAI: You exceeded your current quota, please check your plan and billing details. For more information on this error, read the docs: https://platform.openai.com/docs/guides/error-codes/api-errors.\n"
          ]
        },
        {
          "name": "stderr",
          "output_type": "stream",
          "text": [
            "\rCalculating Completeness:  94%|█████████▍| 4493/4791 [35:05<00:27, 10.88entry/s]"
          ]
        },
        {
          "name": "stdout",
          "output_type": "stream",
          "text": [
            "Error querying OpenAI: You exceeded your current quota, please check your plan and billing details. For more information on this error, read the docs: https://platform.openai.com/docs/guides/error-codes/api-errors.\n",
            "Error querying OpenAI: You exceeded your current quota, please check your plan and billing details. For more information on this error, read the docs: https://platform.openai.com/docs/guides/error-codes/api-errors.\n",
            "Error querying OpenAI: You exceeded your current quota, please check your plan and billing details. For more information on this error, read the docs: https://platform.openai.com/docs/guides/error-codes/api-errors.\n"
          ]
        },
        {
          "name": "stderr",
          "output_type": "stream",
          "text": [
            "Calculating Completeness:  94%|█████████▍| 4497/4791 [35:05<00:26, 11.09entry/s]"
          ]
        },
        {
          "name": "stdout",
          "output_type": "stream",
          "text": [
            "Error querying OpenAI: You exceeded your current quota, please check your plan and billing details. For more information on this error, read the docs: https://platform.openai.com/docs/guides/error-codes/api-errors.\n",
            "Error querying OpenAI: You exceeded your current quota, please check your plan and billing details. For more information on this error, read the docs: https://platform.openai.com/docs/guides/error-codes/api-errors.\n",
            "Error querying OpenAI: You exceeded your current quota, please check your plan and billing details. For more information on this error, read the docs: https://platform.openai.com/docs/guides/error-codes/api-errors.\n"
          ]
        },
        {
          "name": "stderr",
          "output_type": "stream",
          "text": [
            "\rCalculating Completeness:  94%|█████████▍| 4499/4791 [35:06<00:26, 11.07entry/s]"
          ]
        },
        {
          "name": "stdout",
          "output_type": "stream",
          "text": [
            "Error querying OpenAI: You exceeded your current quota, please check your plan and billing details. For more information on this error, read the docs: https://platform.openai.com/docs/guides/error-codes/api-errors.\n",
            "Error querying OpenAI: You exceeded your current quota, please check your plan and billing details. For more information on this error, read the docs: https://platform.openai.com/docs/guides/error-codes/api-errors.\n",
            "Error querying OpenAI: You exceeded your current quota, please check your plan and billing details. For more information on this error, read the docs: https://platform.openai.com/docs/guides/error-codes/api-errors.\n"
          ]
        },
        {
          "name": "stderr",
          "output_type": "stream",
          "text": [
            "Calculating Completeness:  94%|█████████▍| 4503/4791 [35:06<00:26, 10.98entry/s]"
          ]
        },
        {
          "name": "stdout",
          "output_type": "stream",
          "text": [
            "Error querying OpenAI: You exceeded your current quota, please check your plan and billing details. For more information on this error, read the docs: https://platform.openai.com/docs/guides/error-codes/api-errors.\n",
            "Error querying OpenAI: You exceeded your current quota, please check your plan and billing details. For more information on this error, read the docs: https://platform.openai.com/docs/guides/error-codes/api-errors.\n",
            "Error querying OpenAI: You exceeded your current quota, please check your plan and billing details. For more information on this error, read the docs: https://platform.openai.com/docs/guides/error-codes/api-errors.\n"
          ]
        },
        {
          "name": "stderr",
          "output_type": "stream",
          "text": [
            "\rCalculating Completeness:  94%|█████████▍| 4505/4791 [35:06<00:25, 11.09entry/s]"
          ]
        },
        {
          "name": "stdout",
          "output_type": "stream",
          "text": [
            "Error querying OpenAI: You exceeded your current quota, please check your plan and billing details. For more information on this error, read the docs: https://platform.openai.com/docs/guides/error-codes/api-errors.\n",
            "Error querying OpenAI: You exceeded your current quota, please check your plan and billing details. For more information on this error, read the docs: https://platform.openai.com/docs/guides/error-codes/api-errors.\n",
            "Error querying OpenAI: You exceeded your current quota, please check your plan and billing details. For more information on this error, read the docs: https://platform.openai.com/docs/guides/error-codes/api-errors.\n"
          ]
        },
        {
          "name": "stderr",
          "output_type": "stream",
          "text": [
            "Calculating Completeness:  94%|█████████▍| 4509/4791 [35:07<00:24, 11.32entry/s]"
          ]
        },
        {
          "name": "stdout",
          "output_type": "stream",
          "text": [
            "Error querying OpenAI: You exceeded your current quota, please check your plan and billing details. For more information on this error, read the docs: https://platform.openai.com/docs/guides/error-codes/api-errors.\n",
            "Error querying OpenAI: You exceeded your current quota, please check your plan and billing details. For more information on this error, read the docs: https://platform.openai.com/docs/guides/error-codes/api-errors.\n",
            "Error querying OpenAI: You exceeded your current quota, please check your plan and billing details. For more information on this error, read the docs: https://platform.openai.com/docs/guides/error-codes/api-errors.\n"
          ]
        },
        {
          "name": "stderr",
          "output_type": "stream",
          "text": [
            "\rCalculating Completeness:  94%|█████████▍| 4511/4791 [35:07<00:24, 11.21entry/s]"
          ]
        },
        {
          "name": "stdout",
          "output_type": "stream",
          "text": [
            "Error querying OpenAI: You exceeded your current quota, please check your plan and billing details. For more information on this error, read the docs: https://platform.openai.com/docs/guides/error-codes/api-errors.\n",
            "Error querying OpenAI: You exceeded your current quota, please check your plan and billing details. For more information on this error, read the docs: https://platform.openai.com/docs/guides/error-codes/api-errors.\n",
            "Error querying OpenAI: You exceeded your current quota, please check your plan and billing details. For more information on this error, read the docs: https://platform.openai.com/docs/guides/error-codes/api-errors.\n"
          ]
        },
        {
          "name": "stderr",
          "output_type": "stream",
          "text": [
            "Calculating Completeness:  94%|█████████▍| 4515/4791 [35:07<00:24, 11.25entry/s]"
          ]
        },
        {
          "name": "stdout",
          "output_type": "stream",
          "text": [
            "Error querying OpenAI: You exceeded your current quota, please check your plan and billing details. For more information on this error, read the docs: https://platform.openai.com/docs/guides/error-codes/api-errors.\n",
            "Error querying OpenAI: You exceeded your current quota, please check your plan and billing details. For more information on this error, read the docs: https://platform.openai.com/docs/guides/error-codes/api-errors.\n",
            "Error querying OpenAI: You exceeded your current quota, please check your plan and billing details. For more information on this error, read the docs: https://platform.openai.com/docs/guides/error-codes/api-errors.\n"
          ]
        },
        {
          "name": "stderr",
          "output_type": "stream",
          "text": [
            "\rCalculating Completeness:  94%|█████████▍| 4517/4791 [35:07<00:24, 11.28entry/s]"
          ]
        },
        {
          "name": "stdout",
          "output_type": "stream",
          "text": [
            "Error querying OpenAI: You exceeded your current quota, please check your plan and billing details. For more information on this error, read the docs: https://platform.openai.com/docs/guides/error-codes/api-errors.\n",
            "Error querying OpenAI: You exceeded your current quota, please check your plan and billing details. For more information on this error, read the docs: https://platform.openai.com/docs/guides/error-codes/api-errors.\n",
            "Error querying OpenAI: You exceeded your current quota, please check your plan and billing details. For more information on this error, read the docs: https://platform.openai.com/docs/guides/error-codes/api-errors.\n"
          ]
        },
        {
          "name": "stderr",
          "output_type": "stream",
          "text": [
            "Calculating Completeness:  94%|█████████▍| 4521/4791 [35:08<00:23, 11.37entry/s]"
          ]
        },
        {
          "name": "stdout",
          "output_type": "stream",
          "text": [
            "Error querying OpenAI: You exceeded your current quota, please check your plan and billing details. For more information on this error, read the docs: https://platform.openai.com/docs/guides/error-codes/api-errors.\n",
            "Error querying OpenAI: You exceeded your current quota, please check your plan and billing details. For more information on this error, read the docs: https://platform.openai.com/docs/guides/error-codes/api-errors.\n",
            "Error querying OpenAI: You exceeded your current quota, please check your plan and billing details. For more information on this error, read the docs: https://platform.openai.com/docs/guides/error-codes/api-errors.\n"
          ]
        },
        {
          "name": "stderr",
          "output_type": "stream",
          "text": [
            "\rCalculating Completeness:  94%|█████████▍| 4523/4791 [35:08<00:23, 11.45entry/s]"
          ]
        },
        {
          "name": "stdout",
          "output_type": "stream",
          "text": [
            "Error querying OpenAI: You exceeded your current quota, please check your plan and billing details. For more information on this error, read the docs: https://platform.openai.com/docs/guides/error-codes/api-errors.\n",
            "Error querying OpenAI: You exceeded your current quota, please check your plan and billing details. For more information on this error, read the docs: https://platform.openai.com/docs/guides/error-codes/api-errors.\n",
            "Error querying OpenAI: You exceeded your current quota, please check your plan and billing details. For more information on this error, read the docs: https://platform.openai.com/docs/guides/error-codes/api-errors.\n"
          ]
        },
        {
          "name": "stderr",
          "output_type": "stream",
          "text": [
            "Calculating Completeness:  94%|█████████▍| 4527/4791 [35:08<00:23, 11.29entry/s]"
          ]
        },
        {
          "name": "stdout",
          "output_type": "stream",
          "text": [
            "Error querying OpenAI: You exceeded your current quota, please check your plan and billing details. For more information on this error, read the docs: https://platform.openai.com/docs/guides/error-codes/api-errors.\n",
            "Error querying OpenAI: You exceeded your current quota, please check your plan and billing details. For more information on this error, read the docs: https://platform.openai.com/docs/guides/error-codes/api-errors.\n",
            "Error querying OpenAI: You exceeded your current quota, please check your plan and billing details. For more information on this error, read the docs: https://platform.openai.com/docs/guides/error-codes/api-errors.\n"
          ]
        },
        {
          "name": "stderr",
          "output_type": "stream",
          "text": [
            "\rCalculating Completeness:  95%|█████████▍| 4529/4791 [35:08<00:23, 11.16entry/s]"
          ]
        },
        {
          "name": "stdout",
          "output_type": "stream",
          "text": [
            "Error querying OpenAI: You exceeded your current quota, please check your plan and billing details. For more information on this error, read the docs: https://platform.openai.com/docs/guides/error-codes/api-errors.\n",
            "Error querying OpenAI: You exceeded your current quota, please check your plan and billing details. For more information on this error, read the docs: https://platform.openai.com/docs/guides/error-codes/api-errors.\n",
            "Error querying OpenAI: You exceeded your current quota, please check your plan and billing details. For more information on this error, read the docs: https://platform.openai.com/docs/guides/error-codes/api-errors.\n"
          ]
        },
        {
          "name": "stderr",
          "output_type": "stream",
          "text": [
            "Calculating Completeness:  95%|█████████▍| 4533/4791 [35:09<00:23, 11.19entry/s]"
          ]
        },
        {
          "name": "stdout",
          "output_type": "stream",
          "text": [
            "Error querying OpenAI: You exceeded your current quota, please check your plan and billing details. For more information on this error, read the docs: https://platform.openai.com/docs/guides/error-codes/api-errors.\n",
            "Error querying OpenAI: You exceeded your current quota, please check your plan and billing details. For more information on this error, read the docs: https://platform.openai.com/docs/guides/error-codes/api-errors.\n",
            "Error querying OpenAI: You exceeded your current quota, please check your plan and billing details. For more information on this error, read the docs: https://platform.openai.com/docs/guides/error-codes/api-errors.\n"
          ]
        },
        {
          "name": "stderr",
          "output_type": "stream",
          "text": [
            "\rCalculating Completeness:  95%|█████████▍| 4535/4791 [35:09<00:22, 11.18entry/s]"
          ]
        },
        {
          "name": "stdout",
          "output_type": "stream",
          "text": [
            "Error querying OpenAI: You exceeded your current quota, please check your plan and billing details. For more information on this error, read the docs: https://platform.openai.com/docs/guides/error-codes/api-errors.\n",
            "Error querying OpenAI: You exceeded your current quota, please check your plan and billing details. For more information on this error, read the docs: https://platform.openai.com/docs/guides/error-codes/api-errors.\n",
            "Error querying OpenAI: You exceeded your current quota, please check your plan and billing details. For more information on this error, read the docs: https://platform.openai.com/docs/guides/error-codes/api-errors.\n"
          ]
        },
        {
          "name": "stderr",
          "output_type": "stream",
          "text": [
            "Calculating Completeness:  95%|█████████▍| 4539/4791 [35:09<00:22, 11.11entry/s]"
          ]
        },
        {
          "name": "stdout",
          "output_type": "stream",
          "text": [
            "Error querying OpenAI: You exceeded your current quota, please check your plan and billing details. For more information on this error, read the docs: https://platform.openai.com/docs/guides/error-codes/api-errors.\n",
            "Error querying OpenAI: You exceeded your current quota, please check your plan and billing details. For more information on this error, read the docs: https://platform.openai.com/docs/guides/error-codes/api-errors.\n",
            "Error querying OpenAI: You exceeded your current quota, please check your plan and billing details. For more information on this error, read the docs: https://platform.openai.com/docs/guides/error-codes/api-errors.\n"
          ]
        },
        {
          "name": "stderr",
          "output_type": "stream",
          "text": [
            "\rCalculating Completeness:  95%|█████████▍| 4541/4791 [35:09<00:23, 10.81entry/s]"
          ]
        },
        {
          "name": "stdout",
          "output_type": "stream",
          "text": [
            "Error querying OpenAI: You exceeded your current quota, please check your plan and billing details. For more information on this error, read the docs: https://platform.openai.com/docs/guides/error-codes/api-errors.\n",
            "Error querying OpenAI: You exceeded your current quota, please check your plan and billing details. For more information on this error, read the docs: https://platform.openai.com/docs/guides/error-codes/api-errors.\n",
            "Error querying OpenAI: You exceeded your current quota, please check your plan and billing details. For more information on this error, read the docs: https://platform.openai.com/docs/guides/error-codes/api-errors.\n"
          ]
        },
        {
          "name": "stderr",
          "output_type": "stream",
          "text": [
            "Calculating Completeness:  95%|█████████▍| 4545/4791 [35:10<00:22, 11.09entry/s]"
          ]
        },
        {
          "name": "stdout",
          "output_type": "stream",
          "text": [
            "Error querying OpenAI: You exceeded your current quota, please check your plan and billing details. For more information on this error, read the docs: https://platform.openai.com/docs/guides/error-codes/api-errors.\n",
            "Error querying OpenAI: You exceeded your current quota, please check your plan and billing details. For more information on this error, read the docs: https://platform.openai.com/docs/guides/error-codes/api-errors.\n",
            "Error querying OpenAI: You exceeded your current quota, please check your plan and billing details. For more information on this error, read the docs: https://platform.openai.com/docs/guides/error-codes/api-errors.\n"
          ]
        },
        {
          "name": "stderr",
          "output_type": "stream",
          "text": [
            "\rCalculating Completeness:  95%|█████████▍| 4547/4791 [35:10<00:22, 11.09entry/s]"
          ]
        },
        {
          "name": "stdout",
          "output_type": "stream",
          "text": [
            "Error querying OpenAI: You exceeded your current quota, please check your plan and billing details. For more information on this error, read the docs: https://platform.openai.com/docs/guides/error-codes/api-errors.\n",
            "Error querying OpenAI: You exceeded your current quota, please check your plan and billing details. For more information on this error, read the docs: https://platform.openai.com/docs/guides/error-codes/api-errors.\n",
            "Error querying OpenAI: You exceeded your current quota, please check your plan and billing details. For more information on this error, read the docs: https://platform.openai.com/docs/guides/error-codes/api-errors.\n"
          ]
        },
        {
          "name": "stderr",
          "output_type": "stream",
          "text": [
            "Calculating Completeness:  95%|█████████▍| 4551/4791 [35:10<00:22, 10.91entry/s]"
          ]
        },
        {
          "name": "stdout",
          "output_type": "stream",
          "text": [
            "Error querying OpenAI: You exceeded your current quota, please check your plan and billing details. For more information on this error, read the docs: https://platform.openai.com/docs/guides/error-codes/api-errors.\n",
            "Error querying OpenAI: You exceeded your current quota, please check your plan and billing details. For more information on this error, read the docs: https://platform.openai.com/docs/guides/error-codes/api-errors.\n",
            "Error querying OpenAI: You exceeded your current quota, please check your plan and billing details. For more information on this error, read the docs: https://platform.openai.com/docs/guides/error-codes/api-errors.\n"
          ]
        },
        {
          "name": "stderr",
          "output_type": "stream",
          "text": [
            "\rCalculating Completeness:  95%|█████████▌| 4553/4791 [35:11<00:21, 10.91entry/s]"
          ]
        },
        {
          "name": "stdout",
          "output_type": "stream",
          "text": [
            "Error querying OpenAI: You exceeded your current quota, please check your plan and billing details. For more information on this error, read the docs: https://platform.openai.com/docs/guides/error-codes/api-errors.\n",
            "Error querying OpenAI: You exceeded your current quota, please check your plan and billing details. For more information on this error, read the docs: https://platform.openai.com/docs/guides/error-codes/api-errors.\n",
            "Error querying OpenAI: You exceeded your current quota, please check your plan and billing details. For more information on this error, read the docs: https://platform.openai.com/docs/guides/error-codes/api-errors.\n"
          ]
        },
        {
          "name": "stderr",
          "output_type": "stream",
          "text": [
            "Calculating Completeness:  95%|█████████▌| 4557/4791 [35:11<00:21, 11.01entry/s]"
          ]
        },
        {
          "name": "stdout",
          "output_type": "stream",
          "text": [
            "Error querying OpenAI: You exceeded your current quota, please check your plan and billing details. For more information on this error, read the docs: https://platform.openai.com/docs/guides/error-codes/api-errors.\n",
            "Error querying OpenAI: You exceeded your current quota, please check your plan and billing details. For more information on this error, read the docs: https://platform.openai.com/docs/guides/error-codes/api-errors.\n",
            "Error querying OpenAI: You exceeded your current quota, please check your plan and billing details. For more information on this error, read the docs: https://platform.openai.com/docs/guides/error-codes/api-errors.\n"
          ]
        },
        {
          "name": "stderr",
          "output_type": "stream",
          "text": [
            "\rCalculating Completeness:  95%|█████████▌| 4559/4791 [35:11<00:21, 11.03entry/s]"
          ]
        },
        {
          "name": "stdout",
          "output_type": "stream",
          "text": [
            "Error querying OpenAI: You exceeded your current quota, please check your plan and billing details. For more information on this error, read the docs: https://platform.openai.com/docs/guides/error-codes/api-errors.\n",
            "Error querying OpenAI: You exceeded your current quota, please check your plan and billing details. For more information on this error, read the docs: https://platform.openai.com/docs/guides/error-codes/api-errors.\n",
            "Error querying OpenAI: You exceeded your current quota, please check your plan and billing details. For more information on this error, read the docs: https://platform.openai.com/docs/guides/error-codes/api-errors.\n"
          ]
        },
        {
          "name": "stderr",
          "output_type": "stream",
          "text": [
            "\rCalculating Completeness:  95%|█████████▌| 4561/4791 [35:11<00:22, 10.06entry/s]"
          ]
        },
        {
          "name": "stdout",
          "output_type": "stream",
          "text": [
            "Error querying OpenAI: You exceeded your current quota, please check your plan and billing details. For more information on this error, read the docs: https://platform.openai.com/docs/guides/error-codes/api-errors.\n",
            "Error querying OpenAI: You exceeded your current quota, please check your plan and billing details. For more information on this error, read the docs: https://platform.openai.com/docs/guides/error-codes/api-errors.\n"
          ]
        },
        {
          "name": "stderr",
          "output_type": "stream",
          "text": [
            "Calculating Completeness:  95%|█████████▌| 4565/4791 [35:12<00:21, 10.37entry/s]"
          ]
        },
        {
          "name": "stdout",
          "output_type": "stream",
          "text": [
            "Error querying OpenAI: You exceeded your current quota, please check your plan and billing details. For more information on this error, read the docs: https://platform.openai.com/docs/guides/error-codes/api-errors.\n",
            "Error querying OpenAI: You exceeded your current quota, please check your plan and billing details. For more information on this error, read the docs: https://platform.openai.com/docs/guides/error-codes/api-errors.\n",
            "Error querying OpenAI: You exceeded your current quota, please check your plan and billing details. For more information on this error, read the docs: https://platform.openai.com/docs/guides/error-codes/api-errors.\n"
          ]
        },
        {
          "name": "stderr",
          "output_type": "stream",
          "text": [
            "\rCalculating Completeness:  95%|█████████▌| 4567/4791 [35:12<00:21, 10.60entry/s]"
          ]
        },
        {
          "name": "stdout",
          "output_type": "stream",
          "text": [
            "Error querying OpenAI: You exceeded your current quota, please check your plan and billing details. For more information on this error, read the docs: https://platform.openai.com/docs/guides/error-codes/api-errors.\n",
            "Error querying OpenAI: You exceeded your current quota, please check your plan and billing details. For more information on this error, read the docs: https://platform.openai.com/docs/guides/error-codes/api-errors.\n",
            "Error querying OpenAI: You exceeded your current quota, please check your plan and billing details. For more information on this error, read the docs: https://platform.openai.com/docs/guides/error-codes/api-errors.\n"
          ]
        },
        {
          "name": "stderr",
          "output_type": "stream",
          "text": [
            "Calculating Completeness:  95%|█████████▌| 4571/4791 [35:12<00:20, 10.95entry/s]"
          ]
        },
        {
          "name": "stdout",
          "output_type": "stream",
          "text": [
            "Error querying OpenAI: You exceeded your current quota, please check your plan and billing details. For more information on this error, read the docs: https://platform.openai.com/docs/guides/error-codes/api-errors.\n",
            "Error querying OpenAI: You exceeded your current quota, please check your plan and billing details. For more information on this error, read the docs: https://platform.openai.com/docs/guides/error-codes/api-errors.\n",
            "Error querying OpenAI: You exceeded your current quota, please check your plan and billing details. For more information on this error, read the docs: https://platform.openai.com/docs/guides/error-codes/api-errors.\n"
          ]
        },
        {
          "name": "stderr",
          "output_type": "stream",
          "text": [
            "\rCalculating Completeness:  95%|█████████▌| 4573/4791 [35:12<00:19, 11.09entry/s]"
          ]
        },
        {
          "name": "stdout",
          "output_type": "stream",
          "text": [
            "Error querying OpenAI: You exceeded your current quota, please check your plan and billing details. For more information on this error, read the docs: https://platform.openai.com/docs/guides/error-codes/api-errors.\n",
            "Error querying OpenAI: You exceeded your current quota, please check your plan and billing details. For more information on this error, read the docs: https://platform.openai.com/docs/guides/error-codes/api-errors.\n",
            "Error querying OpenAI: You exceeded your current quota, please check your plan and billing details. For more information on this error, read the docs: https://platform.openai.com/docs/guides/error-codes/api-errors.\n"
          ]
        },
        {
          "name": "stderr",
          "output_type": "stream",
          "text": [
            "Calculating Completeness:  96%|█████████▌| 4577/4791 [35:13<00:18, 11.30entry/s]"
          ]
        },
        {
          "name": "stdout",
          "output_type": "stream",
          "text": [
            "Error querying OpenAI: You exceeded your current quota, please check your plan and billing details. For more information on this error, read the docs: https://platform.openai.com/docs/guides/error-codes/api-errors.\n",
            "Error querying OpenAI: You exceeded your current quota, please check your plan and billing details. For more information on this error, read the docs: https://platform.openai.com/docs/guides/error-codes/api-errors.\n",
            "Error querying OpenAI: You exceeded your current quota, please check your plan and billing details. For more information on this error, read the docs: https://platform.openai.com/docs/guides/error-codes/api-errors.\n"
          ]
        },
        {
          "name": "stderr",
          "output_type": "stream",
          "text": [
            "\rCalculating Completeness:  96%|█████████▌| 4579/4791 [35:13<00:19, 11.06entry/s]"
          ]
        },
        {
          "name": "stdout",
          "output_type": "stream",
          "text": [
            "Error querying OpenAI: You exceeded your current quota, please check your plan and billing details. For more information on this error, read the docs: https://platform.openai.com/docs/guides/error-codes/api-errors.\n",
            "Error querying OpenAI: You exceeded your current quota, please check your plan and billing details. For more information on this error, read the docs: https://platform.openai.com/docs/guides/error-codes/api-errors.\n",
            "Error querying OpenAI: You exceeded your current quota, please check your plan and billing details. For more information on this error, read the docs: https://platform.openai.com/docs/guides/error-codes/api-errors.\n"
          ]
        },
        {
          "name": "stderr",
          "output_type": "stream",
          "text": [
            "Calculating Completeness:  96%|█████████▌| 4583/4791 [35:13<00:18, 11.08entry/s]"
          ]
        },
        {
          "name": "stdout",
          "output_type": "stream",
          "text": [
            "Error querying OpenAI: You exceeded your current quota, please check your plan and billing details. For more information on this error, read the docs: https://platform.openai.com/docs/guides/error-codes/api-errors.\n",
            "Error querying OpenAI: You exceeded your current quota, please check your plan and billing details. For more information on this error, read the docs: https://platform.openai.com/docs/guides/error-codes/api-errors.\n",
            "Error querying OpenAI: You exceeded your current quota, please check your plan and billing details. For more information on this error, read the docs: https://platform.openai.com/docs/guides/error-codes/api-errors.\n"
          ]
        },
        {
          "name": "stderr",
          "output_type": "stream",
          "text": [
            "\rCalculating Completeness:  96%|█████████▌| 4585/4791 [35:13<00:18, 11.07entry/s]"
          ]
        },
        {
          "name": "stdout",
          "output_type": "stream",
          "text": [
            "Error querying OpenAI: You exceeded your current quota, please check your plan and billing details. For more information on this error, read the docs: https://platform.openai.com/docs/guides/error-codes/api-errors.\n",
            "Error querying OpenAI: You exceeded your current quota, please check your plan and billing details. For more information on this error, read the docs: https://platform.openai.com/docs/guides/error-codes/api-errors.\n",
            "Error querying OpenAI: You exceeded your current quota, please check your plan and billing details. For more information on this error, read the docs: https://platform.openai.com/docs/guides/error-codes/api-errors.\n"
          ]
        },
        {
          "name": "stderr",
          "output_type": "stream",
          "text": [
            "Calculating Completeness:  96%|█████████▌| 4589/4791 [35:14<00:18, 10.87entry/s]"
          ]
        },
        {
          "name": "stdout",
          "output_type": "stream",
          "text": [
            "Error querying OpenAI: You exceeded your current quota, please check your plan and billing details. For more information on this error, read the docs: https://platform.openai.com/docs/guides/error-codes/api-errors.\n",
            "Error querying OpenAI: You exceeded your current quota, please check your plan and billing details. For more information on this error, read the docs: https://platform.openai.com/docs/guides/error-codes/api-errors.\n",
            "Error querying OpenAI: You exceeded your current quota, please check your plan and billing details. For more information on this error, read the docs: https://platform.openai.com/docs/guides/error-codes/api-errors.\n"
          ]
        },
        {
          "name": "stderr",
          "output_type": "stream",
          "text": [
            "\rCalculating Completeness:  96%|█████████▌| 4591/4791 [35:14<00:18, 10.74entry/s]"
          ]
        },
        {
          "name": "stdout",
          "output_type": "stream",
          "text": [
            "Error querying OpenAI: You exceeded your current quota, please check your plan and billing details. For more information on this error, read the docs: https://platform.openai.com/docs/guides/error-codes/api-errors.\n",
            "Error querying OpenAI: You exceeded your current quota, please check your plan and billing details. For more information on this error, read the docs: https://platform.openai.com/docs/guides/error-codes/api-errors.\n",
            "Error querying OpenAI: You exceeded your current quota, please check your plan and billing details. For more information on this error, read the docs: https://platform.openai.com/docs/guides/error-codes/api-errors.\n"
          ]
        },
        {
          "name": "stderr",
          "output_type": "stream",
          "text": [
            "Calculating Completeness:  96%|█████████▌| 4595/4791 [35:14<00:17, 11.11entry/s]"
          ]
        },
        {
          "name": "stdout",
          "output_type": "stream",
          "text": [
            "Error querying OpenAI: You exceeded your current quota, please check your plan and billing details. For more information on this error, read the docs: https://platform.openai.com/docs/guides/error-codes/api-errors.\n",
            "Error querying OpenAI: You exceeded your current quota, please check your plan and billing details. For more information on this error, read the docs: https://platform.openai.com/docs/guides/error-codes/api-errors.\n",
            "Error querying OpenAI: You exceeded your current quota, please check your plan and billing details. For more information on this error, read the docs: https://platform.openai.com/docs/guides/error-codes/api-errors.\n"
          ]
        },
        {
          "name": "stderr",
          "output_type": "stream",
          "text": [
            "\rCalculating Completeness:  96%|█████████▌| 4597/4791 [35:15<00:17, 11.06entry/s]"
          ]
        },
        {
          "name": "stdout",
          "output_type": "stream",
          "text": [
            "Error querying OpenAI: You exceeded your current quota, please check your plan and billing details. For more information on this error, read the docs: https://platform.openai.com/docs/guides/error-codes/api-errors.\n",
            "Error querying OpenAI: You exceeded your current quota, please check your plan and billing details. For more information on this error, read the docs: https://platform.openai.com/docs/guides/error-codes/api-errors.\n",
            "Error querying OpenAI: You exceeded your current quota, please check your plan and billing details. For more information on this error, read the docs: https://platform.openai.com/docs/guides/error-codes/api-errors.\n"
          ]
        },
        {
          "name": "stderr",
          "output_type": "stream",
          "text": [
            "Calculating Completeness:  96%|█████████▌| 4601/4791 [35:15<00:16, 11.33entry/s]"
          ]
        },
        {
          "name": "stdout",
          "output_type": "stream",
          "text": [
            "Error querying OpenAI: You exceeded your current quota, please check your plan and billing details. For more information on this error, read the docs: https://platform.openai.com/docs/guides/error-codes/api-errors.\n",
            "Error querying OpenAI: You exceeded your current quota, please check your plan and billing details. For more information on this error, read the docs: https://platform.openai.com/docs/guides/error-codes/api-errors.\n",
            "Error querying OpenAI: You exceeded your current quota, please check your plan and billing details. For more information on this error, read the docs: https://platform.openai.com/docs/guides/error-codes/api-errors.\n"
          ]
        },
        {
          "name": "stderr",
          "output_type": "stream",
          "text": [
            "\rCalculating Completeness:  96%|█████████▌| 4603/4791 [35:15<00:16, 11.10entry/s]"
          ]
        },
        {
          "name": "stdout",
          "output_type": "stream",
          "text": [
            "Error querying OpenAI: You exceeded your current quota, please check your plan and billing details. For more information on this error, read the docs: https://platform.openai.com/docs/guides/error-codes/api-errors.\n",
            "Error querying OpenAI: You exceeded your current quota, please check your plan and billing details. For more information on this error, read the docs: https://platform.openai.com/docs/guides/error-codes/api-errors.\n",
            "Error querying OpenAI: You exceeded your current quota, please check your plan and billing details. For more information on this error, read the docs: https://platform.openai.com/docs/guides/error-codes/api-errors.\n"
          ]
        },
        {
          "name": "stderr",
          "output_type": "stream",
          "text": [
            "Calculating Completeness:  96%|█████████▌| 4607/4791 [35:15<00:16, 11.04entry/s]"
          ]
        },
        {
          "name": "stdout",
          "output_type": "stream",
          "text": [
            "Error querying OpenAI: You exceeded your current quota, please check your plan and billing details. For more information on this error, read the docs: https://platform.openai.com/docs/guides/error-codes/api-errors.\n",
            "Error querying OpenAI: You exceeded your current quota, please check your plan and billing details. For more information on this error, read the docs: https://platform.openai.com/docs/guides/error-codes/api-errors.\n",
            "Error querying OpenAI: You exceeded your current quota, please check your plan and billing details. For more information on this error, read the docs: https://platform.openai.com/docs/guides/error-codes/api-errors.\n"
          ]
        },
        {
          "name": "stderr",
          "output_type": "stream",
          "text": [
            "\rCalculating Completeness:  96%|█████████▌| 4609/4791 [35:16<00:16, 11.08entry/s]"
          ]
        },
        {
          "name": "stdout",
          "output_type": "stream",
          "text": [
            "Error querying OpenAI: You exceeded your current quota, please check your plan and billing details. For more information on this error, read the docs: https://platform.openai.com/docs/guides/error-codes/api-errors.\n",
            "Error querying OpenAI: You exceeded your current quota, please check your plan and billing details. For more information on this error, read the docs: https://platform.openai.com/docs/guides/error-codes/api-errors.\n",
            "Error querying OpenAI: You exceeded your current quota, please check your plan and billing details. For more information on this error, read the docs: https://platform.openai.com/docs/guides/error-codes/api-errors.\n"
          ]
        },
        {
          "name": "stderr",
          "output_type": "stream",
          "text": [
            "\rCalculating Completeness:  96%|█████████▌| 4611/4791 [35:16<00:16, 10.83entry/s]"
          ]
        },
        {
          "name": "stdout",
          "output_type": "stream",
          "text": [
            "Error querying OpenAI: You exceeded your current quota, please check your plan and billing details. For more information on this error, read the docs: https://platform.openai.com/docs/guides/error-codes/api-errors.\n",
            "Error querying OpenAI: You exceeded your current quota, please check your plan and billing details. For more information on this error, read the docs: https://platform.openai.com/docs/guides/error-codes/api-errors.\n"
          ]
        },
        {
          "name": "stderr",
          "output_type": "stream",
          "text": [
            "\rCalculating Completeness:  96%|█████████▋| 4613/4791 [35:16<00:17, 10.19entry/s]"
          ]
        },
        {
          "name": "stdout",
          "output_type": "stream",
          "text": [
            "Error querying OpenAI: You exceeded your current quota, please check your plan and billing details. For more information on this error, read the docs: https://platform.openai.com/docs/guides/error-codes/api-errors.\n",
            "Error querying OpenAI: You exceeded your current quota, please check your plan and billing details. For more information on this error, read the docs: https://platform.openai.com/docs/guides/error-codes/api-errors.\n"
          ]
        },
        {
          "name": "stderr",
          "output_type": "stream",
          "text": [
            "Calculating Completeness:  96%|█████████▋| 4616/4791 [35:16<00:18,  9.36entry/s]"
          ]
        },
        {
          "name": "stdout",
          "output_type": "stream",
          "text": [
            "Error querying OpenAI: You exceeded your current quota, please check your plan and billing details. For more information on this error, read the docs: https://platform.openai.com/docs/guides/error-codes/api-errors.\n",
            "Error querying OpenAI: You exceeded your current quota, please check your plan and billing details. For more information on this error, read the docs: https://platform.openai.com/docs/guides/error-codes/api-errors.\n",
            "Error querying OpenAI: You exceeded your current quota, please check your plan and billing details. For more information on this error, read the docs: https://platform.openai.com/docs/guides/error-codes/api-errors.\n"
          ]
        },
        {
          "name": "stderr",
          "output_type": "stream",
          "text": [
            "Calculating Completeness:  96%|█████████▋| 4619/4791 [35:17<00:17,  9.78entry/s]"
          ]
        },
        {
          "name": "stdout",
          "output_type": "stream",
          "text": [
            "Error querying OpenAI: You exceeded your current quota, please check your plan and billing details. For more information on this error, read the docs: https://platform.openai.com/docs/guides/error-codes/api-errors.\n",
            "Error querying OpenAI: You exceeded your current quota, please check your plan and billing details. For more information on this error, read the docs: https://platform.openai.com/docs/guides/error-codes/api-errors.\n",
            "Error querying OpenAI: You exceeded your current quota, please check your plan and billing details. For more information on this error, read the docs: https://platform.openai.com/docs/guides/error-codes/api-errors.\n"
          ]
        },
        {
          "name": "stderr",
          "output_type": "stream",
          "text": [
            "Calculating Completeness:  96%|█████████▋| 4623/4791 [35:17<00:15, 10.61entry/s]"
          ]
        },
        {
          "name": "stdout",
          "output_type": "stream",
          "text": [
            "Error querying OpenAI: You exceeded your current quota, please check your plan and billing details. For more information on this error, read the docs: https://platform.openai.com/docs/guides/error-codes/api-errors.\n",
            "Error querying OpenAI: You exceeded your current quota, please check your plan and billing details. For more information on this error, read the docs: https://platform.openai.com/docs/guides/error-codes/api-errors.\n",
            "Error querying OpenAI: You exceeded your current quota, please check your plan and billing details. For more information on this error, read the docs: https://platform.openai.com/docs/guides/error-codes/api-errors.\n"
          ]
        },
        {
          "name": "stderr",
          "output_type": "stream",
          "text": [
            "\rCalculating Completeness:  97%|█████████▋| 4625/4791 [35:17<00:15, 10.71entry/s]"
          ]
        },
        {
          "name": "stdout",
          "output_type": "stream",
          "text": [
            "Error querying OpenAI: You exceeded your current quota, please check your plan and billing details. For more information on this error, read the docs: https://platform.openai.com/docs/guides/error-codes/api-errors.\n",
            "Error querying OpenAI: You exceeded your current quota, please check your plan and billing details. For more information on this error, read the docs: https://platform.openai.com/docs/guides/error-codes/api-errors.\n",
            "Error querying OpenAI: You exceeded your current quota, please check your plan and billing details. For more information on this error, read the docs: https://platform.openai.com/docs/guides/error-codes/api-errors.\n"
          ]
        },
        {
          "name": "stderr",
          "output_type": "stream",
          "text": [
            "Calculating Completeness:  97%|█████████▋| 4629/4791 [35:18<00:14, 10.94entry/s]"
          ]
        },
        {
          "name": "stdout",
          "output_type": "stream",
          "text": [
            "Error querying OpenAI: You exceeded your current quota, please check your plan and billing details. For more information on this error, read the docs: https://platform.openai.com/docs/guides/error-codes/api-errors.\n",
            "Error querying OpenAI: You exceeded your current quota, please check your plan and billing details. For more information on this error, read the docs: https://platform.openai.com/docs/guides/error-codes/api-errors.\n",
            "Error querying OpenAI: You exceeded your current quota, please check your plan and billing details. For more information on this error, read the docs: https://platform.openai.com/docs/guides/error-codes/api-errors.\n"
          ]
        },
        {
          "name": "stderr",
          "output_type": "stream",
          "text": [
            "\rCalculating Completeness:  97%|█████████▋| 4631/4791 [35:18<00:14, 10.88entry/s]"
          ]
        },
        {
          "name": "stdout",
          "output_type": "stream",
          "text": [
            "Error querying OpenAI: You exceeded your current quota, please check your plan and billing details. For more information on this error, read the docs: https://platform.openai.com/docs/guides/error-codes/api-errors.\n",
            "Error querying OpenAI: You exceeded your current quota, please check your plan and billing details. For more information on this error, read the docs: https://platform.openai.com/docs/guides/error-codes/api-errors.\n",
            "Error querying OpenAI: You exceeded your current quota, please check your plan and billing details. For more information on this error, read the docs: https://platform.openai.com/docs/guides/error-codes/api-errors.\n"
          ]
        },
        {
          "name": "stderr",
          "output_type": "stream",
          "text": [
            "Calculating Completeness:  97%|█████████▋| 4635/4791 [35:18<00:14, 10.83entry/s]"
          ]
        },
        {
          "name": "stdout",
          "output_type": "stream",
          "text": [
            "Error querying OpenAI: You exceeded your current quota, please check your plan and billing details. For more information on this error, read the docs: https://platform.openai.com/docs/guides/error-codes/api-errors.\n",
            "Error querying OpenAI: You exceeded your current quota, please check your plan and billing details. For more information on this error, read the docs: https://platform.openai.com/docs/guides/error-codes/api-errors.\n",
            "Error querying OpenAI: You exceeded your current quota, please check your plan and billing details. For more information on this error, read the docs: https://platform.openai.com/docs/guides/error-codes/api-errors.\n"
          ]
        },
        {
          "name": "stderr",
          "output_type": "stream",
          "text": [
            "\rCalculating Completeness:  97%|█████████▋| 4637/4791 [35:18<00:13, 11.11entry/s]"
          ]
        },
        {
          "name": "stdout",
          "output_type": "stream",
          "text": [
            "Error querying OpenAI: You exceeded your current quota, please check your plan and billing details. For more information on this error, read the docs: https://platform.openai.com/docs/guides/error-codes/api-errors.\n",
            "Error querying OpenAI: You exceeded your current quota, please check your plan and billing details. For more information on this error, read the docs: https://platform.openai.com/docs/guides/error-codes/api-errors.\n",
            "Error querying OpenAI: You exceeded your current quota, please check your plan and billing details. For more information on this error, read the docs: https://platform.openai.com/docs/guides/error-codes/api-errors.\n"
          ]
        },
        {
          "name": "stderr",
          "output_type": "stream",
          "text": [
            "Calculating Completeness:  97%|█████████▋| 4641/4791 [35:19<00:13, 11.17entry/s]"
          ]
        },
        {
          "name": "stdout",
          "output_type": "stream",
          "text": [
            "Error querying OpenAI: You exceeded your current quota, please check your plan and billing details. For more information on this error, read the docs: https://platform.openai.com/docs/guides/error-codes/api-errors.\n",
            "Error querying OpenAI: You exceeded your current quota, please check your plan and billing details. For more information on this error, read the docs: https://platform.openai.com/docs/guides/error-codes/api-errors.\n",
            "Error querying OpenAI: You exceeded your current quota, please check your plan and billing details. For more information on this error, read the docs: https://platform.openai.com/docs/guides/error-codes/api-errors.\n"
          ]
        },
        {
          "name": "stderr",
          "output_type": "stream",
          "text": [
            "\rCalculating Completeness:  97%|█████████▋| 4643/4791 [35:19<00:13, 10.89entry/s]"
          ]
        },
        {
          "name": "stdout",
          "output_type": "stream",
          "text": [
            "Error querying OpenAI: You exceeded your current quota, please check your plan and billing details. For more information on this error, read the docs: https://platform.openai.com/docs/guides/error-codes/api-errors.\n",
            "Error querying OpenAI: You exceeded your current quota, please check your plan and billing details. For more information on this error, read the docs: https://platform.openai.com/docs/guides/error-codes/api-errors.\n",
            "Error querying OpenAI: You exceeded your current quota, please check your plan and billing details. For more information on this error, read the docs: https://platform.openai.com/docs/guides/error-codes/api-errors.\n"
          ]
        },
        {
          "name": "stderr",
          "output_type": "stream",
          "text": [
            "Calculating Completeness:  97%|█████████▋| 4647/4791 [35:19<00:13, 10.72entry/s]"
          ]
        },
        {
          "name": "stdout",
          "output_type": "stream",
          "text": [
            "Error querying OpenAI: You exceeded your current quota, please check your plan and billing details. For more information on this error, read the docs: https://platform.openai.com/docs/guides/error-codes/api-errors.\n",
            "Error querying OpenAI: You exceeded your current quota, please check your plan and billing details. For more information on this error, read the docs: https://platform.openai.com/docs/guides/error-codes/api-errors.\n",
            "Error querying OpenAI: You exceeded your current quota, please check your plan and billing details. For more information on this error, read the docs: https://platform.openai.com/docs/guides/error-codes/api-errors.\n"
          ]
        },
        {
          "name": "stderr",
          "output_type": "stream",
          "text": [
            "\rCalculating Completeness:  97%|█████████▋| 4649/4791 [35:19<00:12, 10.95entry/s]"
          ]
        },
        {
          "name": "stdout",
          "output_type": "stream",
          "text": [
            "Error querying OpenAI: You exceeded your current quota, please check your plan and billing details. For more information on this error, read the docs: https://platform.openai.com/docs/guides/error-codes/api-errors.\n",
            "Error querying OpenAI: You exceeded your current quota, please check your plan and billing details. For more information on this error, read the docs: https://platform.openai.com/docs/guides/error-codes/api-errors.\n",
            "Error querying OpenAI: You exceeded your current quota, please check your plan and billing details. For more information on this error, read the docs: https://platform.openai.com/docs/guides/error-codes/api-errors.\n"
          ]
        },
        {
          "name": "stderr",
          "output_type": "stream",
          "text": [
            "Calculating Completeness:  97%|█████████▋| 4653/4791 [35:20<00:12, 11.19entry/s]"
          ]
        },
        {
          "name": "stdout",
          "output_type": "stream",
          "text": [
            "Error querying OpenAI: You exceeded your current quota, please check your plan and billing details. For more information on this error, read the docs: https://platform.openai.com/docs/guides/error-codes/api-errors.\n",
            "Error querying OpenAI: You exceeded your current quota, please check your plan and billing details. For more information on this error, read the docs: https://platform.openai.com/docs/guides/error-codes/api-errors.\n",
            "Error querying OpenAI: You exceeded your current quota, please check your plan and billing details. For more information on this error, read the docs: https://platform.openai.com/docs/guides/error-codes/api-errors.\n"
          ]
        },
        {
          "name": "stderr",
          "output_type": "stream",
          "text": [
            "\rCalculating Completeness:  97%|█████████▋| 4655/4791 [35:20<00:11, 11.36entry/s]"
          ]
        },
        {
          "name": "stdout",
          "output_type": "stream",
          "text": [
            "Error querying OpenAI: You exceeded your current quota, please check your plan and billing details. For more information on this error, read the docs: https://platform.openai.com/docs/guides/error-codes/api-errors.\n",
            "Error querying OpenAI: You exceeded your current quota, please check your plan and billing details. For more information on this error, read the docs: https://platform.openai.com/docs/guides/error-codes/api-errors.\n",
            "Error querying OpenAI: You exceeded your current quota, please check your plan and billing details. For more information on this error, read the docs: https://platform.openai.com/docs/guides/error-codes/api-errors.\n"
          ]
        },
        {
          "name": "stderr",
          "output_type": "stream",
          "text": [
            "Calculating Completeness:  97%|█████████▋| 4659/4791 [35:20<00:11, 11.32entry/s]"
          ]
        },
        {
          "name": "stdout",
          "output_type": "stream",
          "text": [
            "Error querying OpenAI: You exceeded your current quota, please check your plan and billing details. For more information on this error, read the docs: https://platform.openai.com/docs/guides/error-codes/api-errors.\n",
            "Error querying OpenAI: You exceeded your current quota, please check your plan and billing details. For more information on this error, read the docs: https://platform.openai.com/docs/guides/error-codes/api-errors.\n",
            "Error querying OpenAI: You exceeded your current quota, please check your plan and billing details. For more information on this error, read the docs: https://platform.openai.com/docs/guides/error-codes/api-errors.\n"
          ]
        },
        {
          "name": "stderr",
          "output_type": "stream",
          "text": [
            "\rCalculating Completeness:  97%|█████████▋| 4661/4791 [35:20<00:11, 11.37entry/s]"
          ]
        },
        {
          "name": "stdout",
          "output_type": "stream",
          "text": [
            "Error querying OpenAI: You exceeded your current quota, please check your plan and billing details. For more information on this error, read the docs: https://platform.openai.com/docs/guides/error-codes/api-errors.\n",
            "Error querying OpenAI: You exceeded your current quota, please check your plan and billing details. For more information on this error, read the docs: https://platform.openai.com/docs/guides/error-codes/api-errors.\n",
            "Error querying OpenAI: You exceeded your current quota, please check your plan and billing details. For more information on this error, read the docs: https://platform.openai.com/docs/guides/error-codes/api-errors.\n"
          ]
        },
        {
          "name": "stderr",
          "output_type": "stream",
          "text": [
            "Calculating Completeness:  97%|█████████▋| 4665/4791 [35:21<00:11, 11.05entry/s]"
          ]
        },
        {
          "name": "stdout",
          "output_type": "stream",
          "text": [
            "Error querying OpenAI: You exceeded your current quota, please check your plan and billing details. For more information on this error, read the docs: https://platform.openai.com/docs/guides/error-codes/api-errors.\n",
            "Error querying OpenAI: You exceeded your current quota, please check your plan and billing details. For more information on this error, read the docs: https://platform.openai.com/docs/guides/error-codes/api-errors.\n",
            "Error querying OpenAI: You exceeded your current quota, please check your plan and billing details. For more information on this error, read the docs: https://platform.openai.com/docs/guides/error-codes/api-errors.\n"
          ]
        },
        {
          "name": "stderr",
          "output_type": "stream",
          "text": [
            "\rCalculating Completeness:  97%|█████████▋| 4667/4791 [35:21<00:11, 10.82entry/s]"
          ]
        },
        {
          "name": "stdout",
          "output_type": "stream",
          "text": [
            "Error querying OpenAI: You exceeded your current quota, please check your plan and billing details. For more information on this error, read the docs: https://platform.openai.com/docs/guides/error-codes/api-errors.\n",
            "Error querying OpenAI: You exceeded your current quota, please check your plan and billing details. For more information on this error, read the docs: https://platform.openai.com/docs/guides/error-codes/api-errors.\n",
            "Error querying OpenAI: You exceeded your current quota, please check your plan and billing details. For more information on this error, read the docs: https://platform.openai.com/docs/guides/error-codes/api-errors.\n"
          ]
        },
        {
          "name": "stderr",
          "output_type": "stream",
          "text": [
            "Calculating Completeness:  97%|█████████▋| 4671/4791 [35:21<00:11, 10.86entry/s]"
          ]
        },
        {
          "name": "stdout",
          "output_type": "stream",
          "text": [
            "Error querying OpenAI: You exceeded your current quota, please check your plan and billing details. For more information on this error, read the docs: https://platform.openai.com/docs/guides/error-codes/api-errors.\n",
            "Error querying OpenAI: You exceeded your current quota, please check your plan and billing details. For more information on this error, read the docs: https://platform.openai.com/docs/guides/error-codes/api-errors.\n",
            "Error querying OpenAI: You exceeded your current quota, please check your plan and billing details. For more information on this error, read the docs: https://platform.openai.com/docs/guides/error-codes/api-errors.\n"
          ]
        },
        {
          "name": "stderr",
          "output_type": "stream",
          "text": [
            "\rCalculating Completeness:  98%|█████████▊| 4673/4791 [35:22<00:10, 11.01entry/s]"
          ]
        },
        {
          "name": "stdout",
          "output_type": "stream",
          "text": [
            "Error querying OpenAI: You exceeded your current quota, please check your plan and billing details. For more information on this error, read the docs: https://platform.openai.com/docs/guides/error-codes/api-errors.\n",
            "Error querying OpenAI: You exceeded your current quota, please check your plan and billing details. For more information on this error, read the docs: https://platform.openai.com/docs/guides/error-codes/api-errors.\n",
            "Error querying OpenAI: You exceeded your current quota, please check your plan and billing details. For more information on this error, read the docs: https://platform.openai.com/docs/guides/error-codes/api-errors.\n"
          ]
        },
        {
          "name": "stderr",
          "output_type": "stream",
          "text": [
            "Calculating Completeness:  98%|█████████▊| 4677/4791 [35:22<00:10, 11.31entry/s]"
          ]
        },
        {
          "name": "stdout",
          "output_type": "stream",
          "text": [
            "Error querying OpenAI: You exceeded your current quota, please check your plan and billing details. For more information on this error, read the docs: https://platform.openai.com/docs/guides/error-codes/api-errors.\n",
            "Error querying OpenAI: You exceeded your current quota, please check your plan and billing details. For more information on this error, read the docs: https://platform.openai.com/docs/guides/error-codes/api-errors.\n",
            "Error querying OpenAI: You exceeded your current quota, please check your plan and billing details. For more information on this error, read the docs: https://platform.openai.com/docs/guides/error-codes/api-errors.\n"
          ]
        },
        {
          "name": "stderr",
          "output_type": "stream",
          "text": [
            "\rCalculating Completeness:  98%|█████████▊| 4679/4791 [35:22<00:09, 11.30entry/s]"
          ]
        },
        {
          "name": "stdout",
          "output_type": "stream",
          "text": [
            "Error querying OpenAI: You exceeded your current quota, please check your plan and billing details. For more information on this error, read the docs: https://platform.openai.com/docs/guides/error-codes/api-errors.\n",
            "Error querying OpenAI: You exceeded your current quota, please check your plan and billing details. For more information on this error, read the docs: https://platform.openai.com/docs/guides/error-codes/api-errors.\n",
            "Error querying OpenAI: You exceeded your current quota, please check your plan and billing details. For more information on this error, read the docs: https://platform.openai.com/docs/guides/error-codes/api-errors.\n"
          ]
        },
        {
          "name": "stderr",
          "output_type": "stream",
          "text": [
            "Calculating Completeness:  98%|█████████▊| 4683/4791 [35:22<00:09, 11.40entry/s]"
          ]
        },
        {
          "name": "stdout",
          "output_type": "stream",
          "text": [
            "Error querying OpenAI: You exceeded your current quota, please check your plan and billing details. For more information on this error, read the docs: https://platform.openai.com/docs/guides/error-codes/api-errors.\n",
            "Error querying OpenAI: You exceeded your current quota, please check your plan and billing details. For more information on this error, read the docs: https://platform.openai.com/docs/guides/error-codes/api-errors.\n",
            "Error querying OpenAI: You exceeded your current quota, please check your plan and billing details. For more information on this error, read the docs: https://platform.openai.com/docs/guides/error-codes/api-errors.\n"
          ]
        },
        {
          "name": "stderr",
          "output_type": "stream",
          "text": [
            "\rCalculating Completeness:  98%|█████████▊| 4685/4791 [35:23<00:09, 10.95entry/s]"
          ]
        },
        {
          "name": "stdout",
          "output_type": "stream",
          "text": [
            "Error querying OpenAI: You exceeded your current quota, please check your plan and billing details. For more information on this error, read the docs: https://platform.openai.com/docs/guides/error-codes/api-errors.\n",
            "Error querying OpenAI: You exceeded your current quota, please check your plan and billing details. For more information on this error, read the docs: https://platform.openai.com/docs/guides/error-codes/api-errors.\n",
            "Error querying OpenAI: You exceeded your current quota, please check your plan and billing details. For more information on this error, read the docs: https://platform.openai.com/docs/guides/error-codes/api-errors.\n"
          ]
        },
        {
          "name": "stderr",
          "output_type": "stream",
          "text": [
            "Calculating Completeness:  98%|█████████▊| 4689/4791 [35:23<00:09, 10.74entry/s]"
          ]
        },
        {
          "name": "stdout",
          "output_type": "stream",
          "text": [
            "Error querying OpenAI: You exceeded your current quota, please check your plan and billing details. For more information on this error, read the docs: https://platform.openai.com/docs/guides/error-codes/api-errors.\n",
            "Error querying OpenAI: You exceeded your current quota, please check your plan and billing details. For more information on this error, read the docs: https://platform.openai.com/docs/guides/error-codes/api-errors.\n",
            "Error querying OpenAI: You exceeded your current quota, please check your plan and billing details. For more information on this error, read the docs: https://platform.openai.com/docs/guides/error-codes/api-errors.\n"
          ]
        },
        {
          "name": "stderr",
          "output_type": "stream",
          "text": [
            "\rCalculating Completeness:  98%|█████████▊| 4691/4791 [35:23<00:09, 10.93entry/s]"
          ]
        },
        {
          "name": "stdout",
          "output_type": "stream",
          "text": [
            "Error querying OpenAI: You exceeded your current quota, please check your plan and billing details. For more information on this error, read the docs: https://platform.openai.com/docs/guides/error-codes/api-errors.\n",
            "Error querying OpenAI: You exceeded your current quota, please check your plan and billing details. For more information on this error, read the docs: https://platform.openai.com/docs/guides/error-codes/api-errors.\n",
            "Error querying OpenAI: You exceeded your current quota, please check your plan and billing details. For more information on this error, read the docs: https://platform.openai.com/docs/guides/error-codes/api-errors.\n"
          ]
        },
        {
          "name": "stderr",
          "output_type": "stream",
          "text": [
            "Calculating Completeness:  98%|█████████▊| 4695/4791 [35:24<00:08, 10.88entry/s]"
          ]
        },
        {
          "name": "stdout",
          "output_type": "stream",
          "text": [
            "Error querying OpenAI: You exceeded your current quota, please check your plan and billing details. For more information on this error, read the docs: https://platform.openai.com/docs/guides/error-codes/api-errors.\n",
            "Error querying OpenAI: You exceeded your current quota, please check your plan and billing details. For more information on this error, read the docs: https://platform.openai.com/docs/guides/error-codes/api-errors.\n",
            "Error querying OpenAI: You exceeded your current quota, please check your plan and billing details. For more information on this error, read the docs: https://platform.openai.com/docs/guides/error-codes/api-errors.\n"
          ]
        },
        {
          "name": "stderr",
          "output_type": "stream",
          "text": [
            "\rCalculating Completeness:  98%|█████████▊| 4697/4791 [35:24<00:10,  9.37entry/s]"
          ]
        },
        {
          "name": "stdout",
          "output_type": "stream",
          "text": [
            "Error querying OpenAI: You exceeded your current quota, please check your plan and billing details. For more information on this error, read the docs: https://platform.openai.com/docs/guides/error-codes/api-errors.\n",
            "Error querying OpenAI: You exceeded your current quota, please check your plan and billing details. For more information on this error, read the docs: https://platform.openai.com/docs/guides/error-codes/api-errors.\n"
          ]
        },
        {
          "name": "stderr",
          "output_type": "stream",
          "text": [
            "\rCalculating Completeness:  98%|█████████▊| 4699/4791 [35:24<00:09,  9.93entry/s]"
          ]
        },
        {
          "name": "stdout",
          "output_type": "stream",
          "text": [
            "Error querying OpenAI: You exceeded your current quota, please check your plan and billing details. For more information on this error, read the docs: https://platform.openai.com/docs/guides/error-codes/api-errors.\n",
            "Error querying OpenAI: You exceeded your current quota, please check your plan and billing details. For more information on this error, read the docs: https://platform.openai.com/docs/guides/error-codes/api-errors.\n",
            "Error querying OpenAI: You exceeded your current quota, please check your plan and billing details. For more information on this error, read the docs: https://platform.openai.com/docs/guides/error-codes/api-errors.\n"
          ]
        },
        {
          "name": "stderr",
          "output_type": "stream",
          "text": [
            "Calculating Completeness:  98%|█████████▊| 4703/4791 [35:24<00:08, 10.59entry/s]"
          ]
        },
        {
          "name": "stdout",
          "output_type": "stream",
          "text": [
            "Error querying OpenAI: You exceeded your current quota, please check your plan and billing details. For more information on this error, read the docs: https://platform.openai.com/docs/guides/error-codes/api-errors.\n",
            "Error querying OpenAI: You exceeded your current quota, please check your plan and billing details. For more information on this error, read the docs: https://platform.openai.com/docs/guides/error-codes/api-errors.\n",
            "Error querying OpenAI: You exceeded your current quota, please check your plan and billing details. For more information on this error, read the docs: https://platform.openai.com/docs/guides/error-codes/api-errors.\n"
          ]
        },
        {
          "name": "stderr",
          "output_type": "stream",
          "text": [
            "\rCalculating Completeness:  98%|█████████▊| 4705/4791 [35:25<00:07, 10.75entry/s]"
          ]
        },
        {
          "name": "stdout",
          "output_type": "stream",
          "text": [
            "Error querying OpenAI: You exceeded your current quota, please check your plan and billing details. For more information on this error, read the docs: https://platform.openai.com/docs/guides/error-codes/api-errors.\n",
            "Error querying OpenAI: You exceeded your current quota, please check your plan and billing details. For more information on this error, read the docs: https://platform.openai.com/docs/guides/error-codes/api-errors.\n"
          ]
        },
        {
          "name": "stderr",
          "output_type": "stream",
          "text": [
            "\rCalculating Completeness:  98%|█████████▊| 4707/4791 [35:25<00:08, 10.44entry/s]"
          ]
        },
        {
          "name": "stdout",
          "output_type": "stream",
          "text": [
            "Error querying OpenAI: You exceeded your current quota, please check your plan and billing details. For more information on this error, read the docs: https://platform.openai.com/docs/guides/error-codes/api-errors.\n",
            "Error querying OpenAI: You exceeded your current quota, please check your plan and billing details. For more information on this error, read the docs: https://platform.openai.com/docs/guides/error-codes/api-errors.\n"
          ]
        },
        {
          "name": "stderr",
          "output_type": "stream",
          "text": [
            "\rCalculating Completeness:  98%|█████████▊| 4709/4791 [35:25<00:08,  9.32entry/s]"
          ]
        },
        {
          "name": "stdout",
          "output_type": "stream",
          "text": [
            "Error querying OpenAI: You exceeded your current quota, please check your plan and billing details. For more information on this error, read the docs: https://platform.openai.com/docs/guides/error-codes/api-errors.\n",
            "Error querying OpenAI: You exceeded your current quota, please check your plan and billing details. For more information on this error, read the docs: https://platform.openai.com/docs/guides/error-codes/api-errors.\n",
            "Error querying OpenAI: You exceeded your current quota, please check your plan and billing details. For more information on this error, read the docs: https://platform.openai.com/docs/guides/error-codes/api-errors.\n"
          ]
        },
        {
          "name": "stderr",
          "output_type": "stream",
          "text": [
            "Calculating Completeness:  98%|█████████▊| 4713/4791 [35:25<00:07,  9.94entry/s]"
          ]
        },
        {
          "name": "stdout",
          "output_type": "stream",
          "text": [
            "Error querying OpenAI: You exceeded your current quota, please check your plan and billing details. For more information on this error, read the docs: https://platform.openai.com/docs/guides/error-codes/api-errors.\n",
            "Error querying OpenAI: You exceeded your current quota, please check your plan and billing details. For more information on this error, read the docs: https://platform.openai.com/docs/guides/error-codes/api-errors.\n",
            "Error querying OpenAI: You exceeded your current quota, please check your plan and billing details. For more information on this error, read the docs: https://platform.openai.com/docs/guides/error-codes/api-errors.\n"
          ]
        },
        {
          "name": "stderr",
          "output_type": "stream",
          "text": [
            "\rCalculating Completeness:  98%|█████████▊| 4715/4791 [35:26<00:07, 10.26entry/s]"
          ]
        },
        {
          "name": "stdout",
          "output_type": "stream",
          "text": [
            "Error querying OpenAI: You exceeded your current quota, please check your plan and billing details. For more information on this error, read the docs: https://platform.openai.com/docs/guides/error-codes/api-errors.\n",
            "Error querying OpenAI: You exceeded your current quota, please check your plan and billing details. For more information on this error, read the docs: https://platform.openai.com/docs/guides/error-codes/api-errors.\n",
            "Error querying OpenAI: You exceeded your current quota, please check your plan and billing details. For more information on this error, read the docs: https://platform.openai.com/docs/guides/error-codes/api-errors.\n"
          ]
        },
        {
          "name": "stderr",
          "output_type": "stream",
          "text": [
            "Calculating Completeness:  98%|█████████▊| 4719/4791 [35:26<00:06, 10.65entry/s]"
          ]
        },
        {
          "name": "stdout",
          "output_type": "stream",
          "text": [
            "Error querying OpenAI: You exceeded your current quota, please check your plan and billing details. For more information on this error, read the docs: https://platform.openai.com/docs/guides/error-codes/api-errors.\n",
            "Error querying OpenAI: You exceeded your current quota, please check your plan and billing details. For more information on this error, read the docs: https://platform.openai.com/docs/guides/error-codes/api-errors.\n",
            "Error querying OpenAI: You exceeded your current quota, please check your plan and billing details. For more information on this error, read the docs: https://platform.openai.com/docs/guides/error-codes/api-errors.\n"
          ]
        },
        {
          "name": "stderr",
          "output_type": "stream",
          "text": [
            "\rCalculating Completeness:  99%|█████████▊| 4721/4791 [35:26<00:06, 10.88entry/s]"
          ]
        },
        {
          "name": "stdout",
          "output_type": "stream",
          "text": [
            "Error querying OpenAI: You exceeded your current quota, please check your plan and billing details. For more information on this error, read the docs: https://platform.openai.com/docs/guides/error-codes/api-errors.\n",
            "Error querying OpenAI: You exceeded your current quota, please check your plan and billing details. For more information on this error, read the docs: https://platform.openai.com/docs/guides/error-codes/api-errors.\n",
            "Error querying OpenAI: You exceeded your current quota, please check your plan and billing details. For more information on this error, read the docs: https://platform.openai.com/docs/guides/error-codes/api-errors.\n"
          ]
        },
        {
          "name": "stderr",
          "output_type": "stream",
          "text": [
            "Calculating Completeness:  99%|█████████▊| 4725/4791 [35:26<00:06, 10.94entry/s]"
          ]
        },
        {
          "name": "stdout",
          "output_type": "stream",
          "text": [
            "Error querying OpenAI: You exceeded your current quota, please check your plan and billing details. For more information on this error, read the docs: https://platform.openai.com/docs/guides/error-codes/api-errors.\n",
            "Error querying OpenAI: You exceeded your current quota, please check your plan and billing details. For more information on this error, read the docs: https://platform.openai.com/docs/guides/error-codes/api-errors.\n",
            "Error querying OpenAI: You exceeded your current quota, please check your plan and billing details. For more information on this error, read the docs: https://platform.openai.com/docs/guides/error-codes/api-errors.\n"
          ]
        },
        {
          "name": "stderr",
          "output_type": "stream",
          "text": [
            "\rCalculating Completeness:  99%|█████████▊| 4727/4791 [35:27<00:05, 11.00entry/s]"
          ]
        },
        {
          "name": "stdout",
          "output_type": "stream",
          "text": [
            "Error querying OpenAI: You exceeded your current quota, please check your plan and billing details. For more information on this error, read the docs: https://platform.openai.com/docs/guides/error-codes/api-errors.\n",
            "Error querying OpenAI: You exceeded your current quota, please check your plan and billing details. For more information on this error, read the docs: https://platform.openai.com/docs/guides/error-codes/api-errors.\n",
            "Error querying OpenAI: You exceeded your current quota, please check your plan and billing details. For more information on this error, read the docs: https://platform.openai.com/docs/guides/error-codes/api-errors.\n"
          ]
        },
        {
          "name": "stderr",
          "output_type": "stream",
          "text": [
            "\rCalculating Completeness:  99%|█████████▊| 4729/4791 [35:27<00:05, 10.91entry/s]"
          ]
        },
        {
          "name": "stdout",
          "output_type": "stream",
          "text": [
            "Error querying OpenAI: You exceeded your current quota, please check your plan and billing details. For more information on this error, read the docs: https://platform.openai.com/docs/guides/error-codes/api-errors.\n",
            "Error querying OpenAI: You exceeded your current quota, please check your plan and billing details. For more information on this error, read the docs: https://platform.openai.com/docs/guides/error-codes/api-errors.\n"
          ]
        },
        {
          "name": "stderr",
          "output_type": "stream",
          "text": [
            "Calculating Completeness:  99%|█████████▉| 4733/4791 [35:27<00:05, 10.54entry/s]"
          ]
        },
        {
          "name": "stdout",
          "output_type": "stream",
          "text": [
            "Error querying OpenAI: You exceeded your current quota, please check your plan and billing details. For more information on this error, read the docs: https://platform.openai.com/docs/guides/error-codes/api-errors.\n",
            "Error querying OpenAI: You exceeded your current quota, please check your plan and billing details. For more information on this error, read the docs: https://platform.openai.com/docs/guides/error-codes/api-errors.\n",
            "Error querying OpenAI: You exceeded your current quota, please check your plan and billing details. For more information on this error, read the docs: https://platform.openai.com/docs/guides/error-codes/api-errors.\n"
          ]
        },
        {
          "name": "stderr",
          "output_type": "stream",
          "text": [
            "\rCalculating Completeness:  99%|█████████▉| 4735/4791 [35:27<00:05, 10.80entry/s]"
          ]
        },
        {
          "name": "stdout",
          "output_type": "stream",
          "text": [
            "Error querying OpenAI: You exceeded your current quota, please check your plan and billing details. For more information on this error, read the docs: https://platform.openai.com/docs/guides/error-codes/api-errors.\n",
            "Error querying OpenAI: You exceeded your current quota, please check your plan and billing details. For more information on this error, read the docs: https://platform.openai.com/docs/guides/error-codes/api-errors.\n",
            "Error querying OpenAI: You exceeded your current quota, please check your plan and billing details. For more information on this error, read the docs: https://platform.openai.com/docs/guides/error-codes/api-errors.\n"
          ]
        },
        {
          "name": "stderr",
          "output_type": "stream",
          "text": [
            "Calculating Completeness:  99%|█████████▉| 4739/4791 [35:28<00:04, 10.74entry/s]"
          ]
        },
        {
          "name": "stdout",
          "output_type": "stream",
          "text": [
            "Error querying OpenAI: You exceeded your current quota, please check your plan and billing details. For more information on this error, read the docs: https://platform.openai.com/docs/guides/error-codes/api-errors.\n",
            "Error querying OpenAI: You exceeded your current quota, please check your plan and billing details. For more information on this error, read the docs: https://platform.openai.com/docs/guides/error-codes/api-errors.\n",
            "Error querying OpenAI: You exceeded your current quota, please check your plan and billing details. For more information on this error, read the docs: https://platform.openai.com/docs/guides/error-codes/api-errors.\n"
          ]
        },
        {
          "name": "stderr",
          "output_type": "stream",
          "text": [
            "\rCalculating Completeness:  99%|█████████▉| 4741/4791 [35:28<00:04, 10.74entry/s]"
          ]
        },
        {
          "name": "stdout",
          "output_type": "stream",
          "text": [
            "Error querying OpenAI: You exceeded your current quota, please check your plan and billing details. For more information on this error, read the docs: https://platform.openai.com/docs/guides/error-codes/api-errors.\n",
            "Error querying OpenAI: You exceeded your current quota, please check your plan and billing details. For more information on this error, read the docs: https://platform.openai.com/docs/guides/error-codes/api-errors.\n",
            "Error querying OpenAI: You exceeded your current quota, please check your plan and billing details. For more information on this error, read the docs: https://platform.openai.com/docs/guides/error-codes/api-errors.\n"
          ]
        },
        {
          "name": "stderr",
          "output_type": "stream",
          "text": [
            "Calculating Completeness:  99%|█████████▉| 4745/4791 [35:28<00:04, 11.03entry/s]"
          ]
        },
        {
          "name": "stdout",
          "output_type": "stream",
          "text": [
            "Error querying OpenAI: You exceeded your current quota, please check your plan and billing details. For more information on this error, read the docs: https://platform.openai.com/docs/guides/error-codes/api-errors.\n",
            "Error querying OpenAI: You exceeded your current quota, please check your plan and billing details. For more information on this error, read the docs: https://platform.openai.com/docs/guides/error-codes/api-errors.\n",
            "Error querying OpenAI: You exceeded your current quota, please check your plan and billing details. For more information on this error, read the docs: https://platform.openai.com/docs/guides/error-codes/api-errors.\n"
          ]
        },
        {
          "name": "stderr",
          "output_type": "stream",
          "text": [
            "\rCalculating Completeness:  99%|█████████▉| 4747/4791 [35:29<00:03, 11.25entry/s]"
          ]
        },
        {
          "name": "stdout",
          "output_type": "stream",
          "text": [
            "Error querying OpenAI: You exceeded your current quota, please check your plan and billing details. For more information on this error, read the docs: https://platform.openai.com/docs/guides/error-codes/api-errors.\n",
            "Error querying OpenAI: You exceeded your current quota, please check your plan and billing details. For more information on this error, read the docs: https://platform.openai.com/docs/guides/error-codes/api-errors.\n",
            "Error querying OpenAI: You exceeded your current quota, please check your plan and billing details. For more information on this error, read the docs: https://platform.openai.com/docs/guides/error-codes/api-errors.\n"
          ]
        },
        {
          "name": "stderr",
          "output_type": "stream",
          "text": [
            "Calculating Completeness:  99%|█████████▉| 4751/4791 [35:29<00:03, 11.36entry/s]"
          ]
        },
        {
          "name": "stdout",
          "output_type": "stream",
          "text": [
            "Error querying OpenAI: You exceeded your current quota, please check your plan and billing details. For more information on this error, read the docs: https://platform.openai.com/docs/guides/error-codes/api-errors.\n",
            "Error querying OpenAI: You exceeded your current quota, please check your plan and billing details. For more information on this error, read the docs: https://platform.openai.com/docs/guides/error-codes/api-errors.\n",
            "Error querying OpenAI: You exceeded your current quota, please check your plan and billing details. For more information on this error, read the docs: https://platform.openai.com/docs/guides/error-codes/api-errors.\n"
          ]
        },
        {
          "name": "stderr",
          "output_type": "stream",
          "text": [
            "\rCalculating Completeness:  99%|█████████▉| 4753/4791 [35:29<00:03, 11.37entry/s]"
          ]
        },
        {
          "name": "stdout",
          "output_type": "stream",
          "text": [
            "Error querying OpenAI: You exceeded your current quota, please check your plan and billing details. For more information on this error, read the docs: https://platform.openai.com/docs/guides/error-codes/api-errors.\n",
            "Error querying OpenAI: You exceeded your current quota, please check your plan and billing details. For more information on this error, read the docs: https://platform.openai.com/docs/guides/error-codes/api-errors.\n",
            "Error querying OpenAI: You exceeded your current quota, please check your plan and billing details. For more information on this error, read the docs: https://platform.openai.com/docs/guides/error-codes/api-errors.\n"
          ]
        },
        {
          "name": "stderr",
          "output_type": "stream",
          "text": [
            "Calculating Completeness:  99%|█████████▉| 4757/4791 [35:29<00:03, 11.09entry/s]"
          ]
        },
        {
          "name": "stdout",
          "output_type": "stream",
          "text": [
            "Error querying OpenAI: You exceeded your current quota, please check your plan and billing details. For more information on this error, read the docs: https://platform.openai.com/docs/guides/error-codes/api-errors.\n",
            "Error querying OpenAI: You exceeded your current quota, please check your plan and billing details. For more information on this error, read the docs: https://platform.openai.com/docs/guides/error-codes/api-errors.\n",
            "Error querying OpenAI: You exceeded your current quota, please check your plan and billing details. For more information on this error, read the docs: https://platform.openai.com/docs/guides/error-codes/api-errors.\n"
          ]
        },
        {
          "name": "stderr",
          "output_type": "stream",
          "text": [
            "\rCalculating Completeness:  99%|█████████▉| 4759/4791 [35:30<00:02, 11.23entry/s]"
          ]
        },
        {
          "name": "stdout",
          "output_type": "stream",
          "text": [
            "Error querying OpenAI: You exceeded your current quota, please check your plan and billing details. For more information on this error, read the docs: https://platform.openai.com/docs/guides/error-codes/api-errors.\n",
            "Error querying OpenAI: You exceeded your current quota, please check your plan and billing details. For more information on this error, read the docs: https://platform.openai.com/docs/guides/error-codes/api-errors.\n",
            "Error querying OpenAI: You exceeded your current quota, please check your plan and billing details. For more information on this error, read the docs: https://platform.openai.com/docs/guides/error-codes/api-errors.\n"
          ]
        },
        {
          "name": "stderr",
          "output_type": "stream",
          "text": [
            "Calculating Completeness:  99%|█████████▉| 4763/4791 [35:30<00:02, 11.03entry/s]"
          ]
        },
        {
          "name": "stdout",
          "output_type": "stream",
          "text": [
            "Error querying OpenAI: You exceeded your current quota, please check your plan and billing details. For more information on this error, read the docs: https://platform.openai.com/docs/guides/error-codes/api-errors.\n",
            "Error querying OpenAI: You exceeded your current quota, please check your plan and billing details. For more information on this error, read the docs: https://platform.openai.com/docs/guides/error-codes/api-errors.\n",
            "Error querying OpenAI: You exceeded your current quota, please check your plan and billing details. For more information on this error, read the docs: https://platform.openai.com/docs/guides/error-codes/api-errors.\n"
          ]
        },
        {
          "name": "stderr",
          "output_type": "stream",
          "text": [
            "\rCalculating Completeness:  99%|█████████▉| 4765/4791 [35:30<00:02, 11.18entry/s]"
          ]
        },
        {
          "name": "stdout",
          "output_type": "stream",
          "text": [
            "Error querying OpenAI: You exceeded your current quota, please check your plan and billing details. For more information on this error, read the docs: https://platform.openai.com/docs/guides/error-codes/api-errors.\n",
            "Error querying OpenAI: You exceeded your current quota, please check your plan and billing details. For more information on this error, read the docs: https://platform.openai.com/docs/guides/error-codes/api-errors.\n",
            "Error querying OpenAI: You exceeded your current quota, please check your plan and billing details. For more information on this error, read the docs: https://platform.openai.com/docs/guides/error-codes/api-errors.\n"
          ]
        },
        {
          "name": "stderr",
          "output_type": "stream",
          "text": [
            "Calculating Completeness: 100%|█████████▉| 4769/4791 [35:30<00:01, 11.51entry/s]"
          ]
        },
        {
          "name": "stdout",
          "output_type": "stream",
          "text": [
            "Error querying OpenAI: You exceeded your current quota, please check your plan and billing details. For more information on this error, read the docs: https://platform.openai.com/docs/guides/error-codes/api-errors.\n",
            "Error querying OpenAI: You exceeded your current quota, please check your plan and billing details. For more information on this error, read the docs: https://platform.openai.com/docs/guides/error-codes/api-errors.\n",
            "Error querying OpenAI: You exceeded your current quota, please check your plan and billing details. For more information on this error, read the docs: https://platform.openai.com/docs/guides/error-codes/api-errors.\n"
          ]
        },
        {
          "name": "stderr",
          "output_type": "stream",
          "text": [
            "\rCalculating Completeness: 100%|█████████▉| 4771/4791 [35:31<00:01, 11.60entry/s]"
          ]
        },
        {
          "name": "stdout",
          "output_type": "stream",
          "text": [
            "Error querying OpenAI: You exceeded your current quota, please check your plan and billing details. For more information on this error, read the docs: https://platform.openai.com/docs/guides/error-codes/api-errors.\n",
            "Error querying OpenAI: You exceeded your current quota, please check your plan and billing details. For more information on this error, read the docs: https://platform.openai.com/docs/guides/error-codes/api-errors.\n",
            "Error querying OpenAI: You exceeded your current quota, please check your plan and billing details. For more information on this error, read the docs: https://platform.openai.com/docs/guides/error-codes/api-errors.\n"
          ]
        },
        {
          "name": "stderr",
          "output_type": "stream",
          "text": [
            "Calculating Completeness: 100%|█████████▉| 4775/4791 [35:31<00:01, 11.47entry/s]"
          ]
        },
        {
          "name": "stdout",
          "output_type": "stream",
          "text": [
            "Error querying OpenAI: You exceeded your current quota, please check your plan and billing details. For more information on this error, read the docs: https://platform.openai.com/docs/guides/error-codes/api-errors.\n",
            "Error querying OpenAI: You exceeded your current quota, please check your plan and billing details. For more information on this error, read the docs: https://platform.openai.com/docs/guides/error-codes/api-errors.\n",
            "Error querying OpenAI: You exceeded your current quota, please check your plan and billing details. For more information on this error, read the docs: https://platform.openai.com/docs/guides/error-codes/api-errors.\n"
          ]
        },
        {
          "name": "stderr",
          "output_type": "stream",
          "text": [
            "\rCalculating Completeness: 100%|█████████▉| 4777/4791 [35:31<00:01, 11.45entry/s]"
          ]
        },
        {
          "name": "stdout",
          "output_type": "stream",
          "text": [
            "Error querying OpenAI: You exceeded your current quota, please check your plan and billing details. For more information on this error, read the docs: https://platform.openai.com/docs/guides/error-codes/api-errors.\n",
            "Error querying OpenAI: You exceeded your current quota, please check your plan and billing details. For more information on this error, read the docs: https://platform.openai.com/docs/guides/error-codes/api-errors.\n",
            "Error querying OpenAI: You exceeded your current quota, please check your plan and billing details. For more information on this error, read the docs: https://platform.openai.com/docs/guides/error-codes/api-errors.\n"
          ]
        },
        {
          "name": "stderr",
          "output_type": "stream",
          "text": [
            "Calculating Completeness: 100%|█████████▉| 4781/4791 [35:32<00:00, 11.35entry/s]"
          ]
        },
        {
          "name": "stdout",
          "output_type": "stream",
          "text": [
            "Error querying OpenAI: You exceeded your current quota, please check your plan and billing details. For more information on this error, read the docs: https://platform.openai.com/docs/guides/error-codes/api-errors.\n",
            "Error querying OpenAI: You exceeded your current quota, please check your plan and billing details. For more information on this error, read the docs: https://platform.openai.com/docs/guides/error-codes/api-errors.\n",
            "Error querying OpenAI: You exceeded your current quota, please check your plan and billing details. For more information on this error, read the docs: https://platform.openai.com/docs/guides/error-codes/api-errors.\n"
          ]
        },
        {
          "name": "stderr",
          "output_type": "stream",
          "text": [
            "\rCalculating Completeness: 100%|█████████▉| 4783/4791 [35:32<00:00, 11.50entry/s]"
          ]
        },
        {
          "name": "stdout",
          "output_type": "stream",
          "text": [
            "Error querying OpenAI: You exceeded your current quota, please check your plan and billing details. For more information on this error, read the docs: https://platform.openai.com/docs/guides/error-codes/api-errors.\n",
            "Error querying OpenAI: You exceeded your current quota, please check your plan and billing details. For more information on this error, read the docs: https://platform.openai.com/docs/guides/error-codes/api-errors.\n",
            "Error querying OpenAI: You exceeded your current quota, please check your plan and billing details. For more information on this error, read the docs: https://platform.openai.com/docs/guides/error-codes/api-errors.\n"
          ]
        },
        {
          "name": "stderr",
          "output_type": "stream",
          "text": [
            "Calculating Completeness: 100%|█████████▉| 4787/4791 [35:32<00:00, 11.48entry/s]"
          ]
        },
        {
          "name": "stdout",
          "output_type": "stream",
          "text": [
            "Error querying OpenAI: You exceeded your current quota, please check your plan and billing details. For more information on this error, read the docs: https://platform.openai.com/docs/guides/error-codes/api-errors.\n",
            "Error querying OpenAI: You exceeded your current quota, please check your plan and billing details. For more information on this error, read the docs: https://platform.openai.com/docs/guides/error-codes/api-errors.\n",
            "Error querying OpenAI: You exceeded your current quota, please check your plan and billing details. For more information on this error, read the docs: https://platform.openai.com/docs/guides/error-codes/api-errors.\n"
          ]
        },
        {
          "name": "stderr",
          "output_type": "stream",
          "text": [
            "\rCalculating Completeness: 100%|█████████▉| 4789/4791 [35:32<00:00, 11.22entry/s]"
          ]
        },
        {
          "name": "stdout",
          "output_type": "stream",
          "text": [
            "Error querying OpenAI: You exceeded your current quota, please check your plan and billing details. For more information on this error, read the docs: https://platform.openai.com/docs/guides/error-codes/api-errors.\n",
            "Error querying OpenAI: You exceeded your current quota, please check your plan and billing details. For more information on this error, read the docs: https://platform.openai.com/docs/guides/error-codes/api-errors.\n",
            "Error querying OpenAI: You exceeded your current quota, please check your plan and billing details. For more information on this error, read the docs: https://platform.openai.com/docs/guides/error-codes/api-errors.\n"
          ]
        },
        {
          "name": "stderr",
          "output_type": "stream",
          "text": [
            "Calculating Completeness: 100%|██████████| 4791/4791 [35:32<00:00,  2.25entry/s]"
          ]
        },
        {
          "name": "stdout",
          "output_type": "stream",
          "text": [
            "Error querying OpenAI: You exceeded your current quota, please check your plan and billing details. For more information on this error, read the docs: https://platform.openai.com/docs/guides/error-codes/api-errors.\n",
            "Completeness Score: 0.13182275922207695\n",
            "Definition of Completeness:\n",
            "Completeness refers to the extent to which the provided descriptions cover all relevant aspects of a disease, focusing on aspects such as symptoms, descriptions, and other key diagnostic information.\n"
          ]
        },
        {
          "name": "stderr",
          "output_type": "stream",
          "text": [
            "\n"
          ]
        }
      ],
      "source": [
        "import pandas as pd\n",
        "import openai\n",
        "from tqdm import tqdm  # Import tqdm for progress tracking\n",
        "\n",
        "def load_data(file_path):\n",
        "    \"\"\" Load the Excel file into a DataFrame. \"\"\"\n",
        "    return pd.read_excel(file_path)\n",
        "\n",
        "def evaluate_description_completeness(Disease, Description):\n",
        "    \"\"\" Use OpenAI to evaluate the completeness of descriptions for a given disease. \"\"\"\n",
        "    try:\n",
        "        completeness_definition = \"Completeness refers to the extent to which the provided descriptions cover all relevant aspects of a disease, focusing on aspects such as symptoms, descriptions, and other key diagnostic information.\"\n",
        "\n",
        "        response = openai.Completion.create(\n",
        "            engine=\"gpt-3.5-turbo-instruct\",\n",
        "            prompt=f\"{completeness_definition}\\n\\nEvaluate the completeness of information for the disease '{Disease}' based on the provided descriptions: {Description}\",\n",
        "            max_tokens=50,\n",
        "            temperature=0.3,\n",
        "            stop=[\".\"]\n",
        "        )\n",
        "        return response.choices[0].text.strip()\n",
        "    except Exception as e:\n",
        "        print(f\"Error querying OpenAI: {e}\")\n",
        "        return None\n",
        "\n",
        "\n",
        "def calculate_completeness(df, disease_column='Disease', description_column='Description'):\n",
        "    \"\"\" Calculate completeness scores for descriptions related to each disease. \"\"\"\n",
        "    completeness_scores = []\n",
        "    with tqdm(total=len(df), desc=\"Calculating Completeness\", unit=\"entry\") as pbar:  # Use tqdm for progress tracking\n",
        "        for _, row in df.iterrows():\n",
        "            disease = row[disease_column]\n",
        "            descriptions = row[description_column]\n",
        "            completion_text = evaluate_description_completeness(disease, descriptions)\n",
        "\n",
        "            if completion_text:\n",
        "                completeness_score = len(completion_text) / max(1, len(descriptions))\n",
        "                completeness_scores.append(completeness_score)\n",
        "\n",
        "            pbar.update(1)  # Update progress bar\n",
        "\n",
        "    if completeness_scores:\n",
        "        max_completeness_score = max(completeness_scores)\n",
        "        normalized_completeness_scores = [score / max_completeness_score for score in completeness_scores]\n",
        "        return sum(normalized_completeness_scores) / len(normalized_completeness_scores)\n",
        "    return 0\n",
        "\n",
        "\n",
        "if __name__ == \"__main__\":\n",
        "    openai.api_key = 'sk-proj-FXuohWqQJQkErEjLr7C4T3BlbkFJUL0GDjHi3jCpGxM5S6ru'\n",
        "    dataset_path = '/content/Train2.xlsx'\n",
        "    df = load_data(dataset_path)\n",
        "\n",
        "    completeness_score = calculate_completeness(df)\n",
        "    print(\"Completeness Score:\", completeness_score if completeness_score is not None else \"Error calculating completeness score.\")\n",
        "\n",
        "    completeness_definition = \"Completeness refers to the extent to which the provided descriptions cover all relevant aspects of a disease, focusing on aspects such as symptoms, descriptions, and other key diagnostic information.\"\n",
        "    print(\"Definition of Completeness:\")\n",
        "    print(completeness_definition)\n"
      ]
    },
    {
      "cell_type": "code",
      "execution_count": null,
      "metadata": {
        "colab": {
          "base_uri": "https://localhost:8080/"
        },
        "id": "FVwc_0KLinzR",
        "outputId": "bbf280de-9de0-4486-8218-ceb450790763"
      },
      "outputs": [
        {
          "name": "stderr",
          "output_type": "stream",
          "text": [
            "Calculating Completeness: 100%|██████████| 4812/4812 [40:09<00:00,  2.00entry/s]"
          ]
        },
        {
          "name": "stdout",
          "output_type": "stream",
          "text": [
            "Completeness Score: 0.1111525686625223\n",
            "Definition of Completeness:\n",
            "Completeness refers to the extent to which the provided descriptions cover all relevant aspects of a disease, focusing on aspects such as symptoms, descriptions, and other key diagnostic information.\n"
          ]
        },
        {
          "name": "stderr",
          "output_type": "stream",
          "text": [
            "\n"
          ]
        }
      ],
      "source": [
        "import pandas as pd\n",
        "import openai\n",
        "from tqdm import tqdm  # Import tqdm for progress tracking\n",
        "\n",
        "def load_data(file_path):\n",
        "    \"\"\" Load the Excel file into a DataFrame. \"\"\"\n",
        "    return pd.read_excel(file_path)\n",
        "\n",
        "def evaluate_description_completeness(Disease, Description):\n",
        "    \"\"\" Use OpenAI to evaluate the completeness of descriptions for a given disease. \"\"\"\n",
        "    try:\n",
        "        completeness_definition = \"Completeness refers to the extent to which the provided descriptions cover all relevant aspects of a disease, focusing on aspects such as symptoms, descriptions, and other key diagnostic information.\"\n",
        "\n",
        "        response = openai.Completion.create(\n",
        "            engine=\"gpt-3.5-turbo-instruct\",\n",
        "            prompt=f\"{completeness_definition}\\n\\nEvaluate the completeness of information for the disease '{Disease}' based on the provided descriptions: {Description}\",\n",
        "            max_tokens=50,\n",
        "            temperature=0.3,\n",
        "            stop=[\".\"]\n",
        "        )\n",
        "        return response.choices[0].text.strip()\n",
        "    except Exception as e:\n",
        "        print(f\"Error querying OpenAI: {e}\")\n",
        "        return None\n",
        "\n",
        "\n",
        "def calculate_completeness(df, disease_column='Disease', description_column='Description'):\n",
        "    \"\"\" Calculate completeness scores for descriptions related to each disease. \"\"\"\n",
        "    completeness_scores = []\n",
        "    with tqdm(total=len(df), desc=\"Calculating Completeness\", unit=\"entry\") as pbar:  # Use tqdm for progress tracking\n",
        "        for _, row in df.iterrows():\n",
        "            disease = row[disease_column]\n",
        "            descriptions = row[description_column]\n",
        "            completion_text = evaluate_description_completeness(disease, descriptions)\n",
        "\n",
        "            if completion_text:\n",
        "                completeness_score = len(completion_text) / max(1, len(descriptions))\n",
        "                completeness_scores.append(completeness_score)\n",
        "\n",
        "            pbar.update(1)  # Update progress bar\n",
        "\n",
        "    if completeness_scores:\n",
        "        max_completeness_score = max(completeness_scores)\n",
        "        normalized_completeness_scores = [score / max_completeness_score for score in completeness_scores]\n",
        "        return sum(normalized_completeness_scores) / len(normalized_completeness_scores)\n",
        "    return 0\n",
        "\n",
        "\n",
        "if __name__ == \"__main__\":\n",
        "    openai.api_key = 'sk-proj-9hKjQtT6e6orqiwwd10jT3BlbkFJkW2KlXLZ4Ir2B7s6ja5V'\n",
        "    dataset_path = '/content/Train3.xlsx'\n",
        "    df = load_data(dataset_path)\n",
        "\n",
        "    completeness_score = calculate_completeness(df)\n",
        "    print(\"Completeness Score:\", completeness_score if completeness_score is not None else \"Error calculating completeness score.\")\n",
        "\n",
        "    completeness_definition = \"Completeness refers to the extent to which the provided descriptions cover all relevant aspects of a disease, focusing on aspects such as symptoms, descriptions, and other key diagnostic information.\"\n",
        "    print(\"Definition of Completeness:\")\n",
        "    print(completeness_definition)\n"
      ]
    },
    {
      "cell_type": "code",
      "execution_count": null,
      "metadata": {
        "colab": {
          "base_uri": "https://localhost:8080/"
        },
        "id": "xQT8diZPi6OL",
        "outputId": "e4b25684-5bd0-4423-9d65-e7fcb1dd15b5"
      },
      "outputs": [
        {
          "name": "stderr",
          "output_type": "stream",
          "text": [
            "Calculating Completeness: 100%|██████████| 4811/4811 [39:41<00:00,  2.02entry/s]"
          ]
        },
        {
          "name": "stdout",
          "output_type": "stream",
          "text": [
            "Completeness Score: 0.10531856724676913\n",
            "Definition of Completeness:\n",
            "Completeness refers to the extent to which the provided descriptions cover all relevant aspects of a disease, focusing on aspects such as symptoms, descriptions, and other key diagnostic information.\n"
          ]
        },
        {
          "name": "stderr",
          "output_type": "stream",
          "text": [
            "\n"
          ]
        }
      ],
      "source": [
        "import pandas as pd\n",
        "import openai\n",
        "from tqdm import tqdm  # Import tqdm for progress tracking\n",
        "\n",
        "def load_data(file_path):\n",
        "    \"\"\" Load the Excel file into a DataFrame. \"\"\"\n",
        "    return pd.read_excel(file_path)\n",
        "\n",
        "def evaluate_description_completeness(Disease, Description):\n",
        "    \"\"\" Use OpenAI to evaluate the completeness of descriptions for a given disease. \"\"\"\n",
        "    try:\n",
        "        completeness_definition = \"Completeness refers to the extent to which the provided descriptions cover all relevant aspects of a disease, focusing on aspects such as symptoms, descriptions, and other key diagnostic information.\"\n",
        "\n",
        "        response = openai.Completion.create(\n",
        "            engine=\"gpt-3.5-turbo-instruct\",\n",
        "            prompt=f\"{completeness_definition}\\n\\nEvaluate the completeness of information for the disease '{Disease}' based on the provided descriptions: {Description}\",\n",
        "            max_tokens=50,\n",
        "            temperature=0.3,\n",
        "            stop=[\".\"]\n",
        "        )\n",
        "        return response.choices[0].text.strip()\n",
        "    except Exception as e:\n",
        "        print(f\"Error querying OpenAI: {e}\")\n",
        "        return None\n",
        "\n",
        "\n",
        "def calculate_completeness(df, disease_column='Disease', description_column='Description'):\n",
        "    \"\"\" Calculate completeness scores for descriptions related to each disease. \"\"\"\n",
        "    completeness_scores = []\n",
        "    with tqdm(total=len(df), desc=\"Calculating Completeness\", unit=\"entry\") as pbar:  # Use tqdm for progress tracking\n",
        "        for _, row in df.iterrows():\n",
        "            disease = row[disease_column]\n",
        "            descriptions = row[description_column]\n",
        "            completion_text = evaluate_description_completeness(disease, descriptions)\n",
        "\n",
        "            if completion_text:\n",
        "                completeness_score = len(completion_text) / max(1, len(descriptions))\n",
        "                completeness_scores.append(completeness_score)\n",
        "\n",
        "            pbar.update(1)  # Update progress bar\n",
        "\n",
        "    if completeness_scores:\n",
        "        max_completeness_score = max(completeness_scores)\n",
        "        normalized_completeness_scores = [score / max_completeness_score for score in completeness_scores]\n",
        "        return sum(normalized_completeness_scores) / len(normalized_completeness_scores)\n",
        "    return 0\n",
        "\n",
        "\n",
        "if __name__ == \"__main__\":\n",
        "    openai.api_key = 'sk-proj-9hKjQtT6e6orqiwwd10jT3BlbkFJkW2KlXLZ4Ir2B7s6ja5V'\n",
        "    dataset_path = '/content/Train4.xlsx'\n",
        "    df = load_data(dataset_path)\n",
        "\n",
        "    completeness_score = calculate_completeness(df)\n",
        "    print(\"Completeness Score:\", completeness_score if completeness_score is not None else \"Error calculating completeness score.\")\n",
        "\n",
        "    completeness_definition = \"Completeness refers to the extent to which the provided descriptions cover all relevant aspects of a disease, focusing on aspects such as symptoms, descriptions, and other key diagnostic information.\"\n",
        "    print(\"Definition of Completeness:\")\n",
        "    print(completeness_definition)\n"
      ]
    },
    {
      "cell_type": "code",
      "execution_count": null,
      "metadata": {
        "colab": {
          "base_uri": "https://localhost:8080/"
        },
        "id": "zDpk_pPNzhFB",
        "outputId": "0bb11187-8ec2-4df7-9774-253440ca88c4"
      },
      "outputs": [
        {
          "name": "stderr",
          "output_type": "stream",
          "text": [
            "Calculating Completeness: 100%|██████████| 4801/4801 [42:18<00:00,  1.89entry/s]"
          ]
        },
        {
          "name": "stdout",
          "output_type": "stream",
          "text": [
            "Completeness Score: 0.15792599036949964\n",
            "Definition of Completeness:\n",
            "Completeness refers to the extent to which the provided descriptions cover all relevant aspects of a disease, focusing on aspects such as symptoms, descriptions, and other key diagnostic information.\n"
          ]
        },
        {
          "name": "stderr",
          "output_type": "stream",
          "text": [
            "\n"
          ]
        }
      ],
      "source": [
        "import pandas as pd\n",
        "import openai\n",
        "from tqdm import tqdm  # Import tqdm for progress tracking\n",
        "\n",
        "def load_data(file_path):\n",
        "    \"\"\" Load the Excel file into a DataFrame. \"\"\"\n",
        "    return pd.read_excel(file_path)\n",
        "\n",
        "def evaluate_description_completeness(Disease, Description):\n",
        "    \"\"\" Use OpenAI to evaluate the completeness of descriptions for a given disease. \"\"\"\n",
        "    try:\n",
        "        completeness_definition = \"Completeness refers to the extent to which the provided descriptions cover all relevant aspects of a disease, focusing on aspects such as symptoms, descriptions, and other key diagnostic information.\"\n",
        "\n",
        "        response = openai.Completion.create(\n",
        "            engine=\"gpt-3.5-turbo-instruct\",\n",
        "            prompt=f\"{completeness_definition}\\n\\nEvaluate the completeness of information for the disease '{Disease}' based on the provided descriptions: {Description}\",\n",
        "            max_tokens=50,\n",
        "            temperature=0.3,\n",
        "            stop=[\".\"]\n",
        "        )\n",
        "        return response.choices[0].text.strip()\n",
        "    except Exception as e:\n",
        "        print(f\"Error querying OpenAI: {e}\")\n",
        "        return None\n",
        "\n",
        "\n",
        "def calculate_completeness(df, disease_column='Disease', description_column='Description'):\n",
        "    \"\"\" Calculate completeness scores for descriptions related to each disease. \"\"\"\n",
        "    completeness_scores = []\n",
        "    with tqdm(total=len(df), desc=\"Calculating Completeness\", unit=\"entry\") as pbar:  # Use tqdm for progress tracking\n",
        "        for _, row in df.iterrows():\n",
        "            disease = row[disease_column]\n",
        "            descriptions = row[description_column]\n",
        "            completion_text = evaluate_description_completeness(disease, descriptions)\n",
        "\n",
        "            if completion_text:\n",
        "                completeness_score = len(completion_text) / max(1, len(descriptions))\n",
        "                completeness_scores.append(completeness_score)\n",
        "\n",
        "            pbar.update(1)  # Update progress bar\n",
        "\n",
        "    if completeness_scores:\n",
        "        max_completeness_score = max(completeness_scores)\n",
        "        normalized_completeness_scores = [score / max_completeness_score for score in completeness_scores]\n",
        "        return sum(normalized_completeness_scores) / len(normalized_completeness_scores)\n",
        "    return 0\n",
        "\n",
        "\n",
        "if __name__ == \"__main__\":\n",
        "    openai.api_key = 'sk-proj-9hKjQtT6e6orqiwwd10jT3BlbkFJkW2KlXLZ4Ir2B7s6ja5V'\n",
        "    dataset_path = '/content/Train5.xlsx'\n",
        "    df = load_data(dataset_path)\n",
        "\n",
        "    completeness_score = calculate_completeness(df)\n",
        "    print(\"Completeness Score:\", completeness_score if completeness_score is not None else \"Error calculating completeness score.\")\n",
        "\n",
        "    completeness_definition = \"Completeness refers to the extent to which the provided descriptions cover all relevant aspects of a disease, focusing on aspects such as symptoms, descriptions, and other key diagnostic information.\"\n",
        "    print(\"Definition of Completeness:\")\n",
        "    print(completeness_definition)\n"
      ]
    },
    {
      "cell_type": "code",
      "execution_count": null,
      "metadata": {
        "colab": {
          "base_uri": "https://localhost:8080/"
        },
        "id": "O8cDCogFzj-M",
        "outputId": "add9926d-00b1-49cc-d05a-ed055812bdfc"
      },
      "outputs": [
        {
          "name": "stderr",
          "output_type": "stream",
          "text": [
            "Calculating Completeness: 100%|██████████| 4819/4819 [43:02<00:00,  1.87entry/s]"
          ]
        },
        {
          "name": "stdout",
          "output_type": "stream",
          "text": [
            "Completeness Score: 0.1309146953760438\n",
            "Definition of Completeness:\n",
            "Completeness refers to the extent to which the provided descriptions cover all relevant aspects of a disease, focusing on aspects such as symptoms, descriptions, and other key diagnostic information.\n"
          ]
        },
        {
          "name": "stderr",
          "output_type": "stream",
          "text": [
            "\n"
          ]
        }
      ],
      "source": [
        "import pandas as pd\n",
        "import openai\n",
        "from tqdm import tqdm  # Import tqdm for progress tracking\n",
        "\n",
        "def load_data(file_path):\n",
        "    \"\"\" Load the Excel file into a DataFrame. \"\"\"\n",
        "    return pd.read_excel(file_path)\n",
        "\n",
        "def evaluate_description_completeness(Disease, Description):\n",
        "    \"\"\" Use OpenAI to evaluate the completeness of descriptions for a given disease. \"\"\"\n",
        "    try:\n",
        "        completeness_definition = \"Completeness refers to the extent to which the provided descriptions cover all relevant aspects of a disease, focusing on aspects such as symptoms, descriptions, and other key diagnostic information.\"\n",
        "\n",
        "        response = openai.Completion.create(\n",
        "            engine=\"gpt-3.5-turbo-instruct\",\n",
        "            prompt=f\"{completeness_definition}\\n\\nEvaluate the completeness of information for the disease '{Disease}' based on the provided descriptions: {Description}\",\n",
        "            max_tokens=50,\n",
        "            temperature=0.3,\n",
        "            stop=[\".\"]\n",
        "        )\n",
        "        return response.choices[0].text.strip()\n",
        "    except Exception as e:\n",
        "        print(f\"Error querying OpenAI: {e}\")\n",
        "        return None\n",
        "\n",
        "\n",
        "def calculate_completeness(df, disease_column='Disease', description_column='Description'):\n",
        "    \"\"\" Calculate completeness scores for descriptions related to each disease. \"\"\"\n",
        "    completeness_scores = []\n",
        "    with tqdm(total=len(df), desc=\"Calculating Completeness\", unit=\"entry\") as pbar:  # Use tqdm for progress tracking\n",
        "        for _, row in df.iterrows():\n",
        "            disease = row[disease_column]\n",
        "            descriptions = row[description_column]\n",
        "            completion_text = evaluate_description_completeness(disease, descriptions)\n",
        "\n",
        "            if completion_text:\n",
        "                completeness_score = len(completion_text) / max(1, len(descriptions))\n",
        "                completeness_scores.append(completeness_score)\n",
        "\n",
        "            pbar.update(1)  # Update progress bar\n",
        "\n",
        "    if completeness_scores:\n",
        "        max_completeness_score = max(completeness_scores)\n",
        "        normalized_completeness_scores = [score / max_completeness_score for score in completeness_scores]\n",
        "        return sum(normalized_completeness_scores) / len(normalized_completeness_scores)\n",
        "    return 0\n",
        "\n",
        "\n",
        "if __name__ == \"__main__\":\n",
        "    openai.api_key = 'sk-proj-9hKjQtT6e6orqiwwd10jT3BlbkFJkW2KlXLZ4Ir2B7s6ja5V'\n",
        "    dataset_path = '/content/Train6.xlsx'\n",
        "    df = load_data(dataset_path)\n",
        "\n",
        "    completeness_score = calculate_completeness(df)\n",
        "    print(\"Completeness Score:\", completeness_score if completeness_score is not None else \"Error calculating completeness score.\")\n",
        "\n",
        "    completeness_definition = \"Completeness refers to the extent to which the provided descriptions cover all relevant aspects of a disease, focusing on aspects such as symptoms, descriptions, and other key diagnostic information.\"\n",
        "    print(\"Definition of Completeness:\")\n",
        "    print(completeness_definition)\n"
      ]
    },
    {
      "cell_type": "code",
      "execution_count": null,
      "metadata": {
        "colab": {
          "base_uri": "https://localhost:8080/"
        },
        "id": "as21xLH-_pST",
        "outputId": "7150f531-3974-4cfb-9d51-3450b8dc3ff7"
      },
      "outputs": [
        {
          "name": "stderr",
          "output_type": "stream",
          "text": [
            "Calculating Completeness: 100%|█████████▉| 4770/4790 [42:48<00:17,  1.11entry/s]"
          ]
        },
        {
          "name": "stdout",
          "output_type": "stream",
          "text": [
            "Error querying OpenAI: Error communicating with OpenAI: ('Connection aborted.', RemoteDisconnected('Remote end closed connection without response'))\n"
          ]
        },
        {
          "name": "stderr",
          "output_type": "stream",
          "text": [
            "\rCalculating Completeness: 100%|█████████▉| 4771/4790 [42:50<00:18,  1.01entry/s]"
          ]
        },
        {
          "name": "stdout",
          "output_type": "stream",
          "text": [
            "Error querying OpenAI: Error communicating with OpenAI: ('Connection aborted.', RemoteDisconnected('Remote end closed connection without response'))\n"
          ]
        },
        {
          "name": "stderr",
          "output_type": "stream",
          "text": [
            "Calculating Completeness: 100%|██████████| 4790/4790 [42:59<00:00,  1.86entry/s]"
          ]
        },
        {
          "name": "stdout",
          "output_type": "stream",
          "text": [
            "Completeness Score: 0.10889295225809838\n",
            "Definition of Completeness:\n",
            "Completeness refers to the extent to which the provided descriptions cover all relevant aspects of a disease, focusing on aspects such as symptoms, descriptions, and other key diagnostic information.\n"
          ]
        },
        {
          "name": "stderr",
          "output_type": "stream",
          "text": [
            "\n"
          ]
        }
      ],
      "source": [
        "import pandas as pd\n",
        "import openai\n",
        "from tqdm import tqdm  # Import tqdm for progress tracking\n",
        "\n",
        "def load_data(file_path):\n",
        "    \"\"\" Load the Excel file into a DataFrame. \"\"\"\n",
        "    return pd.read_excel(file_path)\n",
        "\n",
        "def evaluate_description_completeness(Disease, Description):\n",
        "    \"\"\" Use OpenAI to evaluate the completeness of descriptions for a given disease. \"\"\"\n",
        "    try:\n",
        "        completeness_definition = \"Completeness refers to the extent to which the provided descriptions cover all relevant aspects of a disease, focusing on aspects such as symptoms, descriptions, and other key diagnostic information.\"\n",
        "\n",
        "        response = openai.Completion.create(\n",
        "            engine=\"gpt-3.5-turbo-instruct\",\n",
        "            prompt=f\"{completeness_definition}\\n\\nEvaluate the completeness of information for the disease '{Disease}' based on the provided descriptions: {Description}\",\n",
        "            max_tokens=50,\n",
        "            temperature=0.3,\n",
        "            stop=[\".\"]\n",
        "        )\n",
        "        return response.choices[0].text.strip()\n",
        "    except Exception as e:\n",
        "        print(f\"Error querying OpenAI: {e}\")\n",
        "        return None\n",
        "\n",
        "\n",
        "def calculate_completeness(df, disease_column='Disease', description_column='Description'):\n",
        "    \"\"\" Calculate completeness scores for descriptions related to each disease. \"\"\"\n",
        "    completeness_scores = []\n",
        "    with tqdm(total=len(df), desc=\"Calculating Completeness\", unit=\"entry\") as pbar:  # Use tqdm for progress tracking\n",
        "        for _, row in df.iterrows():\n",
        "            disease = row[disease_column]\n",
        "            descriptions = row[description_column]\n",
        "            completion_text = evaluate_description_completeness(disease, descriptions)\n",
        "\n",
        "            if completion_text:\n",
        "                completeness_score = len(completion_text) / max(1, len(descriptions))\n",
        "                completeness_scores.append(completeness_score)\n",
        "\n",
        "            pbar.update(1)  # Update progress bar\n",
        "\n",
        "    if completeness_scores:\n",
        "        max_completeness_score = max(completeness_scores)\n",
        "        normalized_completeness_scores = [score / max_completeness_score for score in completeness_scores]\n",
        "        return sum(normalized_completeness_scores) / len(normalized_completeness_scores)\n",
        "    return 0\n",
        "\n",
        "\n",
        "if __name__ == \"__main__\":\n",
        "    openai.api_key = 'sk-proj-9hKjQtT6e6orqiwwd10jT3BlbkFJkW2KlXLZ4Ir2B7s6ja5V'\n",
        "    dataset_path = '/content/Train7.xlsx'\n",
        "    df = load_data(dataset_path)\n",
        "\n",
        "    completeness_score = calculate_completeness(df)\n",
        "    print(\"Completeness Score:\", completeness_score if completeness_score is not None else \"Error calculating completeness score.\")\n",
        "\n",
        "    completeness_definition = \"Completeness refers to the extent to which the provided descriptions cover all relevant aspects of a disease, focusing on aspects such as symptoms, descriptions, and other key diagnostic information.\"\n",
        "    print(\"Definition of Completeness:\")\n",
        "    print(completeness_definition)\n"
      ]
    },
    {
      "cell_type": "code",
      "execution_count": null,
      "metadata": {
        "colab": {
          "base_uri": "https://localhost:8080/"
        },
        "id": "6C8Ss4F0_ww3",
        "outputId": "5b64df13-1af2-4356-c873-47b57c94a8d1"
      },
      "outputs": [
        {
          "name": "stderr",
          "output_type": "stream",
          "text": [
            "Calculating Completeness:   2%|▏         | 88/4788 [00:51<40:35,  1.93entry/s]"
          ]
        },
        {
          "name": "stdout",
          "output_type": "stream",
          "text": [
            "Error querying OpenAI: Error communicating with OpenAI: ('Connection aborted.', RemoteDisconnected('Remote end closed connection without response'))\n"
          ]
        },
        {
          "name": "stderr",
          "output_type": "stream",
          "text": [
            "Calculating Completeness: 100%|██████████| 4788/4788 [42:47<00:00,  1.86entry/s]"
          ]
        },
        {
          "name": "stdout",
          "output_type": "stream",
          "text": [
            "Completeness Score: 0.15843632100617214\n",
            "Definition of Completeness:\n",
            "Completeness refers to the extent to which the provided descriptions cover all relevant aspects of a disease, focusing on aspects such as symptoms, descriptions, and other key diagnostic information.\n"
          ]
        },
        {
          "name": "stderr",
          "output_type": "stream",
          "text": [
            "\n"
          ]
        }
      ],
      "source": [
        "import pandas as pd\n",
        "import openai\n",
        "from tqdm import tqdm  # Import tqdm for progress tracking\n",
        "\n",
        "def load_data(file_path):\n",
        "    \"\"\" Load the Excel file into a DataFrame. \"\"\"\n",
        "    return pd.read_excel(file_path)\n",
        "\n",
        "def evaluate_description_completeness(Disease, Description):\n",
        "    \"\"\" Use OpenAI to evaluate the completeness of descriptions for a given disease. \"\"\"\n",
        "    try:\n",
        "        completeness_definition = \"Completeness refers to the extent to which the provided descriptions cover all relevant aspects of a disease, focusing on aspects such as symptoms, descriptions, and other key diagnostic information.\"\n",
        "\n",
        "        response = openai.Completion.create(\n",
        "            engine=\"gpt-3.5-turbo-instruct\",\n",
        "            prompt=f\"{completeness_definition}\\n\\nEvaluate the completeness of information for the disease '{Disease}' based on the provided descriptions: {Description}\",\n",
        "            max_tokens=50,\n",
        "            temperature=0.3,\n",
        "            stop=[\".\"]\n",
        "        )\n",
        "        return response.choices[0].text.strip()\n",
        "    except Exception as e:\n",
        "        print(f\"Error querying OpenAI: {e}\")\n",
        "        return None\n",
        "\n",
        "\n",
        "def calculate_completeness(df, disease_column='Disease', description_column='Description'):\n",
        "    \"\"\" Calculate completeness scores for descriptions related to each disease. \"\"\"\n",
        "    completeness_scores = []\n",
        "    with tqdm(total=len(df), desc=\"Calculating Completeness\", unit=\"entry\") as pbar:  # Use tqdm for progress tracking\n",
        "        for _, row in df.iterrows():\n",
        "            disease = row[disease_column]\n",
        "            descriptions = row[description_column]\n",
        "            completion_text = evaluate_description_completeness(disease, descriptions)\n",
        "\n",
        "            if completion_text:\n",
        "                completeness_score = len(completion_text) / max(1, len(descriptions))\n",
        "                completeness_scores.append(completeness_score)\n",
        "\n",
        "            pbar.update(1)  # Update progress bar\n",
        "\n",
        "    if completeness_scores:\n",
        "        max_completeness_score = max(completeness_scores)\n",
        "        normalized_completeness_scores = [score / max_completeness_score for score in completeness_scores]\n",
        "        return sum(normalized_completeness_scores) / len(normalized_completeness_scores)\n",
        "    return 0\n",
        "\n",
        "\n",
        "if __name__ == \"__main__\":\n",
        "    openai.api_key = 'sk-proj-9hKjQtT6e6orqiwwd10jT3BlbkFJkW2KlXLZ4Ir2B7s6ja5V'\n",
        "    dataset_path = '/content/Train8.xlsx'\n",
        "    df = load_data(dataset_path)\n",
        "\n",
        "    completeness_score = calculate_completeness(df)\n",
        "    print(\"Completeness Score:\", completeness_score if completeness_score is not None else \"Error calculating completeness score.\")\n",
        "\n",
        "    completeness_definition = \"Completeness refers to the extent to which the provided descriptions cover all relevant aspects of a disease, focusing on aspects such as symptoms, descriptions, and other key diagnostic information.\"\n",
        "    print(\"Definition of Completeness:\")\n",
        "    print(completeness_definition)\n"
      ]
    },
    {
      "cell_type": "code",
      "execution_count": null,
      "metadata": {
        "colab": {
          "base_uri": "https://localhost:8080/"
        },
        "id": "gWpSnQ9CVtee",
        "outputId": "ba7d7f8e-f974-418d-a65e-3b8dde0a38bb"
      },
      "outputs": [
        {
          "name": "stderr",
          "output_type": "stream",
          "text": [
            "Calculating Completeness: 100%|██████████| 4812/4812 [42:49<00:00,  1.87entry/s]"
          ]
        },
        {
          "name": "stdout",
          "output_type": "stream",
          "text": [
            "Completeness Score: 0.1258878967946886\n",
            "Definition of Completeness:\n",
            "Completeness refers to the extent to which the provided descriptions cover all relevant aspects of a disease, focusing on aspects such as symptoms, descriptions, and other key diagnostic information.\n"
          ]
        },
        {
          "name": "stderr",
          "output_type": "stream",
          "text": [
            "\n"
          ]
        }
      ],
      "source": [
        "import pandas as pd\n",
        "import openai\n",
        "from tqdm import tqdm  # Import tqdm for progress tracking\n",
        "\n",
        "def load_data(file_path):\n",
        "    \"\"\" Load the Excel file into a DataFrame. \"\"\"\n",
        "    return pd.read_excel(file_path)\n",
        "\n",
        "def evaluate_description_completeness(Disease, Description):\n",
        "    \"\"\" Use OpenAI to evaluate the completeness of descriptions for a given disease. \"\"\"\n",
        "    try:\n",
        "        completeness_definition = \"Completeness refers to the extent to which the provided descriptions cover all relevant aspects of a disease, focusing on aspects such as symptoms, descriptions, and other key diagnostic information.\"\n",
        "\n",
        "        response = openai.Completion.create(\n",
        "            engine=\"gpt-3.5-turbo-instruct\",\n",
        "            prompt=f\"{completeness_definition}\\n\\nEvaluate the completeness of information for the disease '{Disease}' based on the provided descriptions: {Description}\",\n",
        "            max_tokens=50,\n",
        "            temperature=0.3,\n",
        "            stop=[\".\"]\n",
        "        )\n",
        "        return response.choices[0].text.strip()\n",
        "    except Exception as e:\n",
        "        print(f\"Error querying OpenAI: {e}\")\n",
        "        return None\n",
        "\n",
        "\n",
        "def calculate_completeness(df, disease_column='Disease', description_column='Description'):\n",
        "    \"\"\" Calculate completeness scores for descriptions related to each disease. \"\"\"\n",
        "    completeness_scores = []\n",
        "    with tqdm(total=len(df), desc=\"Calculating Completeness\", unit=\"entry\") as pbar:  # Use tqdm for progress tracking\n",
        "        for _, row in df.iterrows():\n",
        "            disease = row[disease_column]\n",
        "            descriptions = row[description_column]\n",
        "            completion_text = evaluate_description_completeness(disease, descriptions)\n",
        "\n",
        "            if completion_text:\n",
        "                completeness_score = len(completion_text) / max(1, len(descriptions))\n",
        "                completeness_scores.append(completeness_score)\n",
        "\n",
        "            pbar.update(1)  # Update progress bar\n",
        "\n",
        "    if completeness_scores:\n",
        "        max_completeness_score = max(completeness_scores)\n",
        "        normalized_completeness_scores = [score / max_completeness_score for score in completeness_scores]\n",
        "        return sum(normalized_completeness_scores) / len(normalized_completeness_scores)\n",
        "    return 0\n",
        "\n",
        "\n",
        "if __name__ == \"__main__\":\n",
        "    openai.api_key = 'sk-proj-9hKjQtT6e6orqiwwd10jT3BlbkFJkW2KlXLZ4Ir2B7s6ja5V'\n",
        "    dataset_path = '/content/Train9.xlsx'\n",
        "    df = load_data(dataset_path)\n",
        "\n",
        "    completeness_score = calculate_completeness(df)\n",
        "    print(\"Completeness Score:\", completeness_score if completeness_score is not None else \"Error calculating completeness score.\")\n",
        "\n",
        "    completeness_definition = \"Completeness refers to the extent to which the provided descriptions cover all relevant aspects of a disease, focusing on aspects such as symptoms, descriptions, and other key diagnostic information.\"\n",
        "    print(\"Definition of Completeness:\")\n",
        "    print(completeness_definition)\n"
      ]
    },
    {
      "cell_type": "code",
      "source": [
        "output_scores = [0.1269, 0.1136, 0.1318, 0.1112, 0.1053, 0.1579, 0.1309, 0.1089, 0.1584, 0.1259]  # Replace these values with your actual output correctness scores\n",
        "\n",
        "# Calculate the average correctness score\n",
        "avg_completeness_score = sum(output_scores) / len(output_scores)\n",
        "\n",
        "# Print the average correctness score\n",
        "print(f\"Average Completeness Score: {round(avg_completeness_score, 5)}\")"
      ],
      "metadata": {
        "colab": {
          "base_uri": "https://localhost:8080/"
        },
        "id": "ibtNeps9jo7X",
        "outputId": "ca73baec-78ba-41d2-d416-30191b5974a6"
      },
      "execution_count": 7,
      "outputs": [
        {
          "output_type": "stream",
          "name": "stdout",
          "text": [
            "Average Completeness Score: 0.12708\n"
          ]
        }
      ]
    },
    {
      "cell_type": "code",
      "execution_count": null,
      "metadata": {
        "colab": {
          "base_uri": "https://localhost:8080/"
        },
        "id": "bXbOsJdTmnUR",
        "outputId": "4b7b8694-cde9-4354-9d97-ff3716fc7f32"
      },
      "outputs": [
        {
          "name": "stdout",
          "output_type": "stream",
          "text": [
            "Comprehensiveness Score: 0.8063185595778304\n"
          ]
        }
      ],
      "source": [
        "import pandas as pd\n",
        "import openai\n",
        "\n",
        "# Set your OpenAI API key\n",
        "openai.api_key = 'sk-proj-9hKjQtT6e6orqiwwd10jT3BlbkFJkW2KlXLZ4Ir2B7s6ja5V'\n",
        "\n",
        "# Load the dataset\n",
        "dataset_path = '/content/Train0.xlsx'  # Update with the path to your dataset\n",
        "df = pd.read_excel(dataset_path)\n",
        "\n",
        "# Define a function to assess the comprehensiveness of a description using ChatGPT\n",
        "def assess_comprehensiveness(disease, description):\n",
        "    try:\n",
        "        # Generate a prompt asking ChatGPT to assess the quality and completeness of the description\n",
        "        prompt = f\"Assess the comprehensiveness of the following description for the disease '{disease}':\\n'{description}'\"\n",
        "\n",
        "        # Use ChatGPT to generate a response\n",
        "        response = openai.Completion.create(\n",
        "            engine=\"gpt-3.5-turbo-instruct\",\n",
        "            prompt=prompt,\n",
        "            max_tokens=100,\n",
        "            temperature=0.3\n",
        "        )\n",
        "\n",
        "        # Extract the completion text from the response\n",
        "        completion_text = response.choices[0].text.strip()\n",
        "\n",
        "        # For simplicity, let's assume the comprehensiveness score is the length of the completion\n",
        "        # You may need to adjust this based on the expected response format\n",
        "        comprehensiveness_score = len(completion_text)\n",
        "\n",
        "        return comprehensiveness_score\n",
        "    except Exception as e:\n",
        "        print(f\"Error assessing comprehensiveness: {e}\")\n",
        "        return None\n",
        "\n",
        "# Iterate over each row in the dataset and assess comprehensiveness\n",
        "comprehensiveness_scores = []\n",
        "for index, row in df.iterrows():\n",
        "    score = assess_comprehensiveness(row['Disease'], row['Description'])\n",
        "    if score is not None:\n",
        "        comprehensiveness_scores.append(score)\n",
        "\n",
        "# Normalize the scores to a scale of 0 to 1\n",
        "max_score = max(comprehensiveness_scores)\n",
        "normalized_scores = [score / max_score for score in comprehensiveness_scores]\n",
        "\n",
        "# Calculate the average comprehensiveness score for the dataset\n",
        "if normalized_scores:\n",
        "    average_comprehensiveness_score = sum(normalized_scores) / len(normalized_scores)\n",
        "    print(\"Comprehensiveness Score:\", average_comprehensiveness_score)\n",
        "else:\n",
        "    print(\"No comprehensiveness scores calculated.\")\n"
      ]
    },
    {
      "cell_type": "code",
      "execution_count": null,
      "metadata": {
        "colab": {
          "base_uri": "https://localhost:8080/"
        },
        "id": "6jxVgQfmQHvq",
        "outputId": "5f9a81b8-b714-4010-8bc8-016e9e833dea"
      },
      "outputs": [
        {
          "name": "stdout",
          "output_type": "stream",
          "text": [
            "Comprehensiveness Score: 0.7994336289186412\n"
          ]
        }
      ],
      "source": [
        "import pandas as pd\n",
        "import openai\n",
        "\n",
        "# Set your OpenAI API key\n",
        "openai.api_key = 'sk-proj-9hKjQtT6e6orqiwwd10jT3BlbkFJkW2KlXLZ4Ir2B7s6ja5V'\n",
        "\n",
        "# Load the dataset\n",
        "dataset_path = '/content/Train9.xlsx'  # Update with the path to your dataset\n",
        "df = pd.read_excel(dataset_path)\n",
        "\n",
        "# Define a function to assess the comprehensiveness of a description using ChatGPT\n",
        "def assess_comprehensiveness(disease, description):\n",
        "    try:\n",
        "        # Generate a prompt asking ChatGPT to assess the quality and completeness of the description\n",
        "        prompt = f\"Assess the comprehensiveness of the following description for the disease '{disease}':\\n'{description}'\"\n",
        "\n",
        "        # Use ChatGPT to generate a response\n",
        "        response = openai.Completion.create(\n",
        "            engine=\"gpt-3.5-turbo-instruct\",\n",
        "            prompt=prompt,\n",
        "            max_tokens=100,\n",
        "            temperature=0.3\n",
        "        )\n",
        "\n",
        "        # Extract the completion text from the response\n",
        "        completion_text = response.choices[0].text.strip()\n",
        "\n",
        "        # For simplicity, let's assume the comprehensiveness score is the length of the completion\n",
        "        # You may need to adjust this based on the expected response format\n",
        "        comprehensiveness_score = len(completion_text)\n",
        "\n",
        "        return comprehensiveness_score\n",
        "    except Exception as e:\n",
        "        print(f\"Error assessing comprehensiveness: {e}\")\n",
        "        return None\n",
        "\n",
        "# Iterate over each row in the dataset and assess comprehensiveness\n",
        "comprehensiveness_scores = []\n",
        "for index, row in df.iterrows():\n",
        "    score = assess_comprehensiveness(row['Disease'], row['Description'])\n",
        "    if score is not None:\n",
        "        comprehensiveness_scores.append(score)\n",
        "\n",
        "# Normalize the scores to a scale of 0 to 1\n",
        "max_score = max(comprehensiveness_scores)\n",
        "normalized_scores = [score / max_score for score in comprehensiveness_scores]\n",
        "\n",
        "# Calculate the average comprehensiveness score for the dataset\n",
        "if normalized_scores:\n",
        "    average_comprehensiveness_score = sum(normalized_scores) / len(normalized_scores)\n",
        "    print(\"Comprehensiveness Score:\", average_comprehensiveness_score)\n",
        "else:\n",
        "    print(\"No comprehensiveness scores calculated.\")\n"
      ]
    },
    {
      "cell_type": "code",
      "execution_count": null,
      "metadata": {
        "colab": {
          "base_uri": "https://localhost:8080/"
        },
        "id": "BbHJoFBejpZB",
        "outputId": "a1e3c8a6-fe43-4989-8444-3420ca73891c"
      },
      "outputs": [
        {
          "name": "stdout",
          "output_type": "stream",
          "text": [
            "Comprehensiveness Score: 0.8197914303974229\n"
          ]
        }
      ],
      "source": [
        "import pandas as pd\n",
        "import openai\n",
        "\n",
        "# Set your OpenAI API key\n",
        "openai.api_key = 'sk-proj-9hKjQtT6e6orqiwwd10jT3BlbkFJkW2KlXLZ4Ir2B7s6ja5V'\n",
        "\n",
        "# Load the dataset\n",
        "dataset_path = '/content/Train2.xlsx'  # Update with the path to your dataset\n",
        "df = pd.read_excel(dataset_path)\n",
        "\n",
        "# Define a function to assess the comprehensiveness of a description using ChatGPT\n",
        "def assess_comprehensiveness(disease, description):\n",
        "    try:\n",
        "        # Generate a prompt asking ChatGPT to assess the quality and completeness of the description\n",
        "        prompt = f\"Assess the comprehensiveness of the following description for the disease '{disease}':\\n'{description}'\"\n",
        "\n",
        "        # Use ChatGPT to generate a response\n",
        "        response = openai.Completion.create(\n",
        "            engine=\"gpt-3.5-turbo-instruct\",\n",
        "            prompt=prompt,\n",
        "            max_tokens=100,\n",
        "            temperature=0.3\n",
        "        )\n",
        "\n",
        "        # Extract the completion text from the response\n",
        "        completion_text = response.choices[0].text.strip()\n",
        "\n",
        "        # For simplicity, let's assume the comprehensiveness score is the length of the completion\n",
        "        # You may need to adjust this based on the expected response format\n",
        "        comprehensiveness_score = len(completion_text)\n",
        "\n",
        "        return comprehensiveness_score\n",
        "    except Exception as e:\n",
        "        print(f\"Error assessing comprehensiveness: {e}\")\n",
        "        return None\n",
        "\n",
        "# Iterate over each row in the dataset and assess comprehensiveness\n",
        "comprehensiveness_scores = []\n",
        "for index, row in df.iterrows():\n",
        "    score = assess_comprehensiveness(row['Disease'], row['Description'])\n",
        "    if score is not None:\n",
        "        comprehensiveness_scores.append(score)\n",
        "\n",
        "# Normalize the scores to a scale of 0 to 1\n",
        "max_score = max(comprehensiveness_scores)\n",
        "normalized_scores = [score / max_score for score in comprehensiveness_scores]\n",
        "\n",
        "# Calculate the average comprehensiveness score for the dataset\n",
        "if normalized_scores:\n",
        "    average_comprehensiveness_score = sum(normalized_scores) / len(normalized_scores)\n",
        "    print(\"Comprehensiveness Score:\", average_comprehensiveness_score)\n",
        "else:\n",
        "    print(\"No comprehensiveness scores calculated.\")\n"
      ]
    },
    {
      "cell_type": "code",
      "execution_count": null,
      "metadata": {
        "colab": {
          "base_uri": "https://localhost:8080/"
        },
        "id": "cLkUXTzLlrBt",
        "outputId": "131398e7-3319-4184-c882-d62980db17fb"
      },
      "outputs": [
        {
          "name": "stdout",
          "output_type": "stream",
          "text": [
            "Comprehensiveness Score: 0.8213285312193753\n"
          ]
        }
      ],
      "source": [
        "import pandas as pd\n",
        "import openai\n",
        "\n",
        "# Set your OpenAI API key\n",
        "openai.api_key = 'sk-proj-9hKjQtT6e6orqiwwd10jT3BlbkFJkW2KlXLZ4Ir2B7s6ja5V'\n",
        "\n",
        "# Load the dataset\n",
        "dataset_path = '/content/Train1.xlsx'  # Update with the path to your dataset\n",
        "df = pd.read_excel(dataset_path)\n",
        "\n",
        "# Define a function to assess the comprehensiveness of a description using ChatGPT\n",
        "def assess_comprehensiveness(disease, description):\n",
        "    try:\n",
        "        # Generate a prompt asking ChatGPT to assess the quality and completeness of the description\n",
        "        prompt = f\"Assess the comprehensiveness of the following description for the disease '{disease}':\\n'{description}'\"\n",
        "\n",
        "        # Use ChatGPT to generate a response\n",
        "        response = openai.Completion.create(\n",
        "            engine=\"gpt-3.5-turbo-instruct\",\n",
        "            prompt=prompt,\n",
        "            max_tokens=100,\n",
        "            temperature=0.3\n",
        "        )\n",
        "\n",
        "        # Extract the completion text from the response\n",
        "        completion_text = response.choices[0].text.strip()\n",
        "\n",
        "        # For simplicity, let's assume the comprehensiveness score is the length of the completion\n",
        "        # You may need to adjust this based on the expected response format\n",
        "        comprehensiveness_score = len(completion_text)\n",
        "\n",
        "        return comprehensiveness_score\n",
        "    except Exception as e:\n",
        "        print(f\"Error assessing comprehensiveness: {e}\")\n",
        "        return None\n",
        "\n",
        "# Iterate over each row in the dataset and assess comprehensiveness\n",
        "comprehensiveness_scores = []\n",
        "for index, row in df.iterrows():\n",
        "    score = assess_comprehensiveness(row['Disease'], row['Description'])\n",
        "    if score is not None:\n",
        "        comprehensiveness_scores.append(score)\n",
        "\n",
        "# Normalize the scores to a scale of 0 to 1\n",
        "max_score = max(comprehensiveness_scores)\n",
        "normalized_scores = [score / max_score for score in comprehensiveness_scores]\n",
        "\n",
        "# Calculate the average comprehensiveness score for the dataset\n",
        "if normalized_scores:\n",
        "    average_comprehensiveness_score = sum(normalized_scores) / len(normalized_scores)\n",
        "    print(\"Comprehensiveness Score:\", average_comprehensiveness_score)\n",
        "else:\n",
        "    print(\"No comprehensiveness scores calculated.\")\n"
      ]
    },
    {
      "cell_type": "code",
      "execution_count": null,
      "metadata": {
        "colab": {
          "base_uri": "https://localhost:8080/"
        },
        "id": "tIhdvaSBAUWx",
        "outputId": "d46a52e5-ad28-4164-9d40-b84e505798ed"
      },
      "outputs": [
        {
          "name": "stdout",
          "output_type": "stream",
          "text": [
            "Comprehensiveness Score: 0.8235835644533533\n"
          ]
        }
      ],
      "source": [
        "import pandas as pd\n",
        "import openai\n",
        "\n",
        "# Set your OpenAI API key\n",
        "openai.api_key = 'sk-proj-9hKjQtT6e6orqiwwd10jT3BlbkFJkW2KlXLZ4Ir2B7s6ja5V'\n",
        "\n",
        "# Load the dataset\n",
        "dataset_path = '/content/Train3.xlsx'  # Update with the path to your dataset\n",
        "df = pd.read_excel(dataset_path)\n",
        "\n",
        "# Define a function to assess the comprehensiveness of a description using ChatGPT\n",
        "def assess_comprehensiveness(disease, description):\n",
        "    try:\n",
        "        # Generate a prompt asking ChatGPT to assess the quality and completeness of the description\n",
        "        prompt = f\"Assess the comprehensiveness of the following description for the disease '{disease}':\\n'{description}'\"\n",
        "\n",
        "        # Use ChatGPT to generate a response\n",
        "        response = openai.Completion.create(\n",
        "            engine=\"gpt-3.5-turbo-instruct\",\n",
        "            prompt=prompt,\n",
        "            max_tokens=100,\n",
        "            temperature=0.3\n",
        "        )\n",
        "\n",
        "        # Extract the completion text from the response\n",
        "        completion_text = response.choices[0].text.strip()\n",
        "\n",
        "        # For simplicity, let's assume the comprehensiveness score is the length of the completion\n",
        "        # You may need to adjust this based on the expected response format\n",
        "        comprehensiveness_score = len(completion_text)\n",
        "\n",
        "        return comprehensiveness_score\n",
        "    except Exception as e:\n",
        "        print(f\"Error assessing comprehensiveness: {e}\")\n",
        "        return None\n",
        "\n",
        "# Iterate over each row in the dataset and assess comprehensiveness\n",
        "comprehensiveness_scores = []\n",
        "for index, row in df.iterrows():\n",
        "    score = assess_comprehensiveness(row['Disease'], row['Description'])\n",
        "    if score is not None:\n",
        "        comprehensiveness_scores.append(score)\n",
        "\n",
        "# Normalize the scores to a scale of 0 to 1\n",
        "max_score = max(comprehensiveness_scores)\n",
        "normalized_scores = [score / max_score for score in comprehensiveness_scores]\n",
        "\n",
        "# Calculate the average comprehensiveness score for the dataset\n",
        "if normalized_scores:\n",
        "    average_comprehensiveness_score = sum(normalized_scores) / len(normalized_scores)\n",
        "    print(\"Comprehensiveness Score:\", average_comprehensiveness_score)\n",
        "else:\n",
        "    print(\"No comprehensiveness scores calculated.\")\n"
      ]
    },
    {
      "cell_type": "code",
      "execution_count": null,
      "metadata": {
        "colab": {
          "background_save": true
        },
        "id": "_OkqCK_JcHyY",
        "outputId": "64f01055-c22d-4671-fba6-92f07a258786"
      },
      "outputs": [
        {
          "name": "stdout",
          "output_type": "stream",
          "text": [
            "Comprehensiveness Score: 0.8226572528675683\n"
          ]
        }
      ],
      "source": [
        "import pandas as pd\n",
        "import openai\n",
        "\n",
        "# Set your OpenAI API key\n",
        "openai.api_key = 'sk-proj-9hKjQtT6e6orqiwwd10jT3BlbkFJkW2KlXLZ4Ir2B7s6ja5V'\n",
        "\n",
        "# Load the dataset\n",
        "dataset_path = '/content/Train4.xlsx'  # Update with the path to your dataset\n",
        "df = pd.read_excel(dataset_path)\n",
        "\n",
        "# Define a function to assess the comprehensiveness of a description using ChatGPT\n",
        "def assess_comprehensiveness(disease, description):\n",
        "    try:\n",
        "        # Generate a prompt asking ChatGPT to assess the quality and completeness of the description\n",
        "        prompt = f\"Assess the comprehensiveness of the following description for the disease '{disease}':\\n'{description}'\"\n",
        "\n",
        "        # Use ChatGPT to generate a response\n",
        "        response = openai.Completion.create(\n",
        "            engine=\"gpt-3.5-turbo-instruct\",\n",
        "            prompt=prompt,\n",
        "            max_tokens=100,\n",
        "            temperature=0.3\n",
        "        )\n",
        "\n",
        "        # Extract the completion text from the response\n",
        "        completion_text = response.choices[0].text.strip()\n",
        "\n",
        "        # For simplicity, let's assume the comprehensiveness score is the length of the completion\n",
        "        # You may need to adjust this based on the expected response format\n",
        "        comprehensiveness_score = len(completion_text)\n",
        "\n",
        "        return comprehensiveness_score\n",
        "    except Exception as e:\n",
        "        print(f\"Error assessing comprehensiveness: {e}\")\n",
        "        return None\n",
        "\n",
        "# Iterate over each row in the dataset and assess comprehensiveness\n",
        "comprehensiveness_scores = []\n",
        "for index, row in df.iterrows():\n",
        "    score = assess_comprehensiveness(row['Disease'], row['Description'])\n",
        "    if score is not None:\n",
        "        comprehensiveness_scores.append(score)\n",
        "\n",
        "# Normalize the scores to a scale of 0 to 1\n",
        "max_score = max(comprehensiveness_scores)\n",
        "normalized_scores = [score / max_score for score in comprehensiveness_scores]\n",
        "\n",
        "# Calculate the average comprehensiveness score for the dataset\n",
        "if normalized_scores:\n",
        "    average_comprehensiveness_score = sum(normalized_scores) / len(normalized_scores)\n",
        "    print(\"Comprehensiveness Score:\", average_comprehensiveness_score)\n",
        "else:\n",
        "    print(\"No comprehensiveness scores calculated.\")\n"
      ]
    },
    {
      "cell_type": "code",
      "execution_count": null,
      "metadata": {
        "colab": {
          "base_uri": "https://localhost:8080/"
        },
        "id": "UIMTpaC3cJPY",
        "outputId": "8507b312-833d-4216-f570-617dd4a185da"
      },
      "outputs": [
        {
          "name": "stdout",
          "output_type": "stream",
          "text": [
            "Comprehensiveness Score: 0.831655878819794\n"
          ]
        }
      ],
      "source": [
        "import pandas as pd\n",
        "import openai\n",
        "\n",
        "# Set your OpenAI API key\n",
        "openai.api_key = 'sk-proj-9hKjQtT6e6orqiwwd10jT3BlbkFJkW2KlXLZ4Ir2B7s6ja5V'\n",
        "\n",
        "# Load the dataset\n",
        "dataset_path = '/content/Train5.xlsx'  # Update with the path to your dataset\n",
        "df = pd.read_excel(dataset_path)\n",
        "\n",
        "# Define a function to assess the comprehensiveness of a description using ChatGPT\n",
        "def assess_comprehensiveness(disease, description):\n",
        "    try:\n",
        "        # Generate a prompt asking ChatGPT to assess the quality and completeness of the description\n",
        "        prompt = f\"Assess the comprehensiveness of the following description for the disease '{disease}':\\n'{description}'\"\n",
        "\n",
        "        # Use ChatGPT to generate a response\n",
        "        response = openai.Completion.create(\n",
        "            engine=\"gpt-3.5-turbo-instruct\",\n",
        "            prompt=prompt,\n",
        "            max_tokens=100,\n",
        "            temperature=0.3\n",
        "        )\n",
        "\n",
        "        # Extract the completion text from the response\n",
        "        completion_text = response.choices[0].text.strip()\n",
        "\n",
        "        # For simplicity, let's assume the comprehensiveness score is the length of the completion\n",
        "        # You may need to adjust this based on the expected response format\n",
        "        comprehensiveness_score = len(completion_text)\n",
        "\n",
        "        return comprehensiveness_score\n",
        "    except Exception as e:\n",
        "        print(f\"Error assessing comprehensiveness: {e}\")\n",
        "        return None\n",
        "\n",
        "# Iterate over each row in the dataset and assess comprehensiveness\n",
        "comprehensiveness_scores = []\n",
        "for index, row in df.iterrows():\n",
        "    score = assess_comprehensiveness(row['Disease'], row['Description'])\n",
        "    if score is not None:\n",
        "        comprehensiveness_scores.append(score)\n",
        "\n",
        "# Normalize the scores to a scale of 0 to 1\n",
        "max_score = max(comprehensiveness_scores)\n",
        "normalized_scores = [score / max_score for score in comprehensiveness_scores]\n",
        "\n",
        "# Calculate the average comprehensiveness score for the dataset\n",
        "if normalized_scores:\n",
        "    average_comprehensiveness_score = sum(normalized_scores) / len(normalized_scores)\n",
        "    print(\"Comprehensiveness Score:\", average_comprehensiveness_score)\n",
        "else:\n",
        "    print(\"No comprehensiveness scores calculated.\")\n"
      ]
    },
    {
      "cell_type": "code",
      "execution_count": null,
      "metadata": {
        "colab": {
          "background_save": true
        },
        "id": "-ru5T3AncLX7",
        "outputId": "14dafdb2-f5a6-4588-aaea-1a8e00ea62c1"
      },
      "outputs": [
        {
          "name": "stdout",
          "output_type": "stream",
          "text": [
            "Comprehensiveness Score: 0.8256565807221421\n"
          ]
        }
      ],
      "source": [
        "import pandas as pd\n",
        "import openai\n",
        "\n",
        "# Set your OpenAI API key\n",
        "openai.api_key = 'sk-proj-9hKjQtT6e6orqiwwd10jT3BlbkFJkW2KlXLZ4Ir2B7s6ja5V'\n",
        "\n",
        "# Load the dataset\n",
        "dataset_path = '/content/Train6.xlsx'  # Update with the path to your dataset\n",
        "df = pd.read_excel(dataset_path)\n",
        "\n",
        "# Define a function to assess the comprehensiveness of a description using ChatGPT\n",
        "def assess_comprehensiveness(disease, description):\n",
        "    try:\n",
        "        # Generate a prompt asking ChatGPT to assess the quality and completeness of the description\n",
        "        prompt = f\"Assess the comprehensiveness of the following description for the disease '{disease}':\\n'{description}'\"\n",
        "\n",
        "        # Use ChatGPT to generate a response\n",
        "        response = openai.Completion.create(\n",
        "            engine=\"gpt-3.5-turbo-instruct\",\n",
        "            prompt=prompt,\n",
        "            max_tokens=100,\n",
        "            temperature=0.3\n",
        "        )\n",
        "\n",
        "        # Extract the completion text from the response\n",
        "        completion_text = response.choices[0].text.strip()\n",
        "\n",
        "        # For simplicity, let's assume the comprehensiveness score is the length of the completion\n",
        "        # You may need to adjust this based on the expected response format\n",
        "        comprehensiveness_score = len(completion_text)\n",
        "\n",
        "        return comprehensiveness_score\n",
        "    except Exception as e:\n",
        "        print(f\"Error assessing comprehensiveness: {e}\")\n",
        "        return None\n",
        "\n",
        "# Iterate over each row in the dataset and assess comprehensiveness\n",
        "comprehensiveness_scores = []\n",
        "for index, row in df.iterrows():\n",
        "    score = assess_comprehensiveness(row['Disease'], row['Description'])\n",
        "    if score is not None:\n",
        "        comprehensiveness_scores.append(score)\n",
        "\n",
        "# Normalize the scores to a scale of 0 to 1\n",
        "max_score = max(comprehensiveness_scores)\n",
        "normalized_scores = [score / max_score for score in comprehensiveness_scores]\n",
        "\n",
        "# Calculate the average comprehensiveness score for the dataset\n",
        "if normalized_scores:\n",
        "    average_comprehensiveness_score = sum(normalized_scores) / len(normalized_scores)\n",
        "    print(\"Comprehensiveness Score:\", average_comprehensiveness_score)\n",
        "else:\n",
        "    print(\"No comprehensiveness scores calculated.\")\n"
      ]
    },
    {
      "cell_type": "code",
      "execution_count": 4,
      "metadata": {
        "id": "RUUdA4S-cNU_",
        "colab": {
          "base_uri": "https://localhost:8080/"
        },
        "outputId": "5e8cb06f-c49a-49c5-8591-efe5fd52a409"
      },
      "outputs": [
        {
          "output_type": "stream",
          "name": "stdout",
          "text": [
            "Comprehensiveness Score: 0.8265200837678565\n"
          ]
        }
      ],
      "source": [
        "import pandas as pd\n",
        "import openai\n",
        "\n",
        "# Set your OpenAI API key\n",
        "openai.api_key = 'sk-proj-9hKjQtT6e6orqiwwd10jT3BlbkFJkW2KlXLZ4Ir2B7s6ja5V'\n",
        "\n",
        "# Load the dataset\n",
        "dataset_path = '/content/Train7.xlsx'  # Update with the path to your dataset\n",
        "df = pd.read_excel(dataset_path)\n",
        "\n",
        "# Define a function to assess the comprehensiveness of a description using ChatGPT\n",
        "def assess_comprehensiveness(disease, description):\n",
        "    try:\n",
        "        # Generate a prompt asking ChatGPT to assess the quality and completeness of the description\n",
        "        prompt = f\"Assess the comprehensiveness of the following description for the disease '{disease}':\\n'{description}'\"\n",
        "\n",
        "        # Use ChatGPT to generate a response\n",
        "        response = openai.Completion.create(\n",
        "            engine=\"gpt-3.5-turbo-instruct\",\n",
        "            prompt=prompt,\n",
        "            max_tokens=100,\n",
        "            temperature=0.3\n",
        "        )\n",
        "\n",
        "        # Extract the completion text from the response\n",
        "        completion_text = response.choices[0].text.strip()\n",
        "\n",
        "        # For simplicity, let's assume the comprehensiveness score is the length of the completion\n",
        "        # You may need to adjust this based on the expected response format\n",
        "        comprehensiveness_score = len(completion_text)\n",
        "\n",
        "        return comprehensiveness_score\n",
        "    except Exception as e:\n",
        "        print(f\"Error assessing comprehensiveness: {e}\")\n",
        "        return None\n",
        "\n",
        "# Iterate over each row in the dataset and assess comprehensiveness\n",
        "comprehensiveness_scores = []\n",
        "for index, row in df.iterrows():\n",
        "    score = assess_comprehensiveness(row['Disease'], row['Description'])\n",
        "    if score is not None:\n",
        "        comprehensiveness_scores.append(score)\n",
        "\n",
        "# Normalize the scores to a scale of 0 to 1\n",
        "max_score = max(comprehensiveness_scores)\n",
        "normalized_scores = [score / max_score for score in comprehensiveness_scores]\n",
        "\n",
        "# Calculate the average comprehensiveness score for the dataset\n",
        "if normalized_scores:\n",
        "    average_comprehensiveness_score = sum(normalized_scores) / len(normalized_scores)\n",
        "    print(\"Comprehensiveness Score:\", average_comprehensiveness_score)\n",
        "else:\n",
        "    print(\"No comprehensiveness scores calculated.\")\n"
      ]
    },
    {
      "cell_type": "code",
      "execution_count": 4,
      "metadata": {
        "id": "YpBDBnBacPnv",
        "colab": {
          "base_uri": "https://localhost:8080/"
        },
        "outputId": "7a7d5fa8-0a41-4dd2-d9fa-913ec8ac8654"
      },
      "outputs": [
        {
          "output_type": "stream",
          "name": "stdout",
          "text": [
            "Comprehensiveness Score: 0.8111764503000619\n"
          ]
        }
      ],
      "source": [
        "import pandas as pd\n",
        "import openai\n",
        "\n",
        "# Set your OpenAI API key\n",
        "openai.api_key = 'sk-proj-9hKjQtT6e6orqiwwd10jT3BlbkFJkW2KlXLZ4Ir2B7s6ja5V'\n",
        "\n",
        "# Load the dataset\n",
        "dataset_path = '/content/Train8.xlsx'  # Update with the path to your dataset\n",
        "df = pd.read_excel(dataset_path)\n",
        "\n",
        "# Define a function to assess the comprehensiveness of a description using ChatGPT\n",
        "def assess_comprehensiveness(disease, description):\n",
        "    try:\n",
        "        # Generate a prompt asking ChatGPT to assess the quality and completeness of the description\n",
        "        prompt = f\"Assess the comprehensiveness of the following description for the disease '{disease}':\\n'{description}'\"\n",
        "\n",
        "        # Use ChatGPT to generate a response\n",
        "        response = openai.Completion.create(\n",
        "            engine=\"gpt-3.5-turbo-instruct\",\n",
        "            prompt=prompt,\n",
        "            max_tokens=100,\n",
        "            temperature=0.3\n",
        "        )\n",
        "\n",
        "        # Extract the completion text from the response\n",
        "        completion_text = response.choices[0].text.strip()\n",
        "\n",
        "        # For simplicity, let's assume the comprehensiveness score is the length of the completion\n",
        "        # You may need to adjust this based on the expected response format\n",
        "        comprehensiveness_score = len(completion_text)\n",
        "\n",
        "        return comprehensiveness_score\n",
        "    except Exception as e:\n",
        "        print(f\"Error assessing comprehensiveness: {e}\")\n",
        "        return None\n",
        "\n",
        "# Iterate over each row in the dataset and assess comprehensiveness\n",
        "comprehensiveness_scores = []\n",
        "for index, row in df.iterrows():\n",
        "    score = assess_comprehensiveness(row['Disease'], row['Description'])\n",
        "    if score is not None:\n",
        "        comprehensiveness_scores.append(score)\n",
        "\n",
        "# Normalize the scores to a scale of 0 to 1\n",
        "max_score = max(comprehensiveness_scores)\n",
        "normalized_scores = [score / max_score for score in comprehensiveness_scores]\n",
        "\n",
        "# Calculate the average comprehensiveness score for the dataset\n",
        "if normalized_scores:\n",
        "    average_comprehensiveness_score = sum(normalized_scores) / len(normalized_scores)\n",
        "    print(\"Comprehensiveness Score:\", average_comprehensiveness_score)\n",
        "else:\n",
        "    print(\"No comprehensiveness scores calculated.\")\n"
      ]
    },
    {
      "cell_type": "code",
      "source": [
        "output_scores = [0.8063, 0.8213, 0.8198, 0.8236, 0.8227, 0.837, 0.8257, 0.8265, 0.8112, 0.7994]  # Replace these values with your actual output correctness scores\n",
        "\n",
        "# Calculate the average correctness score\n",
        "avg_comprehensiveness_score = sum(output_scores) / len(output_scores)\n",
        "\n",
        "# Print the average correctness score\n",
        "print(f\"Average Comprehensiveness Score: {round(avg_comprehensiveness_score, 5)}\")"
      ],
      "metadata": {
        "colab": {
          "base_uri": "https://localhost:8080/"
        },
        "id": "FDF3o32fi7x-",
        "outputId": "9dc206c8-64fc-4a3c-e3d9-f6cbea791128"
      },
      "execution_count": 9,
      "outputs": [
        {
          "output_type": "stream",
          "name": "stdout",
          "text": [
            "Average Comprehensiveness Score: 0.81935\n"
          ]
        }
      ]
    }
  ],
  "metadata": {
    "colab": {
      "provenance": [],
      "authorship_tag": "ABX9TyOfJ/Y7YKXN9XjWynG/+/pE",
      "include_colab_link": true
    },
    "kernelspec": {
      "display_name": "Python 3",
      "name": "python3"
    },
    "language_info": {
      "name": "python"
    }
  },
  "nbformat": 4,
  "nbformat_minor": 0
}