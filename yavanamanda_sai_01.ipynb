{
  "cells": [
    {
      "cell_type": "markdown",
      "metadata": {
        "id": "view-in-github",
        "colab_type": "text"
      },
      "source": [
        "<a href=\"https://colab.research.google.com/github/sainikhila11/SaiNikhila_INFO5731_Spring2024/blob/main/yavanamanda_sai_01.ipynb\" target=\"_parent\"><img src=\"https://colab.research.google.com/assets/colab-badge.svg\" alt=\"Open In Colab\"/></a>"
      ]
    },
    {
      "cell_type": "markdown",
      "metadata": {
        "id": "DymRJbxDBCnf"
      },
      "source": [
        "# **This first In-class-exercise cover a variety of fundamental concepts in Python and are designed to help individuals improve their coding skills and problem-solving abilities.**\n",
        "\n",
        "The submission is due on 01/31/2024 11:59 PM. This submission is worth 40 points in total.\n"
      ]
    },
    {
      "cell_type": "markdown",
      "source": [
        "(1) Write a Python program that  prompts the user to input the length and width of a rectangle, and then calculates and displays the area of the rectangle."
      ],
      "metadata": {
        "id": "FBKvD6O_TY6e"
      }
    },
    {
      "cell_type": "code",
      "source": [
        "# write your answer here\n",
        "\n",
        "# l is the length of the rectangle\n",
        "l = int(input(\"length: \"))\n",
        "\n",
        "# w is the width of the rectangle\n",
        "w = int(input(\"width: \"))\n",
        "\n",
        "# a is the area of the rectangle\n",
        "a = l*w\n",
        "print(\"area of rectangle:\", a)"
      ],
      "metadata": {
        "id": "cikVKDXdTbzE",
        "colab": {
          "base_uri": "https://localhost:8080/"
        },
        "outputId": "a587bd39-31c7-40ed-91be-55ce71aee43a"
      },
      "execution_count": 53,
      "outputs": [
        {
          "output_type": "stream",
          "name": "stdout",
          "text": [
            "length: 6\n",
            "width: 6\n",
            "area of rectangle: 36\n"
          ]
        }
      ]
    },
    {
      "cell_type": "markdown",
      "source": [
        "(2) Create a Python program that interactively takes two numerical inputs from the user and swaps their values without utilizing an extra variable."
      ],
      "metadata": {
        "id": "E9RqrlwdTfvl"
      }
    },
    {
      "cell_type": "code",
      "source": [
        "# write your answer here\n",
        "\n",
        "# enter number 1\n",
        "number1 = int(input(\"Enter number 1: \"))\n",
        "number2 = int(input(\"Enter number 2: \"))\n",
        "\n",
        "# Swap code\n",
        "# both numbers are added and assigned to number 1\n",
        "number1 = number1 + number2\n",
        "# number 2 is subtracted from updated number 1 and assigned to number 2 which leaves it with original number1 value\n",
        "number2 = number1 - number2\n",
        "# updated number 2 is subtracted from updated number 1 and assigned to number 1 which leaves it with original number2 value\n",
        "number1 = number1 - number2\n",
        "\n",
        "# to print swapped values\n",
        "print(f\"After swapping number 1 is: \", number1)\n",
        "print(f\"After swapping number 2 is: \", number2)"
      ],
      "metadata": {
        "id": "4XvRknixTh1g",
        "colab": {
          "base_uri": "https://localhost:8080/"
        },
        "outputId": "97e17ab7-54b6-4a11-bda2-cf05af5bd809"
      },
      "execution_count": 54,
      "outputs": [
        {
          "output_type": "stream",
          "name": "stdout",
          "text": [
            "Enter number 1: 5\n",
            "Enter number 2: 65\n",
            "After swapping number 1 is:  65\n",
            "After swapping number 2 is:  5\n"
          ]
        }
      ]
    },
    {
      "cell_type": "markdown",
      "metadata": {
        "id": "03jb4GZsBkBS"
      },
      "source": [
        "(3) Write a Python script to determine and print the length of a user-input string."
      ]
    },
    {
      "cell_type": "code",
      "execution_count": 55,
      "metadata": {
        "id": "YaGLbSHHB8Ej",
        "colab": {
          "base_uri": "https://localhost:8080/"
        },
        "outputId": "f6e302a1-7564-41cf-af27-f2f243d3ae11"
      },
      "outputs": [
        {
          "output_type": "stream",
          "name": "stdout",
          "text": [
            "Enter your text: nikhila\n",
            "lenth of the entered text:  7\n"
          ]
        }
      ],
      "source": [
        "# write your answer here\n",
        "\n",
        "# take input string from user\n",
        "str = input(\"Enter your text: \")\n",
        "\n",
        "#using len() built-in function for calculating the length of str\n",
        "lstr = len(str)\n",
        "\n",
        "print(\"lenth of the entered text: \", lstr)"
      ]
    },
    {
      "cell_type": "markdown",
      "metadata": {
        "id": "jJDe71iLB616"
      },
      "source": [
        "(4) Construct a Python program that counts and displays the occurrences of each character in a given string.\n",
        "\n",
        "Sample String: 'openai.ai',\n",
        "\n",
        "Expected Result: {'a': 2, 'i': 2, '.': 1, 'o': 1, 'p': 1, 'e': 1, 'n': 1}"
      ]
    },
    {
      "cell_type": "code",
      "execution_count": 56,
      "metadata": {
        "id": "MtKskTzbCLaU",
        "colab": {
          "base_uri": "https://localhost:8080/"
        },
        "outputId": "5a2910ad-048c-42a0-e40c-2e7b24c4768d"
      },
      "outputs": [
        {
          "output_type": "stream",
          "name": "stdout",
          "text": [
            "Enter your text: computation\n",
            "Occurrences of each character in entered text:  Counter({'o': 2, 't': 2, 'c': 1, 'm': 1, 'p': 1, 'u': 1, 'a': 1, 'i': 1, 'n': 1})\n"
          ]
        }
      ],
      "source": [
        "# write your answer here\n",
        "from collections import Counter\n",
        "\n",
        "# Get user input for a string\n",
        "str = input(\"Enter your text: \")\n",
        "\n",
        "# Using Counter built-in function to count occurrences of each character in the input string\n",
        "occurrences = Counter(str)\n",
        "\n",
        "# printing occurances\n",
        "print(\"Occurrences of each character in entered text: \", occurrences)\n"
      ]
    },
    {
      "cell_type": "markdown",
      "metadata": {
        "id": "55W9AMdXCSpV"
      },
      "source": [
        "(5) Design a Python code to calculate the sum of all elements in a user-provided list."
      ]
    },
    {
      "cell_type": "code",
      "execution_count": 57,
      "metadata": {
        "id": "I57NXsauCec2",
        "colab": {
          "base_uri": "https://localhost:8080/"
        },
        "outputId": "d15e59e7-1cd0-4338-86a1-03bab7c29ec0"
      },
      "outputs": [
        {
          "output_type": "stream",
          "name": "stdout",
          "text": [
            "Enter a list of space seperated elements: 1 2 3 4 5\n",
            "The sum of the elements in the entered list is:  15\n"
          ]
        }
      ],
      "source": [
        "# write your answer here\n",
        "# Get user input for a list of numbers\n",
        "numbers = input(\"Enter a list of space seperated elements: \")\n",
        "\n",
        "# to Convert the input string to a list of integers\n",
        "# split() is used to detect the space seperated values as seperate inputs\n",
        "elements = [int(num) for num in numbers.split()]\n",
        "\n",
        "# for sum of all elements in the list\n",
        "sumOfElements = sum(elements)\n",
        "\n",
        "# Display the result\n",
        "print(f\"The sum of the elements in the entered list is: \", sumOfElements)\n"
      ]
    },
    {
      "cell_type": "markdown",
      "metadata": {
        "id": "4ulBZ6yhCi9F"
      },
      "source": [
        "(6) Write a Python program that modifies a given string by replacing all occurrences of its first character with '$', excluding the first character itself.\n",
        "\n",
        "\n",
        "Sample String : 'restart‘,\n",
        "\n",
        "Expected Result : 'resta\\$t'"
      ]
    },
    {
      "cell_type": "code",
      "execution_count": 58,
      "metadata": {
        "id": "Fj0XhwbBCw2o",
        "colab": {
          "base_uri": "https://localhost:8080/"
        },
        "outputId": "d66ce4d9-cb9a-48b4-d33f-236cbb03cf4e"
      },
      "outputs": [
        {
          "output_type": "stream",
          "name": "stdout",
          "text": [
            "Enter a string: antartica\n",
            "Modified String: ant$rtic$\n"
          ]
        }
      ],
      "source": [
        "# write your answer here\n",
        "#the element in index 0 is taken as first char and is replaced with 0 wherever detected using replace() function\n",
        "def modify_string(str):\n",
        "    if len(str) < 2:\n",
        "        return str\n",
        "\n",
        "    first_char = str[0]\n",
        "    modified_string = first_char + str[1:].replace(first_char, '$')\n",
        "\n",
        "    return modified_string\n",
        "\n",
        "# Get user input for the string\n",
        "str1 = input(\"Enter a string: \")\n",
        "result = modify_string(str1)\n",
        "\n",
        "print(f\"Modified String: {result}\")\n",
        "\n"
      ]
    },
    {
      "cell_type": "markdown",
      "source": [
        "(7) Write a Python program using a while loop to compute the factorial of a user-supplied number."
      ],
      "metadata": {
        "id": "qVXA3q7ET5JI"
      }
    },
    {
      "cell_type": "code",
      "source": [
        "# write your answer here\n",
        "# Get user input for the number\n",
        "number = int(input(\"Enter a number: \"))\n",
        "\n",
        "# Initialize fact and\n",
        "fact = 1\n",
        "index = 1\n",
        "\n",
        "# Calculate factorial using a while loop\n",
        "# the loop runs until the index is more that the input number\n",
        "# in each iteration the fact value is updated by multiplying with index and then index is incremented by 1\n",
        "while index <= number:\n",
        "    fact *= index\n",
        "    index += 1\n",
        "\n",
        "print(f\"The factorial of {number} is:\",fact)\n"
      ],
      "metadata": {
        "id": "Lbt7R6UkT7BA",
        "colab": {
          "base_uri": "https://localhost:8080/"
        },
        "outputId": "952046e7-ea0c-4da0-c133-30ea50572d9d"
      },
      "execution_count": 59,
      "outputs": [
        {
          "output_type": "stream",
          "name": "stdout",
          "text": [
            "Enter a number: 5\n",
            "The factorial of 5 is: 120\n"
          ]
        }
      ]
    },
    {
      "cell_type": "markdown",
      "source": [
        "(8) Create a program that accepts a list of numbers as input and outputs a new list containing only the even numbers."
      ],
      "metadata": {
        "id": "6YfbzXMNT--R"
      }
    },
    {
      "cell_type": "code",
      "source": [
        "# write your answer here\n",
        "# Get user input for a list of numbers separated by spaces\n",
        "numbers_list = input(\"Enter a list of space seperated numbers: \")\n",
        "\n",
        "# Convert the input string to a list of integers\n",
        "numbers = [int(num) for num in numbers_list.split()]\n",
        "\n",
        "# Initialize an empty list for even numbers\n",
        "evenNumbers = []\n",
        "\n",
        "# Use a while loop to iterate through the numbers and add even numbers to the new list\n",
        "# loop iterates until the index equals the length of list and is incremented by 1 in each iteration\n",
        "index = 0\n",
        "while index < len(numbers):\n",
        "    if numbers[index] % 2 == 0:\n",
        "        evenNumbers.append(numbers[index])\n",
        "    index += 1\n",
        "\n",
        "print(\"List of Even Numbers from given input:\", evenNumbers)\n"
      ],
      "metadata": {
        "id": "54q7wMQPUAKu",
        "colab": {
          "base_uri": "https://localhost:8080/"
        },
        "outputId": "b279f54b-0f05-4341-b068-b475cb7550c7"
      },
      "execution_count": 60,
      "outputs": [
        {
          "output_type": "stream",
          "name": "stdout",
          "text": [
            "Enter a list of space seperated numbers: 1 2 3 6 8 9 10 12 14 15\n",
            "List of Even Numbers from given input: [2, 6, 8, 10, 12, 14]\n"
          ]
        }
      ]
    },
    {
      "cell_type": "markdown",
      "metadata": {
        "id": "_bIP7s1MCzue"
      },
      "source": [
        "\n",
        "(9) Design a Python function to check if a number is prime.\n"
      ]
    },
    {
      "cell_type": "code",
      "execution_count": 61,
      "metadata": {
        "id": "w79QilHXD3Mg",
        "colab": {
          "base_uri": "https://localhost:8080/"
        },
        "outputId": "83e493cf-5db6-49d9-dfba-bc7bc848c805"
      },
      "outputs": [
        {
          "output_type": "stream",
          "name": "stdout",
          "text": [
            "Enter a number: 5\n",
            "5 is a prime number.\n"
          ]
        }
      ],
      "source": [
        "# write your answer here\n",
        "def prime_or_not(number):\n",
        "\n",
        "    if number < 2:\n",
        "        return False\n",
        "    for i in range(2, int(number**0.5) + 1):\n",
        "        if number % i == 0:\n",
        "            return False\n",
        "    return True\n",
        "\n",
        "# take number input\n",
        "number = int(input(\"Enter a number: \"))\n",
        "result = prime_or_not(number)\n",
        "\n",
        "if result:\n",
        "    print(f\"{number} is a prime number.\")\n",
        "else:\n",
        "    print(f\"{number} is not a prime number.\")\n"
      ]
    },
    {
      "cell_type": "markdown",
      "metadata": {
        "id": "xCa2bK9aD4Q3"
      },
      "source": [
        "(10) Write a Python program to concatenate following dictionaries to create a new one.\n",
        "\n",
        "Sample Dictionary : dic1={1:10, 2:20}, dic2={3:30, 4:40}, dic3={5:50,6:60},\n",
        "\n",
        "Expected Result : {1: 10, 2: 20, 3: 30, 4: 40, 5: 50, 6: 60}\n"
      ]
    },
    {
      "cell_type": "code",
      "execution_count": 62,
      "metadata": {
        "id": "_z4aLqAbEET1",
        "colab": {
          "base_uri": "https://localhost:8080/"
        },
        "outputId": "0c4bd170-8822-4c72-ace5-48a23560c23b"
      },
      "outputs": [
        {
          "output_type": "stream",
          "name": "stdout",
          "text": [
            "Enter the first dictionary : {1:10}\n",
            "Enter the second dictionary: {3:30}\n",
            "New Dictionary: {1: 10, 3: 30}\n"
          ]
        }
      ],
      "source": [
        "# write your answer here\n",
        "# Get user input for the dictionaries\n",
        "dic1_input = input(\"Enter the first dictionary : \")\n",
        "dic2_input = input(\"Enter the second dictionary: \")\n",
        "\n",
        "\n",
        "# Convert input strings to dictionaries using eval() built-in function\n",
        "dic1 = eval(dic1_input)\n",
        "dic2 = eval(dic2_input)\n",
        "\n",
        "\n",
        "# Concatenate dictionaries to create a new one\n",
        "new_dic = {}\n",
        "for d in [dic1, dic2]:\n",
        "    new_dic.update(d)\n",
        "\n",
        "# Display the result\n",
        "print(\"New Dictionary:\", new_dic)\n"
      ]
    },
    {
      "cell_type": "markdown",
      "source": [
        "(11) Design a Python function that takes a tuple of integers as input and returns the largest and smallest elements."
      ],
      "metadata": {
        "id": "bkyZ2xSZUOst"
      }
    },
    {
      "cell_type": "code",
      "source": [
        "# write your answer here\n",
        "def max_and_min(numbers):\n",
        "    if not numbers:\n",
        "        return None\n",
        "# Initializing variables for the maximum and minimum values with first input of tuple\n",
        "    max = min = numbers[0]\n",
        "\n",
        "    # Iterate through the elements of the tuple\n",
        "    for num in numbers:\n",
        "        # Update max if the current number is greater\n",
        "        if num > max:\n",
        "            max = num\n",
        "        # Update min if the current number is smaller\n",
        "        elif num < min:\n",
        "            min = num\n",
        "\n",
        "    return max, min\n",
        "\n",
        "input_tuple = tuple(map(int, input(\"Enter a tuple of integers separated by spaces: \").split()))\n",
        "result = max_and_min(input_tuple)\n",
        "\n",
        "print(f\"Largest Element: {result[0]}\")\n",
        "print(f\"Smallest Element: {result[1]}\")\n"
      ],
      "metadata": {
        "id": "3FdLRBKOUQEd",
        "colab": {
          "base_uri": "https://localhost:8080/"
        },
        "outputId": "661fff56-bd08-48e6-9abb-645267c7e911"
      },
      "execution_count": 63,
      "outputs": [
        {
          "output_type": "stream",
          "name": "stdout",
          "text": [
            "Enter a tuple of integers separated by spaces: 25 44 13 56 4\n",
            "Largest Element: 56\n",
            "Smallest Element: 4\n"
          ]
        }
      ]
    },
    {
      "cell_type": "markdown",
      "source": [
        "(12) Write a Python program that counts the frequency of each character in a given string and stores it in a dictionary."
      ],
      "metadata": {
        "id": "O0TVi3gKUTpp"
      }
    },
    {
      "cell_type": "code",
      "source": [
        "# write your answer here\n",
        "def get_frequency(str):\n",
        "    # Initializing an empty dictionary to store character frequencies\n",
        "    char_frequency = {}\n",
        "\n",
        "    # Iterate through each character in the string\n",
        "    for char in str:\n",
        "        # Increment the count for the current character in the dictionary\n",
        "        char_frequency[char] = char_frequency.get(char, 0) + 1\n",
        "\n",
        "    return char_frequency\n",
        "\n",
        "# Example usage\n",
        "str1 = input(\"Enter a string: \")\n",
        "result = get_frequency(str1)\n",
        "\n",
        "print(\"Character Frequencies:\")\n",
        "for char, count in result.items():\n",
        "    print(f\"{char}: {count}\")\n"
      ],
      "metadata": {
        "id": "lAtfSfZXUU-h",
        "colab": {
          "base_uri": "https://localhost:8080/"
        },
        "outputId": "ff51b242-3437-4100-fa7f-af643ad77235"
      },
      "execution_count": 64,
      "outputs": [
        {
          "output_type": "stream",
          "name": "stdout",
          "text": [
            "Enter a string: information\n",
            "Character Frequencies:\n",
            "i: 2\n",
            "n: 2\n",
            "f: 1\n",
            "o: 2\n",
            "r: 1\n",
            "m: 1\n",
            "a: 1\n",
            "t: 1\n"
          ]
        }
      ]
    },
    {
      "cell_type": "markdown",
      "metadata": {
        "id": "0v48Vqa7FrQh"
      },
      "source": [
        "(13) Implement a Python script to identify duplicate elements in a provided array of integers. Return -1 if there are no duplicates."
      ]
    },
    {
      "cell_type": "code",
      "execution_count": 65,
      "metadata": {
        "id": "7WEmgq-DF2P1",
        "colab": {
          "base_uri": "https://localhost:8080/"
        },
        "outputId": "8d2db62b-62a6-44b9-fdb5-24e158a0b18c"
      },
      "outputs": [
        {
          "output_type": "stream",
          "name": "stdout",
          "text": [
            "Enter an array of integers separated by spaces: 1 25 5 4 14 25 3 4 1\n",
            "Duplicate elements: [25, 4, 1]\n"
          ]
        }
      ],
      "source": [
        "# write your answer here\n",
        "def duplicates(arr):\n",
        "\n",
        "    seen = set()\n",
        "    duplicates = set()\n",
        "\n",
        "    for num in arr:\n",
        "        if num in seen:\n",
        "            duplicates.add(num)\n",
        "        else:\n",
        "            seen.add(num)\n",
        "\n",
        "    if not duplicates:\n",
        "        return -1\n",
        "    else:\n",
        "        return list(duplicates)\n",
        "\n",
        "str = input(\"Enter an array of integers separated by spaces: \")\n",
        "input_array = list(map(int, str.split()))\n",
        "result = duplicates(input_array)\n",
        "\n",
        "if result == -1:\n",
        "    print(\"No duplicates found.\")\n",
        "else:\n",
        "    print(\"Duplicate elements:\", result)\n"
      ]
    },
    {
      "cell_type": "markdown",
      "metadata": {
        "id": "vD5PYLMuGga_"
      },
      "source": [
        "(14) Write a Python script to find the common elements between two lists."
      ]
    },
    {
      "cell_type": "code",
      "execution_count": 66,
      "metadata": {
        "id": "t0D5kdJUGjjw",
        "colab": {
          "base_uri": "https://localhost:8080/"
        },
        "outputId": "ad1ee7f9-60f0-4a3d-dbef-c61306d436cc"
      },
      "outputs": [
        {
          "output_type": "stream",
          "name": "stdout",
          "text": [
            "Enter the first list of elements: 1 2 3 4 5\n",
            "Enter the second list of elements: 2 5 6\n",
            "Common elements: ['5', '2']\n"
          ]
        }
      ],
      "source": [
        "# write your answer here\n",
        "def common_elements(list1, list2):\n",
        "   # to Convert each input list into a set to remove duplicates\n",
        "   #the & operator to get the common terms of the two sets\n",
        "    return list(set(list1) & set(list2))\n",
        "\n",
        "# Example usage\n",
        "list1 = input(\"Enter the first list of elements: \").split()\n",
        "list2 = input(\"Enter the second list of elements: \").split()\n",
        "\n",
        "common_elements = common_elements(list1, list2)\n",
        "\n",
        "if common_elements:\n",
        "    print(\"Common elements:\", common_elements)\n",
        "else:\n",
        "    print(\"No common elements found.\")\n"
      ]
    },
    {
      "cell_type": "markdown",
      "metadata": {
        "id": "uHkd-y5VhVWC"
      },
      "source": [
        "(15) Write a Python program to randomly divide the students in this class into six groups for term projects, each group should have at least 4 students but no more than 6 students (including 6).\n",
        "\n",
        "Here is the students list:\n",
        "\n",
        "student_list_spring_2024=[rb0846,\n",
        "ac1964,\n",
        "hc0612,\n",
        "md0912,\n",
        "ad1198,\n",
        "md0894,\n",
        "md0825,\n",
        "vg0598,\n",
        "vg0433,\n",
        "mh1068,\n",
        "yj0173,\n",
        "pk0553,\n",
        "tk0411,\n",
        "srk0204,\n",
        "sk2922,\n",
        "sk2936,\n",
        "mk1302,\n",
        "mk1317,\n",
        "tk0412,\n",
        "vk0656,\n",
        "sm2985,\n",
        "mm2372,\n",
        "un0045,\n",
        "an0892,\n",
        "sn0913,\n",
        "gp0252,\n",
        "ap1484,\n",
        "mr1765,\n",
        "sr1385,\n",
        "sr1335,\n",
        "hs0665,\n",
        "ms2060,\n",
        "gt0217,\n",
        "nt0385,\n",
        "tv0186,\n",
        "sv1394,\n",
        "sv1752,\n",
        "sv1555,\n",
        "sy0594\n",
        "]\n"
      ]
    },
    {
      "cell_type": "code",
      "execution_count": 67,
      "metadata": {
        "id": "3iGbmcOBhTwy",
        "colab": {
          "base_uri": "https://localhost:8080/"
        },
        "outputId": "6cad616a-d035-4c50-f4a8-0d937c433c5f"
      },
      "outputs": [
        {
          "output_type": "stream",
          "name": "stdout",
          "text": [
            "Group 1: md0912, gp0252, tk0411, sv1752, sk2936\n",
            "Group 2: tv0186, nt0385, md0825, sv1394, sk2922, sr1335\n",
            "Group 3: sm2985, ap1484, vg0433, sr1385, ms2060\n",
            "Group 4: sn0913, rb0846, sy0594, mk1302\n",
            "Group 5: an0892, hs0665, vk0656, srk0204\n",
            "Group 6: mh1068, tk0412, mr1765, md0894, ad1198\n",
            "Group 7: yj0173, mm2372, hc0612, vg0598\n",
            "Group 8: pk0553, un0045, ac1964, mk1317, gt0217\n",
            "Group 9: sv1555\n"
          ]
        }
      ],
      "source": [
        "# write your answer here\n",
        "import random\n",
        "\n",
        "def divide_to_groups(student_list, min_size, max_size):\n",
        "\n",
        "    # Shuffle the student list randomly\n",
        "    random.shuffle(student_list)\n",
        "\n",
        "    # Initialize an empty list to store groups\n",
        "    groups = []\n",
        "\n",
        "    # Iterate over the shuffled list and create groups\n",
        "    while student_list:\n",
        "        # Determine the group size for the current iteration\n",
        "        group_size = random.randint(min_size, max_size)\n",
        "\n",
        "        # Pop students from the list to form a group\n",
        "        group = [student_list.pop() for _ in range(min(group_size, len(student_list)))]\n",
        "\n",
        "        # Append the group to the list of groups\n",
        "        groups.append(group)\n",
        "\n",
        "    return groups\n",
        "\n",
        "# Student list for spring 2024\n",
        "student_list_spring_2024 = [\"rb0846\", \"ac1964\", \"hc0612\", \"md0912\", \"ad1198\", \"md0894\", \"md0825\", \"vg0598\", \"vg0433\",\n",
        "                             \"mh1068\", \"yj0173\", \"pk0553\", \"tk0411\", \"srk0204\", \"sk2922\", \"sk2936\", \"mk1302\", \"mk1317\",\n",
        "                             \"tk0412\", \"vk0656\", \"sm2985\", \"mm2372\", \"un0045\", \"an0892\", \"sn0913\", \"gp0252\", \"ap1484\",\n",
        "                             \"mr1765\", \"sr1385\", \"sr1335\", \"hs0665\", \"ms2060\", \"gt0217\", \"nt0385\", \"tv0186\", \"sv1394\",\n",
        "                             \"sv1752\", \"sv1555\", \"sy0594\"]\n",
        "\n",
        "# Set the minimum and maximum group sizes\n",
        "min_size = 4\n",
        "max_size = 6\n",
        "\n",
        "# Call the function to divide students into groups\n",
        "result_groups = divide_to_groups(student_list_spring_2024, min_size, max_size)\n",
        "\n",
        "# Display the result\n",
        "for i, group in enumerate(result_groups, start=1):\n",
        "    print(f\"Group {i}: {', '.join(group)}\")\n"
      ]
    },
    {
      "cell_type": "markdown",
      "metadata": {
        "id": "fmZ9vX20Qs3d"
      },
      "source": [
        "(16) Create a program that takes a positive integer 'n' as input and prints the count of even numbers from 1 to 'n'. Optimize the loop using the break statement."
      ]
    },
    {
      "cell_type": "code",
      "execution_count": 68,
      "metadata": {
        "id": "W8Jw6sWMQs3d",
        "colab": {
          "base_uri": "https://localhost:8080/"
        },
        "outputId": "ad6f007b-2990-4e04-dcb6-fb68496d550f"
      },
      "outputs": [
        {
          "output_type": "stream",
          "name": "stdout",
          "text": [
            "Enter a positive integer: 10\n",
            "The count of even numbers from 1 to 10 is: 5\n"
          ]
        }
      ],
      "source": [
        "# write your answer here\n",
        "def count_even_numbers(n):\n",
        "    count = 0\n",
        "\n",
        "    for i in range(1, n + 1):\n",
        "        if i % 2 == 0:\n",
        "            count += 1\n",
        "        elif i > n:\n",
        "           # Optimize the loop using the break statement\n",
        "            break\n",
        "\n",
        "    return count\n",
        "\n",
        "# Get user input for the positive integer 'n'\n",
        "number = int(input(\"Enter a positive integer: \"))\n",
        "\n",
        "# Call the function and display the result\n",
        "result = count_even_numbers(number)\n",
        "print(f\"The count of even numbers from 1 to {number} is: {result}\")\n"
      ]
    },
    {
      "cell_type": "markdown",
      "metadata": {
        "id": "hvq4APMhQs3d"
      },
      "source": [
        "(17) Develop a Python function called 'count_vowels' that takes a string as input and returns the count of vowels (both lowercase and uppercase) present in the string, ignoring spaces and non-alphabetic characters."
      ]
    },
    {
      "cell_type": "code",
      "execution_count": 69,
      "metadata": {
        "id": "ZnoxhSglQs3d",
        "colab": {
          "base_uri": "https://localhost:8080/"
        },
        "outputId": "b8a39650-d076-4f3c-c320-9cc85c1e00c4"
      },
      "outputs": [
        {
          "output_type": "stream",
          "name": "stdout",
          "text": [
            "Enter a string: bahgf8 jhfq2\n",
            "The count of vowels in the string is: 1\n"
          ]
        }
      ],
      "source": [
        "# write your answer here\n",
        "def count_vowels(str):\n",
        "    vowels = \"aeiouAEIOU\"\n",
        "    count = 0\n",
        "# checks that the charecter is alphabel and belongs from the defined variable 'vowel'\n",
        "    for char in str:\n",
        "        if char.isalpha() and char in vowels:\n",
        "            count += 1\n",
        "\n",
        "    return count\n",
        "\n",
        "# Example usage\n",
        "user_input = input(\"Enter a string: \")\n",
        "result = count_vowels(user_input)\n",
        "\n",
        "print(f\"The count of vowels in the string is: {result}\")\n"
      ]
    },
    {
      "cell_type": "markdown",
      "source": [
        "\\\\(18) Create a custom exception named ValueTooSmallError in Python. Write a program that takes user input for an age, and if the entered age is less than 18, raise the ValueTooSmallError with an appropriate error message."
      ],
      "metadata": {
        "id": "55FWoSJPVVM6"
      }
    },
    {
      "cell_type": "code",
      "source": [
        "# write your answer here\n",
        "class ValueTooSmallError(Exception):\n",
        "\n",
        "    def __init__(self, message=\"Value too small.\"):\n",
        "        self.message = message\n",
        "        super().__init__(self.message)\n",
        "\n",
        "def user_age():\n",
        "    try:\n",
        "        age = int(input(\"Enter your age: \"))\n",
        "       # Check if the entered age is less than 18\n",
        "        if age < 18:\n",
        "            raise ValueTooSmallError(\"Age must be 18 or older.\")\n",
        "        return age\n",
        "    except ValueError:\n",
        "              # If a ValueError occurs (e.g., invalid input), raise ValueTooSmallError with an error message\n",
        "        raise ValueTooSmallError(\"Invalid input. Please enter a valid age.\")\n",
        "\n",
        "try:\n",
        "    user_age = user_age()\n",
        "    print(f\"Entered age: {user_age}\")\n",
        "except ValueTooSmallError as error:\n",
        "    print(f\"Error: {error}\")\n"
      ],
      "metadata": {
        "id": "hwtr1wZmVX5A",
        "colab": {
          "base_uri": "https://localhost:8080/"
        },
        "outputId": "42c6a614-1e95-402d-f58c-812ceddea120"
      },
      "execution_count": 70,
      "outputs": [
        {
          "output_type": "stream",
          "name": "stdout",
          "text": [
            "Enter your age: 17\n",
            "Error: Age must be 18 or older.\n"
          ]
        }
      ]
    },
    {
      "cell_type": "markdown",
      "source": [
        "(19) Develop a script that reverses a given string without using built-in reverse functions."
      ],
      "metadata": {
        "id": "Q9ecagcaVazW"
      }
    },
    {
      "cell_type": "code",
      "source": [
        "# write your answer here\n",
        "def rev_string(input_string):\n",
        "\n",
        "    # Initialize an empty string to store the reversed characters\n",
        "    rev_string = \"\"\n",
        "\n",
        "    # loop goes on for all the characters of the input string in reverse order\n",
        "    for char in input_string[::-1]:\n",
        "        # Append each character to the reversed_string\n",
        "        rev_string += char\n",
        "\n",
        "    return rev_string\n",
        "\n",
        "# Example usage\n",
        "str2 = input(\"Enter a string: \")\n",
        "result = rev_string(str2)\n",
        "\n",
        "print(f\"Reversed string: {result}\")\n"
      ],
      "metadata": {
        "id": "gycgckoAVZjR",
        "colab": {
          "base_uri": "https://localhost:8080/"
        },
        "outputId": "9d4af672-b684-42fe-cc14-d42cb8aac270"
      },
      "execution_count": 71,
      "outputs": [
        {
          "output_type": "stream",
          "name": "stdout",
          "text": [
            "Enter a string: nikhila\n",
            "Reversed string: alihkin\n"
          ]
        }
      ]
    },
    {
      "cell_type": "markdown",
      "source": [
        "(20) Implement a Python script to generate a random password of a specified length."
      ],
      "metadata": {
        "id": "ZFG6RibifMLu"
      }
    },
    {
      "cell_type": "code",
      "source": [
        "# write your answer here\n",
        "import secrets\n",
        "import string\n",
        "\n",
        "def generate_password(length):\n",
        "\n",
        "    # Define the characters to be used in the password\n",
        "    characters = string.ascii_letters + string.digits\n",
        "\n",
        "    # Use secrets.choice to randomly select characters from the defined set\n",
        "    password = ''.join(secrets.choice(characters) for _ in range(length))\n",
        "\n",
        "    return password\n",
        "\n",
        "# Example usage\n",
        "pass_len = int(input(\"Enter the desired password length: \"))\n",
        "random_password = generate_password(pass_len)\n",
        "\n",
        "print(f\"Generated password: {random_password}\")\n"
      ],
      "metadata": {
        "id": "BFVrkEi9fNiD",
        "colab": {
          "base_uri": "https://localhost:8080/"
        },
        "outputId": "5e65f875-3af6-4cce-b461-7907046d2f6a"
      },
      "execution_count": 72,
      "outputs": [
        {
          "output_type": "stream",
          "name": "stdout",
          "text": [
            "Enter the desired password length: 10\n",
            "Generated password: xUU0voe3fA\n"
          ]
        }
      ]
    },
    {
      "cell_type": "markdown",
      "source": [
        "# Try these questions:"
      ],
      "metadata": {
        "id": "6SmvS7nSfbj8"
      }
    },
    {
      "cell_type": "markdown",
      "source": [
        "(21) Define a base class called 'Vehicle' with attributes make and model. Create a derived class Car that inherits from Vehicle and has an additional attribute 'num_doors'. Demonstrate an example of creating an instance of the 'Car' class and accessing its attributes."
      ],
      "metadata": {
        "id": "cboAr5pEWUf5"
      }
    },
    {
      "cell_type": "code",
      "source": [
        "# write your answer here\n"
      ],
      "metadata": {
        "id": "phs9gciMWWAW"
      },
      "execution_count": null,
      "outputs": []
    },
    {
      "cell_type": "markdown",
      "source": [
        "(22) Create a class called 'Shape' with a method calculate_area(). Implement two derived classes 'Circle' and 'Rectangle' that inherit from Shape and override the calculate_area() method. Demonstrate polymorphism by creating instances of both derived classes and calling the calculate_area() method."
      ],
      "metadata": {
        "id": "J8HHefNtePwd"
      }
    },
    {
      "cell_type": "code",
      "source": [
        "# write your answer here"
      ],
      "metadata": {
        "id": "btnMmUZDeRhS"
      },
      "execution_count": null,
      "outputs": []
    },
    {
      "cell_type": "markdown",
      "source": [
        "(23) Write a Python program that prompts the user to enter two numbers and perform a division operation. Handle exceptions for both zero division and invalid input (non-numeric input). Display appropriate error messages for each type of exception and ensure the program does not crash due to these errors."
      ],
      "metadata": {
        "id": "z0oqEAlTeMUS"
      }
    },
    {
      "cell_type": "code",
      "source": [
        "# write your answer here"
      ],
      "metadata": {
        "id": "yjdc1zM1eMAs"
      },
      "execution_count": null,
      "outputs": []
    },
    {
      "cell_type": "markdown",
      "source": [
        "# Mandatory Question"
      ],
      "metadata": {
        "id": "sZOhks1dXWEe"
      }
    },
    {
      "cell_type": "markdown",
      "source": [
        "**Important:**\n",
        "Reflecting on the first three lectures and the exercises you've completed, please provide feedback on your learning experience. Share your thoughts on whether the material covered was clear, the exercises were helpful, and if you feel more confident in applying Python programming concepts. Additionally, mention any specific areas where you would like more clarification or topics you would like to explore further in future lectures. Your feedback is valuable in shaping the course for an effective learning journey."
      ],
      "metadata": {
        "id": "eqmHVEwaWhbV"
      }
    },
    {
      "cell_type": "markdown",
      "source": [
        "Write your response here."
      ],
      "metadata": {
        "id": "HlpXOT9wXQAd"
      }
    },
    {
      "cell_type": "code",
      "source": [
        "#i have not been able to attend the first two classes as i was out of country and this week was my first in person#.\n",
        "#I enjoyed the agenda and how it went. Starting from basics and presenting each of the conepts with examples and\n",
        "#a discussion really made it easy and intersting in understanding python. I would definitely like to explore more\n",
        "#in the topic of funtions and need more clarification in packages."
      ],
      "metadata": {
        "id": "Dq2aOZU7XIke"
      },
      "execution_count": 52,
      "outputs": []
    }
  ],
  "metadata": {
    "colab": {
      "provenance": [],
      "include_colab_link": true
    },
    "kernelspec": {
      "display_name": "Python 3 (ipykernel)",
      "language": "python",
      "name": "python3"
    },
    "language_info": {
      "codemirror_mode": {
        "name": "ipython",
        "version": 3
      },
      "file_extension": ".py",
      "mimetype": "text/x-python",
      "name": "python",
      "nbconvert_exporter": "python",
      "pygments_lexer": "ipython3",
      "version": "3.9.12"
    }
  },
  "nbformat": 4,
  "nbformat_minor": 0
}