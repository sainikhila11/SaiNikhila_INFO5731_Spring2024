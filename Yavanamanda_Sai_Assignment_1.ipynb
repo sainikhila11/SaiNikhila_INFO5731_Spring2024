{
  "cells": [
    {
      "cell_type": "markdown",
      "metadata": {
        "id": "view-in-github",
        "colab_type": "text"
      },
      "source": [
        "<a href=\"https://colab.research.google.com/github/sainikhila11/SaiNikhila_INFO5731_Spring2024/blob/main/Yavanamanda_Sai_Assignment_1.ipynb\" target=\"_parent\"><img src=\"https://colab.research.google.com/assets/colab-badge.svg\" alt=\"Open In Colab\"/></a>"
      ]
    },
    {
      "cell_type": "markdown",
      "metadata": {
        "id": "Ryk8D1Q4Wsrp"
      },
      "source": [
        "# **INFO5731 Assignment One**"
      ]
    },
    {
      "cell_type": "markdown",
      "metadata": {
        "id": "qcP6re2g5A5r"
      },
      "source": [
        "This assignment includes range of programming tasks and data analysis exercises, aiming to enhance your Python skills and proficiency in string manipulation, numerical computations, and data science. Follow the instructions carefully and design well-structured Python programs to address each question.\n",
        "\n",
        "Late Submission will have a penalty of 10% reduction for each day after the deadline."
      ]
    },
    {
      "cell_type": "markdown",
      "metadata": {
        "id": "JkzR8cFAyGik"
      },
      "source": [
        "# Question 1 (10 points).\n",
        "\n",
        "The formula that describes the volume V of a hemisphere with radius r is the following:\n",
        "\n",
        "$ V=\\frac{2}{3}\\ast\\ \\pi\\ast\\ r^3 $\n",
        "\n",
        "Write a program to calculate the value of V when r is in the range of even numbers from 1-20. Output the result in the following format:\n",
        "\n",
        "\tr\tV\n",
        "\t2\t…\n",
        "\t4\t…\n",
        "\t6\t…\n",
        "\t.\n",
        "\t.\n",
        "\t.\n",
        "\t20\t…\n"
      ]
    },
    {
      "cell_type": "code",
      "execution_count": 1,
      "metadata": {
        "colab": {
          "base_uri": "https://localhost:8080/"
        },
        "id": "jDyTKYs-yGit",
        "outputId": "8ff1e4af-718f-4365-d726-35f234cc7ab9"
      },
      "outputs": [
        {
          "output_type": "stream",
          "name": "stdout",
          "text": [
            "r   V\n",
            "2   16.8\n",
            "4   134.0\n",
            "6   452.4\n",
            "8   1072.3\n",
            "10   2094.4\n",
            "12   3619.1\n",
            "14   5747.0\n",
            "16   8578.6\n",
            "18   12214.5\n",
            "20   16755.1\n"
          ]
        }
      ],
      "source": [
        "# to print headers\n",
        "print(\"r   V\")\n",
        "\n",
        "# to calculate and print volume for even values of 'r' in the range of 1 to 20\n",
        "for r in (2, 4, 6, 8, 10, 12, 14, 16, 18, 20):\n",
        "    v = (2/3) * 3.14159 * r**3\n",
        "    print(f\"{r}   {v:.1f}\")\n",
        "\n"
      ]
    },
    {
      "cell_type": "markdown",
      "metadata": {
        "id": "90_NR8c5XGWc"
      },
      "source": [
        "# Question 2 (20 points)\n",
        "\n",
        "(a) Write a Python program to generate a sequence of 12 random numbers falling within the range of 50 to 150.\n",
        "\n",
        "(b) Arrange the generated numbers in ascending order. Display the sorted list.\n",
        "\n",
        "(c) Extend the program to arrange the numbers in descending order as well. Present the sorted list accordingly.\n",
        "\n",
        "(d) Compute and output the average of the entire group of generated numbers.\n",
        "\n",
        "(e) Enhance the program to calculate and display the average of the first 6 numbers from both the ascending and descending sorted lists."
      ]
    },
    {
      "cell_type": "code",
      "execution_count": 2,
      "metadata": {
        "colab": {
          "base_uri": "https://localhost:8080/"
        },
        "id": "5QX6bJjGWXY9",
        "outputId": "cf60e789-cefe-4d21-f2fa-245c53d1ad46"
      },
      "outputs": [
        {
          "output_type": "stream",
          "name": "stdout",
          "text": [
            "(a) Randomly generated numbers: [131, 101, 55, 109, 60, 80, 66, 75, 85, 76, 83, 113]\n",
            "(b) Randomly generated numbers in ascending order: [55, 60, 66, 75, 76, 80, 83, 85, 101, 109, 113, 131]\n",
            "(c) Randomly generated numbers in descending order: [131, 113, 109, 101, 85, 83, 80, 76, 75, 66, 60, 55]\n",
            "(d) Average of randomly generated Numbers: 86.17\n",
            "(e) Average of First 6 Numbers (Ascending): 68.67\n",
            "(e) Average of First 6 Numbers (Descending): 103.67\n"
          ]
        }
      ],
      "source": [
        "# Write code for each of the sub parts with proper comments.\n",
        "import random\n",
        "\n",
        "# (a) Generates a sequence of 12 random numbers within the range of 50 to 150 using 'randint'(random integer) funtion imported from 'random' module\n",
        "rand_numbers = [random.randint(50, 150) for _ in range(12)]\n",
        "print(\"(a) Randomly generated numbers:\", rand_numbers)\n",
        "\n",
        "# (b) Arrange the numbers in ascending order and display the sorted list using sorted funtion\n",
        "rand_numbers_asc = sorted(rand_numbers)\n",
        "print(\"(b) Randomly generated numbers in ascending order:\", rand_numbers_asc)\n",
        "\n",
        "# (c) Arrange the numbers in descending order and display the sorted list by reversing the ascending list\n",
        "rand_numbers_dsc = sorted(rand_numbers, reverse=True)\n",
        "print(\"(c) Randomly generated numbers in descending order:\", rand_numbers_dsc)\n",
        "\n",
        "\n",
        "# (d) Using sum funtion to add all generated numbers and divide by 12 to get the average\n",
        "avg_rand_numbers = sum(rand_numbers) / 12\n",
        "print(f\"(d) Average of randomly generated Numbers: {avg_rand_numbers:.2f}\")\n",
        "\n",
        "# (e) the first 6 integers of both lists are picked and added using sum function and divided by 6 to get the average\n",
        "avg_first_6_asc = sum(rand_numbers_asc[:6]) / 6\n",
        "avg_first_6_dsc = sum(rand_numbers_dsc[:6]) / 6\n",
        "print(f\"(e) Average of First 6 Numbers (Ascending): {avg_first_6_asc:.2f}\")\n",
        "print(f\"(e) Average of First 6 Numbers (Descending): {avg_first_6_dsc:.2f}\")\n",
        "\n"
      ]
    },
    {
      "cell_type": "markdown",
      "metadata": {
        "id": "1F_PZdH9Sh49"
      },
      "source": [
        "# Question 3 (20 points).\n",
        "\n",
        "Create a Python program that encompasses various string manipulation task:\n",
        "\n",
        "(a) Prompt the user to input two sentences.\n",
        "\n",
        "(b) Transform each sentence into a list, where each element corresponds to a word in the sentence. For example, if the sentences are \"Hello, how are you doing today?\" and \"This is an example sentence for the program!\"\n",
        "\n",
        "The program should output:\n",
        "['Hello', ',', 'how', 'are', 'you', 'doing', 'today', '?', 'This', 'is', 'an', 'example', 'sentence', 'for', 'the', 'program', '!']\n",
        "\n",
        "(c) Compare the two sentences. Print out a list of words that occur in both sentences.\n",
        "\n",
        "(d) Remove any punctuation from the sentence and print the sanitized sentences. It should remove at least the following characters, but it can remove more: period(“.”), comma (“,”), semicolon (“;”), and colon (“:”).\n",
        "\n",
        "(e) Count the number of vowels in each of the sentences. Print out each vowel and the occurrences  in the each of the two sentences separately, such as:\n",
        "\n",
        "Sentence1: a:2, e:2, i:0, etc.\n",
        "Sentence2: a:1, e:2, i:2, etc.\n",
        "\n",
        "Design a well-structured Python program to execute these tasks efficiently."
      ]
    },
    {
      "cell_type": "code",
      "execution_count": 4,
      "metadata": {
        "colab": {
          "base_uri": "https://localhost:8080/"
        },
        "id": "Y0oOSlsOS0cq",
        "outputId": "75ace7bf-4919-4f70-ef5f-9a5891aad485"
      },
      "outputs": [
        {
          "output_type": "stream",
          "name": "stdout",
          "text": [
            "(a) Enter the first sentence: Hello, Sai Nikhila Yavanamanda!\n",
            "    Enter the second sentence: Yavanamanda Sai Nikhila\n",
            "\n",
            "(b) Transformed Sentences:\n",
            "Sentence1: ['Hello', 'Sai', 'Nikhila', 'Yavanamanda']\n",
            "Sentence2: ['Yavanamanda', 'Sai', 'Nikhila']\n",
            "\n",
            "(c) Common Words:\n",
            "Common Words: ['Nikhila', 'Sai', 'Yavanamanda']\n",
            "\n",
            "(d) Sanitized Sentences:\n",
            "Sanitized Sentence1: Hello Sai Nikhila Yavanamanda\n",
            "Sanitized Sentence2: Yavanamanda Sai Nikhila\n",
            "\n",
            "(e) Vowel Counts:\n",
            "Sentence1: a:7, e:1, i:3, o:1, u:0\n",
            "Sentence2: a:7, e:0, i:3, o:0, u:0\n"
          ]
        }
      ],
      "source": [
        "# Your code here\n",
        "import string\n",
        "\n",
        "# (a) Prompt the user to input two sentences.\n",
        "user_input1 = input(\"(a) Enter the first sentence: \")\n",
        "user_input2 = input(\"    Enter the second sentence: \")\n",
        "\n",
        "# (b) Transform each sentence into a list of words.\n",
        "transform = str.maketrans(\"\", \"\", string.punctuation)\n",
        "# Remove trailing punctuation from each word in the sentences using strip() and split() seperates the words in sentence.\n",
        "sentence1_words_list = [word.strip(string.punctuation) for word in user_input1.split()]\n",
        "sentence2_words_list = [word.strip(string.punctuation) for word in user_input2.split()]\n",
        "\n",
        "# (c) Compare the two sentences. Print out a list of words that occur in both sentences.\n",
        "common_words = list(set(sentence1_words_list) & set(sentence2_words_list))\n",
        "\n",
        "# (d) Remove any punctuation from the sentence and print the sanitized sentences.\n",
        "# Use str.translate() to remove all specified punctuation characters from the sentences.\n",
        "sanitized_sentence1 = user_input1.translate(str.maketrans(\"\", \"\", string.punctuation))\n",
        "sanitized_sentence2 = user_input2.translate(str.maketrans(\"\", \"\", string.punctuation))\n",
        "\n",
        "# (e) Count the number of vowels in each of the sentences.\n",
        "# Create a list of vowels and count the occurrences of each vowel in the lowercased sentences.\n",
        "vowels = \"aeiou\"\n",
        "vowel_sentence1 = {vowel: user_input1.lower().count(vowel) for vowel in vowels}\n",
        "vowel_sentence2 = {vowel: user_input2.lower().count(vowel) for vowel in vowels}\n",
        "\n",
        "# Print the results\n",
        "print(\"\\n(b) Transformed Sentences:\")\n",
        "print(\"Sentence1:\", sentence1_words_list)\n",
        "print(\"Sentence2:\", sentence2_words_list)\n",
        "\n",
        "print(\"\\n(c) Common Words:\")\n",
        "print(\"Common Words:\", common_words)\n",
        "\n",
        "print(\"\\n(d) Sanitized Sentences:\")\n",
        "print(\"Sanitized Sentence1:\", sanitized_sentence1)\n",
        "print(\"Sanitized Sentence2:\", sanitized_sentence2)\n",
        "\n",
        "print(\"\\n(e) Vowel Counts:\")\n",
        "print(\"Sentence1:\", \", \".join([f\"{vowel}:{count}\" for vowel, count in vowel_sentence1.items()]))\n",
        "print(\"Sentence2:\", \", \".join([f\"{vowel}:{count}\" for vowel, count in vowel_sentence2.items()]))\n",
        "\n"
      ]
    },
    {
      "cell_type": "markdown",
      "metadata": {
        "id": "OP4-5qxAtInv"
      },
      "source": [
        "# Question 4 (20 Points)"
      ]
    },
    {
      "cell_type": "markdown",
      "metadata": {
        "id": "uzN4_hDptK9U"
      },
      "source": [
        "Design and implement a simple command-line calculator program. The program should handle both integers and floating-point numbers.\n",
        "\n",
        "(a) Write program that takes a mathematical expression as input and evaluates it. The program should support addition, subtraction, multiplication, and division.\n",
        "\n",
        "(b) Extend the calculator to handle parentheses in mathematical expressions. Implement the necessary logic to evaluate expressions with nested parentheses.\n",
        "\n",
        "(c) Enhance your calculator to include additional mathematical operations such as exponentiation, square root, and modulus.\n",
        "\n",
        "(d) Implement error handling in the calculator program. Handle cases such as division by zero and invalid input expressions. Provide meaningful error messages.\n",
        "\n",
        "(e) Implement a command to exit the calculator."
      ]
    },
    {
      "cell_type": "code",
      "execution_count": 5,
      "metadata": {
        "colab": {
          "base_uri": "https://localhost:8080/"
        },
        "id": "8nQnVxjJuYtu",
        "outputId": "23636d98-5c80-4b60-95f7-1e05bdc70ba2"
      },
      "outputs": [
        {
          "output_type": "stream",
          "name": "stdout",
          "text": [
            "Simple Command-Line Calculator\n",
            "Type 'exit' to end the calculator.\n",
            "Enter a mathematical expression: (3**3)*2\n",
            "Result: 54\n",
            "Enter a mathematical expression: exit\n",
            "Exiting the calculator. Goodbye!\n"
          ]
        }
      ],
      "source": [
        "import math\n",
        "\n",
        "# Function to evaluate a mathematical expression\n",
        "def evaluate_expression(expression):\n",
        "    try:\n",
        "        # Evaluate the expression with restricted built-ins and additional functions like sqrt\n",
        "        result = eval(expression, {\"__builtins__\": None}, {\"sqrt\": math.sqrt})\n",
        "        return result\n",
        "    except (ZeroDivisionError, ValueError, SyntaxError):\n",
        "        # Handle errors such as division by zero, invalid expressions, or value errors\n",
        "        return \"Error: Invalid expression or division by zero.\"\n",
        "\n",
        "# Main calculator function\n",
        "def calculator():\n",
        "    print(\"Simple Command-Line Calculator\")\n",
        "    print(\"Type 'exit' to end the calculator.\")\n",
        "\n",
        "    while True:\n",
        "        user_input = input(\"Enter a mathematical expression: \")\n",
        "\n",
        "        # Command to exit the calculator\n",
        "        if user_input.lower() == 'exit':\n",
        "            print(\"Exiting the calculator. Goodbye!\")\n",
        "            break\n",
        "\n",
        "        # Evaluate the mathematical expression entered by the user\n",
        "        result = evaluate_expression(user_input)\n",
        "        print(\"Result:\", result)\n",
        "\n",
        "if __name__ == \"__main__\":\n",
        "    calculator()\n"
      ]
    },
    {
      "cell_type": "markdown",
      "metadata": {
        "id": "z3tBE7E-Xn5X"
      },
      "source": [
        "# Question 5 (30 points).\n",
        "\n",
        "In the field of Data Science, data is often formatted as a comma-delimited (CSV) file, where each line in a file corresponds to a field's value. Refer to Chapter 9 (p. 106) for more information on comma-delimited files.\n",
        "\n",
        "To answer this question, you will need to download the file [Assignment1_denton_housing.csv](https://raw.githubusercontent.com/unt-iialab/info5731-spring2022/main/assignments/Assignment1_denton_housing.csv) included with this assignment. The file contains statistics about housing in the city of Denton from 2008 to 2014. Write a program to implement the following questions.\n",
        "\n",
        "(a) (5 pts) Calculate the difference in the number of Occupied Housing Units from year to year and print it. The difference must be calculated for the consecutive years such as 2008-2009, 2009-2010 etc. Finally, print the values in the ascending order.\n",
        "\n",
        "(b) (5 pts) For all the years, calculate the percentage of housing units which are vacant an occupied. Print the results in the following format:\n",
        "\n",
        "Year Vacant Housing Units Occupied Housing Units\n",
        "\n",
        "    2008  30%   70%                          \n",
        "\t2009 ----- -----\n",
        "\t2010 ----- -----\n",
        "    2011 ----- -----\n",
        "\t2012 ----- -----\n",
        "    2013 ----- -----\n",
        "\t2014 ----- -----\n",
        "  \n",
        "  \n",
        "\n",
        "(c) (10 pts) Calculate and print the valued and years in which the highest number of housing units were vacant and occupied. Print the results in the following format:  \n",
        "\n",
        "                              Year\tValue\n",
        "\tVacant Housing Units\t  -----   -----\n",
        "\tOccupied Housing Units\t-----   -----\n",
        "\n",
        "(d) (10 pts) Calculate the harmonic mean of the total housing units and print it out. You can find the information about harmonic mean here: https://ncalculators.com/statistics/harmonic-mean-calculator.htm"
      ]
    },
    {
      "cell_type": "code",
      "source": [
        "#a\n",
        "import pandas as pd\n",
        "url = \"https://raw.githubusercontent.com/unt-iialab/info5731-spring2022/main/assignments/Assignment1_denton_housing.csv\"\n",
        "df = pd.read_csv(url)\n",
        "occupied_housing_units_df = df[df['title_field'] == 'Occupied Housing Units']\n",
        "occupied_housing_units_df_sorted = occupied_housing_units_df.sort_values(by='year')\n",
        "occupied_housing_units_df_sorted['Occupied_Housing_Units_Diff'] = occupied_housing_units_df_sorted['value'].diff()\n",
        "sorted_df = occupied_housing_units_df_sorted.sort_values(by='Occupied_Housing_Units_Diff', ascending=True)\n",
        "print(sorted_df[['year','Occupied_Housing_Units_Diff']])"
      ],
      "metadata": {
        "id": "dsbjy07AHJF4",
        "colab": {
          "base_uri": "https://localhost:8080/"
        },
        "outputId": "9dead0bd-13c3-4219-aed2-7723dff3424e"
      },
      "execution_count": 6,
      "outputs": [
        {
          "output_type": "stream",
          "name": "stdout",
          "text": [
            "    year  Occupied_Housing_Units_Diff\n",
            "17  2009                       -795.0\n",
            "11  2011                       -303.0\n",
            "8   2012                       1404.0\n",
            "5   2013                       1565.0\n",
            "2   2014                       2622.0\n",
            "14  2010                       5091.0\n",
            "20  2008                          NaN\n"
          ]
        }
      ]
    },
    {
      "cell_type": "code",
      "source": [
        "#b\n",
        "import pandas as pd\n",
        "url = \"https://raw.githubusercontent.com/unt-iialab/info5731-spring2022/main/assignments/Assignment1_denton_housing.csv\"\n",
        "df = pd.read_csv(url)\n",
        "vacant_df = df[df['title_field'] == 'Vacant Housing Units']\n",
        "occupied_df = df[df['title_field'] == 'Occupied Housing Units']\n",
        "total_df=df[df['title_field'] == 'Total Housing Units']\n",
        "merged_df = pd.merge(vacant_df, occupied_df,on='year', suffixes=('_vacant', '_occupied'))\n",
        "merged_total_df = pd.merge(merged_df, total_df,on='year')\n",
        "merged_total_df['vacant_percentage'] = ((merged_total_df['value_vacant'] / merged_total_df['value'])* 100).round(2).astype(str) + '%'\n",
        "merged_total_df['occupied_percentage'] = ((merged_total_df['value_occupied'] / merged_total_df['value']) * 100).round(2).astype(str) + '%'\n",
        "print(merged_total_df[['year','vacant_percentage','occupied_percentage']])"
      ],
      "metadata": {
        "id": "yqz_9PB1HFoy",
        "colab": {
          "base_uri": "https://localhost:8080/"
        },
        "outputId": "08b54a3a-64c2-407f-e472-97bbf83fca3d"
      },
      "execution_count": 7,
      "outputs": [
        {
          "output_type": "stream",
          "name": "stdout",
          "text": [
            "   year vacant_percentage occupied_percentage\n",
            "0  2014             5.73%              94.27%\n",
            "1  2013              8.8%               91.2%\n",
            "2  2012             6.68%              93.32%\n",
            "3  2011             9.38%              90.62%\n",
            "4  2010             8.14%              91.86%\n",
            "5  2009             9.07%              90.93%\n",
            "6  2008            10.88%              89.12%\n"
          ]
        }
      ]
    },
    {
      "cell_type": "code",
      "execution_count": 8,
      "metadata": {
        "id": "lqGYuHBhcsRH",
        "colab": {
          "base_uri": "https://localhost:8080/"
        },
        "outputId": "84a204f1-088f-4af3-ce93-13f84457af6a"
      },
      "outputs": [
        {
          "output_type": "stream",
          "name": "stdout",
          "text": [
            "                         Year    Value\n",
            "Vacant Housing Units      2008   4483\n",
            "Occupied Housing Units    2014   46295\n"
          ]
        }
      ],
      "source": [
        "#c\n",
        "import pandas as pd\n",
        "url = \"https://raw.githubusercontent.com/unt-iialab/info5731-spring2022/main/assignments/Assignment1_denton_housing.csv\"\n",
        "df = pd.read_csv(url)\n",
        "vacant_df = df[df['title_field'] == 'Vacant Housing Units']\n",
        "occupied_df = df[df['title_field'] == 'Occupied Housing Units']\n",
        "merged_df = pd.merge(vacant_df, occupied_df,on='year', suffixes=('_vacant', '_occupied'))\n",
        "max_vacant_year = merged_df.loc[merged_df['value_vacant'].idxmax(), 'year']\n",
        "max_vacant_value = merged_df['value_vacant'].max()\n",
        "max_occupied_year = merged_df.loc[merged_df['value_occupied'].idxmax(), 'year']\n",
        "max_occupied_value = merged_df['value_occupied'].max()\n",
        "print(\"                         Year    Value\")\n",
        "print(\"Vacant Housing Units      {}   {}\".format(max_vacant_year, max_vacant_value))\n",
        "print(\"Occupied Housing Units    {}   {}\".format(max_occupied_year, max_occupied_value))"
      ]
    },
    {
      "cell_type": "code",
      "source": [
        "#d\n",
        "import pandas as pd\n",
        "url = \"https://raw.githubusercontent.com/unt-iialab/info5731-spring2022/main/assignments/Assignment1_denton_housing.csv\"\n",
        "df = pd.read_csv(url)\n",
        "total_housing_df=df[df['title_field'] == 'Total Housing Units']\n",
        "n = len(total_housing_df)\n",
        "total_housing_units_inv_sum = sum(1 / x for x in total_housing_df['value'])\n",
        "harmonic_mean = n / total_housing_units_inv_sum\n",
        "print(\"Harmonic mean of Total Housing Units:\", round(harmonic_mean,2))"
      ],
      "metadata": {
        "colab": {
          "base_uri": "https://localhost:8080/"
        },
        "id": "CBGHe9N3R2Q0",
        "outputId": "69a03a8b-871c-4e1c-ad33-1a4d85f49348"
      },
      "execution_count": 9,
      "outputs": [
        {
          "output_type": "stream",
          "name": "stdout",
          "text": [
            "Harmonic mean of Total Housing Units: 44398.29\n"
          ]
        }
      ]
    },
    {
      "cell_type": "markdown",
      "metadata": {
        "id": "q8BFCvWp32cf"
      },
      "source": [
        "# Mandatory Question\n",
        "\n",
        "Provide your thoughts on the assignment. What did you find challenging, and what aspects did you enjoy? Your opinion on the provided time to complete the assignment. Share any suggestions for improvement. Your feedback will be valuable for enhancing the learning experience."
      ]
    },
    {
      "cell_type": "code",
      "execution_count": null,
      "metadata": {
        "id": "_e557s2w4BpK"
      },
      "outputs": [],
      "source": [
        "# Write your response below"
      ]
    }
  ],
  "metadata": {
    "colab": {
      "provenance": [],
      "include_colab_link": true
    },
    "kernelspec": {
      "display_name": "Python 3 (ipykernel)",
      "language": "python",
      "name": "python3"
    },
    "language_info": {
      "codemirror_mode": {
        "name": "ipython",
        "version": 3
      },
      "file_extension": ".py",
      "mimetype": "text/x-python",
      "name": "python",
      "nbconvert_exporter": "python",
      "pygments_lexer": "ipython3",
      "version": "3.9.12"
    }
  },
  "nbformat": 4,
  "nbformat_minor": 0
}